{
 "cells": [
  {
   "cell_type": "code",
   "execution_count": 4,
   "metadata": {
    "jupyter": {
     "is_executing": true
    }
   },
   "outputs": [],
   "source": [
    "from settings import CHROMEDRIVER_PATH\n",
    "from selenium.webdriver.support.ui import WebDriverWait\n",
    "from selenium.webdriver.support import expected_conditions as EC"
   ]
  },
  {
   "cell_type": "code",
   "execution_count": 5,
   "metadata": {},
   "outputs": [],
   "source": [
    "from selenium import webdriver\n",
    "from selenium.webdriver.chrome.service import Service\n",
    "from selenium.webdriver.common.by import By\n",
    "from selenium.webdriver.common.keys import Keys "
   ]
  },
  {
   "cell_type": "code",
   "execution_count": 6,
   "metadata": {},
   "outputs": [],
   "source": [
    "service = Service(\"C:/Users/mehdi/Documents/webdrivers/chromedriver.exe\")\n",
    "driver = webdriver.Chrome(service=service)  "
   ]
  },
  {
   "cell_type": "code",
   "execution_count": 7,
   "metadata": {},
   "outputs": [],
   "source": [
    "url='https://akharinkhabar.ir/money/10242752'"
   ]
  },
  {
   "cell_type": "code",
   "execution_count": 8,
   "metadata": {},
   "outputs": [],
   "source": [
    "driver.get(url) "
   ]
  },
  {
   "cell_type": "code",
   "execution_count": 9,
   "metadata": {},
   "outputs": [
    {
     "name": "stdout",
     "output_type": "stream",
     "text": [
      "Title: بیت کوین دوباره به سطح ۶۴ هزار دلار بازگشت\n",
      "Breadcrumb: اقتصادی\n",
      "Image URL: https://app.akharinkhabar.ir/images/2024/10/08/fad435f1-c9d8-45bb-be59-ac2b222790c4.jpeg\n",
      "Content: تسنیم/علی رغم افزایش ۵.۲ درصدی قیمت بیت کوین بین سوم تا هفتم اکتبر، این ارز مجازی از ۳۱ ژوئیه نتوانسته تا بالاتر از ۶۶ هزار دلار افزایش یابد و پایینتر از ۶۴۰۰۰ دلار معامله میشود.\n",
      "\n",
      "به گزارش کوین تلگراف، در شرایطی که سرمایه‌گذاران بازار سهام و گزینه‌های نقدی را در بحبوحه بی‌ثباتی‌های اجتماعی سیاسی ترجیح می‌دهند، بیت کوین نتوانسته از سطح 64000 دلار فراتر برود.\n",
      "علی رغم افزایش 5.2 درصدی قیمت بیت کوین بین سوم تا هفتم اکتبر، این ارز مجازی از 31 ژوئیه نتوانسته تا بالاتر از 66 هزار دلار افزایش یابد. برخی تحلیلگران عقیده دارند افزایش بدهی فدرال آمریکا به نفع بیت کوین است اما تاثیر چندانی بر قیمت آن در کوتاه مدت ندارد. بنظر می‌رسد اصلی‌ترین عامل تاثیرگذار بر قیمت بیت کوین وقایع اجتماعی سیاسی است.\n",
      "\n",
      "کاهش قیمت بیت کوین و اتر به پایین‌ترین رقم طی چند ماه گذشته\n",
      "یکی دیگر از دلایل ضعف بیت کوین افزایش ارزش دلار آمریکاست. شاخص دلار در هفتم اکتبر تا 102.5 افزایش یافت، در حالی که در سی‌ام سپتامبر برابر با 100.4 بود.\n",
      "جهت فهم دلیل شکست بیت کوین برای رسیدن به بالاتر از 66 هزار دلار باید دلیل محدود شدن رشد حساسیت سرمایه‌گذاران را جستجو کرد. برای مثال بی‌ثباتی در مورد رشد اقتصاد جهان، تشدید جنگ در خاورمیانه و تاثیر انتخابات ریاست جمهوری آمریکا از دلایل قابل توجه هستند.\n",
      "گزارش بهتر از حد انتظار اشتغال در آمریکا در ماه سپتامبر خطررکود اقتصادی را از بین برد اما باعث شد احتمال کاهش 0.50 درصدی نرخ بهره هم در اجلاس ماه آینده میلادی به صفر برسد، در حالی که این احتمال در دو هفته گذشته 40 درصد بود.\n",
      "بنابراین دلیل اصلی اینکه بیت کوین پایین‌تر از سطح 64000 دلار معامله می‌شود، فضای اقتصاد کلان بوده که به نفع بازار سهام است و باعث شده سرمایه‌گذاران به دنبال گزینه‌های نقدی در بحبوحه بی‌ثباتی‌های اجتماعی سیاسی باشند.\n",
      "به پیج اینستاگرامی «آخرین خبر» بپیوندید\n",
      "instagram.com/akharinkhabar\n",
      "Views: 412\n"
     ]
    }
   ],
   "source": [
    "\n",
    "# Wait for the page to load (optional but recommended)\n",
    "driver.implicitly_wait(10)\n",
    "\n",
    "# Scrape the title of the news article\n",
    "title = driver.find_element(By.CLASS_NAME, \"news_detail_title__S7MbA\").text\n",
    "print(\"Title:\", title)\n",
    "\n",
    "# Scrape the breadcrumb (e.g., \"اقتصادی\")\n",
    "breadcrumb = driver.find_element(By.CLASS_NAME, \"news_detail_breadcrumb__a6lNb\").text\n",
    "print(\"Breadcrumb:\", breadcrumb)\n",
    "\n",
    "# Scrape the image URL\n",
    "image = driver.find_element(By.CSS_SELECTOR, \"div.image-card_container__G5ufy img\").get_attribute(\"src\")\n",
    "print(\"Image URL:\", image)\n",
    "\n",
    "# Scrape the content of the article\n",
    "content = driver.find_element(By.CLASS_NAME, \"content_content__sfzd5\").text\n",
    "print(\"Content:\", content)\n",
    "\n",
    "# Scrape the view count\n",
    "\n",
    "view_count = driver.find_element(By.CSS_SELECTOR, \"div.statistics_statistics__fiy3l div:nth-child(3) div\").text\n",
    "print(\"Views:\", view_count)\n",
    "\n",
    "# Close the WebDriver\n",
    "# driver.quit()"
   ]
  }
 ],
 "metadata": {
  "kernelspec": {
   "display_name": "env",
   "language": "python",
   "name": "python3"
  },
  "language_info": {
   "codemirror_mode": {
    "name": "ipython",
    "version": 3
   },
   "file_extension": ".py",
   "mimetype": "text/x-python",
   "name": "python",
   "nbconvert_exporter": "python",
   "pygments_lexer": "ipython3",
   "version": "3.10.0"
  }
 },
 "nbformat": 4,
 "nbformat_minor": 2
}
