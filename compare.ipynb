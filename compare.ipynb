{
 "cells": [
  {
   "cell_type": "code",
   "execution_count": 1,
   "metadata": {},
   "outputs": [],
   "source": [
    "import pandas as pd\n",
    "\n",
    "def mark_duplicates(file1_path, file2_path, output_path):\n",
    "    \"\"\"\n",
    "    Check for duplicates between two Excel files using column indices\n",
    "    Only writes to column K when a match is found\n",
    "    \"\"\"\n",
    "    \n",
    "    # Read both Excel files\n",
    "    df1 = pd.read_excel(file1_path)\n",
    "    df2 = pd.read_excel(file2_path)\n",
    "    \n",
    "    # Get column C (index 2) values from first file\n",
    "    values_to_check = set(df1.iloc[:, 2].astype(str))\n",
    "    \n",
    "    # Make sure we have enough columns for column K (index 10)\n",
    "    while len(df2.columns) < 11:  # We need at least 11 columns (0 to 10)\n",
    "        df2[f'Column{len(df2.columns)}'] = ''\n",
    "    \n",
    "    # Check each value in column C of second file\n",
    "    for index, row in df2.iterrows():\n",
    "        if str(row.iloc[2]) in values_to_check:  \n",
    "            # Using iloc[2] for column C\n",
    "            df2.iloc[index, 10] = 'duplicate'  # Using index 10 for column K\n",
    "    \n",
    "    # Save the modified second file\n",
    "    df2.to_excel(output_path, index=False)\n",
    "\n",
    "# Example usage:\n",
    "# mark_duplicates('1.xlsx', '2.xlsx', 'output.xlsx')"
   ]
  },
  {
   "cell_type": "markdown",
   "metadata": {},
   "source": []
  },
  {
   "cell_type": "code",
   "execution_count": 2,
   "metadata": {},
   "outputs": [],
   "source": [
    "mark_duplicates('1.xlsx', '2.xlsx', 'output.xlsx')"
   ]
  }
 ],
 "metadata": {
  "kernelspec": {
   "display_name": "Python 3",
   "language": "python",
   "name": "python3"
  },
  "language_info": {
   "codemirror_mode": {
    "name": "ipython",
    "version": 3
   },
   "file_extension": ".py",
   "mimetype": "text/x-python",
   "name": "python",
   "nbconvert_exporter": "python",
   "pygments_lexer": "ipython3",
   "version": "3.10.0"
  }
 },
 "nbformat": 4,
 "nbformat_minor": 2
}
