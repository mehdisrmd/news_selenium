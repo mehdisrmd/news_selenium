{
 "cells": [
  {
   "cell_type": "code",
   "execution_count": 19,
   "metadata": {},
   "outputs": [],
   "source": [
    "from selenium.webdriver.support.ui import WebDriverWait\n",
    "from selenium.webdriver.support import expected_conditions as EC\n",
    "from selenium import webdriver\n",
    "from selenium.webdriver.chrome.service import Service\n",
    "from selenium.webdriver.common.by import By\n",
    "from selenium.webdriver.common.keys import Keys \n",
    "from docx import Document\n",
    "from docx.shared import Pt  # For font size\n",
    "from docx.oxml.ns import qn  # For language customization\n",
    "from docx.oxml import parse_xml  # For custom XML styling\n",
    "from docx.shared import RGBColor  # For font color\n",
    "from docx.enum.text import WD_PARAGRAPH_ALIGNMENT\n",
    "from docx.oxml import OxmlElement\n",
    "import random\n",
    "import string\n"
   ]
  },
  {
   "cell_type": "code",
   "execution_count": 20,
   "metadata": {},
   "outputs": [],
   "source": [
    "chrome_options =  webdriver.ChromeOptions()\n",
    "title_search_news_list=[]\n",
    "chrome_options.add_argument(\"--disable-gpu\")  \n",
    "chrome_options.add_argument(\"--blink-settings=imagesEnabled=false\")  \n",
    "chrome_options.add_experimental_option(\n",
    "    \"prefs\", {\"profile.managed_default_content_settings.images\": 2,}\n",
    ")\n",
    "chrome_options.add_experimental_option(\"excludeSwitches\", [\"enable-logging\"])\n",
    "chrome_options.add_argument(\"--mute-audio\")\n",
    "chrome_options.add_argument(\"--autoplay-policy=no-user-gesture-required\")# Abort the request if it's a video file\n",
    "\n",
    "doc = Document()\n",
    "sentence=''"
   ]
  },
  {
   "cell_type": "code",
   "execution_count": 21,
   "metadata": {},
   "outputs": [],
   "source": [
    "service = Service(\"C:/Users/mehdi/Documents/webdrivers/chromedriver.exe\")\n",
    "driver = webdriver.Chrome(service=service,options=chrome_options)  "
   ]
  },
  {
   "cell_type": "code",
   "execution_count": 22,
   "metadata": {},
   "outputs": [],
   "source": [
    "driver.get('https://www.google.com/advanced_search')"
   ]
  },
  {
   "cell_type": "code",
   "execution_count": 23,
   "metadata": {},
   "outputs": [],
   "source": [
    "current_sentence=''\n",
    "news_websites_url=['https://akharinkhabar.ir',#0\n",
    "                   'https://nournews.ir',#1\n",
    "                   'https://isna.ir',#2\n",
    "                   'https://farsnews.ir',#3\n",
    "                   'https://www.irna.ir',#4\n",
    "                   'https://www.iribnews.ir',#5\n",
    "                   'https://www.mehrnews.com',#6\n",
    "                   'https://www.tasnimnews.com'#7\n",
    "                   ]\n",
    "key_word = [\"لبنان\", \"غزه\", \"ایران\"]\n",
    "result_map={}\n",
    "custom_key=0"
   ]
  },
  {
   "cell_type": "code",
   "execution_count": 24,
   "metadata": {},
   "outputs": [],
   "source": [
    "public_url=news_websites_url[1]#choose webisite"
   ]
  },
  {
   "cell_type": "code",
   "execution_count": 25,
   "metadata": {},
   "outputs": [],
   "source": [
    "def compare(key,text):\n",
    "    print('----------------------------')\n",
    "    print(f'sentence{sentence}')\n",
    "    total_count = sum(text.lower().split().count(word.lower()) for word in key_word)\n",
    "    print(f'custom_key{key}')\n",
    "    # Create the result list\n",
    "    result = [total_count, text]\n",
    "    print(f'compare customkey{key}')\n",
    "    # Add the result to a map with a custom key\n",
    "     # Define your custom key\n",
    "    result_map[''.join(random.choices(string.ascii_letters + string.digits, k=10))]=result\n",
    "    \n",
    "    # Output\n",
    "    print(\"Result:\", result)\n",
    "    print(\"Map:\", result_map)"
   ]
  },
  {
   "cell_type": "code",
   "execution_count": 26,
   "metadata": {},
   "outputs": [],
   "source": [
    "def akharinKhabarnews():\n",
    "    print('akharin')\n",
    "    sentence=driver.find_element(By.CLASS_NAME, \"content_content__sfzd5\").text\n",
    "    return sentence\n",
    "    print(sentence)\n",
    "    print('akharin done!')\n",
    "    "
   ]
  },
  {
   "cell_type": "code",
   "execution_count": 27,
   "metadata": {},
   "outputs": [],
   "source": [
    "def tasnim():\n",
    "    sentence=str(driver.find_element(By.CLASS_NAME, \"story\"))\n",
    "    return sentence\n",
    "    print('tasni done!')"
   ]
  },
  {
   "cell_type": "code",
   "execution_count": 28,
   "metadata": {},
   "outputs": [],
   "source": [
    "def iribnews():\n",
    "    container= str(driver.find_element(By.CLASS_NAME, \"div.news_center_body\"))\n",
    "    dive= str(driver.find_element(By.CLASS_NAME, \"div.body.body_media_content_show\"))\n",
    "    sentence=f\"{container} \\n {dive}\"\n",
    "    return sentence\n",
    "    print('iribnews done!')"
   ]
  },
  {
   "cell_type": "code",
   "execution_count": 29,
   "metadata": {},
   "outputs": [],
   "source": [
    "def noornews():\n",
    "    sentence= driver.find_element(By.XPATH, '//*[@id=\"div_balance_right\"]/section/div').text\n",
    "    return sentence\n",
    "    print('noor done!')"
   ]
  },
  {
   "cell_type": "code",
   "execution_count": 30,
   "metadata": {},
   "outputs": [],
   "source": [
    "def irna():\n",
    "    elements = driver.find_elements(By.CSS_SELECTOR, \".item-text p\")\n",
    "    sentence=\" \".join([element.text for element in elements])\n",
    "    return sentence\n",
    "    print('irna done!')"
   ]
  },
  {
   "cell_type": "code",
   "execution_count": 31,
   "metadata": {},
   "outputs": [],
   "source": [
    "def fars():\n",
    "    news_text_elements=driver.find_element(By.CSS_SELECTOR, \".n-nqnd1g span.auto-dir-block\")\n",
    "    sentence=\" \".join([element.text for element in news_text_elements])\n",
    "    return sentence\n",
    "    print('fars done!')"
   ]
  },
  {
   "cell_type": "code",
   "execution_count": 32,
   "metadata": {},
   "outputs": [],
   "source": [
    "def mehrnews():\n",
    "    sentence=driver.find_element(By.CSS_SELECTOR, 'div.item-body div.item-text').text\n",
    "    return sentence\n",
    "    print('mehr done!')\n",
    "    "
   ]
  },
  {
   "cell_type": "code",
   "execution_count": 33,
   "metadata": {},
   "outputs": [],
   "source": [
    "def isna():\n",
    "    summary = driver.find_element(By.CSS_SELECTOR, \".summary\").text\n",
    "    article_body = driver.find_element(By.CSS_SELECTOR, \".item-text\").text\n",
    "    sentence=f\"{summary}\\n\\n{article_body}\"\n",
    "    return sentence\n",
    "    print(' isna done!')"
   ]
  },
  {
   "cell_type": "code",
   "execution_count": 34,
   "metadata": {},
   "outputs": [],
   "source": [
    "# Fill the 'all these words' field\n",
    "all_words = driver.find_element(By.ID, 'xX4UFf')\n",
    "all_words.send_keys('سوریه لبنان')\n",
    "\n",
    "# Fill the 'this exact word or phrase' field\n",
    "exact_phrase = driver.find_element(By.ID, 'CwYCWc')\n",
    "exact_phrase.send_keys('صلح')\n",
    "\n",
    "# Fill the 'any of these words' field\n",
    "any_words = driver.find_element(By.ID, 'mSoczb')\n",
    "any_words.send_keys(' تهران')\n",
    "\n",
    "# Fill the 'none of these words' field\n",
    "none_words = driver.find_element(By.ID, 't2dX1c')\n",
    "none_words.send_keys('نتانیاهو')\n",
    "\n",
    "# Fill the 'numbers ranging from' field (start and end)\n",
    "# range_start = driver.find_element(By.ID, 'LK5akc')\n",
    "# range_start.send_keys('10')\n",
    "\n",
    "# range_end = driver.find_element(By.NAME, 'as_nhi')  # Note: 'as_nhi' doesn't have an ID but has a name attribute\n",
    "# range_end.send_keys('35 kg')\n",
    "driver.find_element(By.ID, 'NqEkZd').send_keys(public_url.replace(\"https://\", \"\").replace(\"http://\", \"\"))  # Fill 'Website or domain'\n",
    "advance_button=driver.find_element(By.XPATH,'//*[@id=\"s1zaZb\"]/div[5]/div[8]/div[2]/input[2]')\n",
    "advance_button.click()\n",
    "custom_key=0"
   ]
  },
  {
   "cell_type": "code",
   "execution_count": 35,
   "metadata": {},
   "outputs": [
    {
     "name": "stdout",
     "output_type": "stream",
     "text": [
      "Extracted Titles and URLs:\n",
      "Title: ظریف: ایران و روسیه به دنبال صلح در منطقه هستند\n",
      "URL: https://nournews.ir/fa/news/38795/%D8%B8%D8%B1%DB%8C%D9%81-%D8%A7%DB%8C%D8%B1%D8%A7%D9%86-%D9%88-%D8%B1%D9%88%D8%B3%DB%8C%D9%87-%D8%A8%D9%87-%D8%AF%D9%86%D8%A8%D8%A7%D9%84-%D8%B5%D9%84%D8%AD-%D8%AF%D8%B1-%D9%85%D9%86%D8%B7%D9%82%D9%87-%D9%87%D8%B3%D8%AA%D9%86%D8%AF\n",
      "--------------------------------------------------\n",
      "Title: آمریکا 11 فرد و نهاد سوریه را تحریم کرد\n",
      "URL: https://nournews.ir/fa/news/168584/%D8%A2%D9%85%D8%B1%DB%8C%DA%A9%D8%A7-11-%D9%81%D8%B1%D8%AF-%D9%88-%D9%86%D9%87%D8%A7%D8%AF-%D8%B3%D9%88%D8%B1%DB%8C%D9%87-%D8%B1%D8%A7-%D8%AA%D8%AD%D8%B1%DB%8C%D9%85-%DA%A9%D8%B1%D8%AF\n",
      "--------------------------------------------------\n",
      "Title: چندرسانه‌ای: چرا ائتلاف ایران، سوریه و روسیه، غرب را به هراس ...\n",
      "URL: https://nournews.ir/fa/news/59206/%DA%86%D9%86%D8%AF%D8%B1%D8%B3%D8%A7%D9%86%D9%87%E2%80%8C%D8%A7%DB%8C-%DA%86%D8%B1%D8%A7-%D8%A7%D8%A6%D8%AA%D9%84%D8%A7%D9%81-%D8%A7%DB%8C%D8%B1%D8%A7%D9%86%D8%8C-%D8%B3%D9%88%D8%B1%DB%8C%D9%87-%D9%88-%D8%B1%D9%88%D8%B3%DB%8C%D9%87%D8%8C-%D8%BA%D8%B1%D8%A8-%D8%B1%D8%A7-%D8%A8%D9%87-%D9%87%D8%B1%D8%A7%D8%B3-%D8%A7%D9%86%D8%AF%D8%A7%D8%AE%D8%AA%D9%87-%D8%A7%D8%B3%D8%AA%D8%9F\n",
      "--------------------------------------------------\n",
      "Title: کشور هایی که مقابل سوریه ایستادند در بازسازی آن نقشی ...\n",
      "URL: https://nournews.ir/fa/news/34678/%DA%A9%D8%B4%D9%88%D8%B1-%D9%87%D8%A7%DB%8C%DB%8C-%DA%A9%D9%87-%D9%85%D9%82%D8%A7%D8%A8%D9%84-%D8%B3%D9%88%D8%B1%DB%8C%D9%87-%D8%A7%DB%8C%D8%B3%D8%AA%D8%A7%D8%AF%D9%86%D8%AF-%D8%AF%D8%B1-%D8%A8%D8%A7%D8%B2%D8%B3%D8%A7%D8%B2%DB%8C-%D8%A2%D9%86-%D9%86%D9%82%D8%B4%DB%8C-%D9%86%D8%AE%D9%88%D8%A7%D9%87%D9%86%D8%AF-%D8%AF%D8%A7%D8%B4%D8%AA\n",
      "--------------------------------------------------\n",
      "Title: دمشق\n",
      "URL: https://nournews.ir/fa/tag/12942/%D8%AF%D9%85%D8%B4%D9%82\n",
      "--------------------------------------------------\n",
      "Title: تاکید رئیس مجلس بر گسترش روابط خارجی با سوریه\n",
      "URL: https://nournews.ir/fa/news/74078/%D8%AA%D8%A7%DA%A9%DB%8C%D8%AF-%D8%B1%D8%A6%DB%8C%D8%B3-%D9%85%D8%AC%D9%84%D8%B3-%D8%A8%D8%B1-%DA%AF%D8%B3%D8%AA%D8%B1%D8%B4-%D8%B1%D9%88%D8%A7%D8%A8%D8%B7-%D8%AE%D8%A7%D8%B1%D8%AC%DB%8C-%D8%A8%D8%A7-%D8%B3%D9%88%D8%B1%DB%8C%D9%87\n",
      "--------------------------------------------------\n",
      "Title: صلح و توسعه نه یک انتخاب بلکه یک ضرورت قطعی است\n",
      "URL: https://nournews.ir/fa/news/122027/%D8%B5%D9%84%D8%AD-%D9%88-%D8%AA%D9%88%D8%B3%D8%B9%D9%87-%D9%86%D9%87-%DB%8C%DA%A9-%D8%A7%D9%86%D8%AA%D8%AE%D8%A7%D8%A8-%D8%A8%D9%84%DA%A9%D9%87-%DB%8C%DA%A9-%D8%B6%D8%B1%D9%88%D8%B1%D8%AA-%D9%82%D8%B7%D8%B9%DB%8C-%D8%A7%D8%B3%D8%AA\n",
      "--------------------------------------------------\n",
      "Title: سخنگوی وزارت امور خارجه: آمریکایی‌ها فوراً خاک سوریه را ترک ...\n",
      "URL: https://nournews.ir/fa/news/102981/%D8%B3%D8%AE%D9%86%DA%AF%D9%88%DB%8C-%D9%88%D8%B2%D8%A7%D8%B1%D8%AA-%D8%A7%D9%85%D9%88%D8%B1-%D8%AE%D8%A7%D8%B1%D8%AC%D9%87-%D8%A2%D9%85%D8%B1%DB%8C%DA%A9%D8%A7%DB%8C%DB%8C%E2%80%8C%D9%87%D8%A7-%D9%81%D9%88%D8%B1%D8%A7%D9%8B-%D8%AE%D8%A7%DA%A9-%D8%B3%D9%88%D8%B1%DB%8C%D9%87-%D8%B1%D8%A7-%D8%AA%D8%B1%DA%A9-%DA%A9%D9%86%D9%86%D8%AF\n",
      "--------------------------------------------------\n",
      "Title: جهاد اسلامی: محور مقاومت از یمن گرفته تا لبنان و سوریه شریک ...\n",
      "URL: https://nournews.ir/fa/news/69289/%D8%AC%D9%87%D8%A7%D8%AF-%D8%A7%D8%B3%D9%84%D8%A7%D9%85%DB%8C-%D9%85%D8%AD%D9%88%D8%B1-%D9%85%D9%82%D8%A7%D9%88%D9%85%D8%AA-%D8%A7%D8%B2-%DB%8C%D9%85%D9%86-%DA%AF%D8%B1%D9%81%D8%AA%D9%87-%D8%AA%D8%A7-%D9%84%D8%A8%D9%86%D8%A7%D9%86-%D9%88-%D8%B3%D9%88%D8%B1%DB%8C%D9%87-%D8%B4%D8%B1%DB%8C%DA%A9-%D9%BE%DB%8C%D8%B1%D9%88%D8%B2%DB%8C-%D8%BA%D8%B2%D9%87-%D8%A7%D8%B3%D8%AA-%D8%A8%D8%B2%D8%B1%DA%AF%D8%AA%D8%B1%DB%8C%D9%86-%D9%85%D9%88%D8%B4%DA%A9-%D9%85%D9%82%D8%A7%D9%88%D9%85%D8%AA-%D9%81%D9%84%D8%B3%D8%B7%DB%8C%D9%86-%D8%A8%D9%87-%D9%86%D8%A7%D9%85-%D8%B4%D9%87%DB%8C%D8%AF-%D8%B3%D9%84%DB%8C%D9%85%D8%A7%D9%86%DB%8C-%D8%A7%D8%B3%D8%AA\n",
      "--------------------------------------------------\n",
      "All URLs:\n",
      "['https://nournews.ir/fa/news/38795/%D8%B8%D8%B1%DB%8C%D9%81-%D8%A7%DB%8C%D8%B1%D8%A7%D9%86-%D9%88-%D8%B1%D9%88%D8%B3%DB%8C%D9%87-%D8%A8%D9%87-%D8%AF%D9%86%D8%A8%D8%A7%D9%84-%D8%B5%D9%84%D8%AD-%D8%AF%D8%B1-%D9%85%D9%86%D8%B7%D9%82%D9%87-%D9%87%D8%B3%D8%AA%D9%86%D8%AF', 'https://nournews.ir/fa/news/168584/%D8%A2%D9%85%D8%B1%DB%8C%DA%A9%D8%A7-11-%D9%81%D8%B1%D8%AF-%D9%88-%D9%86%D9%87%D8%A7%D8%AF-%D8%B3%D9%88%D8%B1%DB%8C%D9%87-%D8%B1%D8%A7-%D8%AA%D8%AD%D8%B1%DB%8C%D9%85-%DA%A9%D8%B1%D8%AF', 'https://nournews.ir/fa/news/59206/%DA%86%D9%86%D8%AF%D8%B1%D8%B3%D8%A7%D9%86%D9%87%E2%80%8C%D8%A7%DB%8C-%DA%86%D8%B1%D8%A7-%D8%A7%D8%A6%D8%AA%D9%84%D8%A7%D9%81-%D8%A7%DB%8C%D8%B1%D8%A7%D9%86%D8%8C-%D8%B3%D9%88%D8%B1%DB%8C%D9%87-%D9%88-%D8%B1%D9%88%D8%B3%DB%8C%D9%87%D8%8C-%D8%BA%D8%B1%D8%A8-%D8%B1%D8%A7-%D8%A8%D9%87-%D9%87%D8%B1%D8%A7%D8%B3-%D8%A7%D9%86%D8%AF%D8%A7%D8%AE%D8%AA%D9%87-%D8%A7%D8%B3%D8%AA%D8%9F', 'https://nournews.ir/fa/news/34678/%DA%A9%D8%B4%D9%88%D8%B1-%D9%87%D8%A7%DB%8C%DB%8C-%DA%A9%D9%87-%D9%85%D9%82%D8%A7%D8%A8%D9%84-%D8%B3%D9%88%D8%B1%DB%8C%D9%87-%D8%A7%DB%8C%D8%B3%D8%AA%D8%A7%D8%AF%D9%86%D8%AF-%D8%AF%D8%B1-%D8%A8%D8%A7%D8%B2%D8%B3%D8%A7%D8%B2%DB%8C-%D8%A2%D9%86-%D9%86%D9%82%D8%B4%DB%8C-%D9%86%D8%AE%D9%88%D8%A7%D9%87%D9%86%D8%AF-%D8%AF%D8%A7%D8%B4%D8%AA', 'https://nournews.ir/fa/tag/12942/%D8%AF%D9%85%D8%B4%D9%82', 'https://nournews.ir/fa/news/74078/%D8%AA%D8%A7%DA%A9%DB%8C%D8%AF-%D8%B1%D8%A6%DB%8C%D8%B3-%D9%85%D8%AC%D9%84%D8%B3-%D8%A8%D8%B1-%DA%AF%D8%B3%D8%AA%D8%B1%D8%B4-%D8%B1%D9%88%D8%A7%D8%A8%D8%B7-%D8%AE%D8%A7%D8%B1%D8%AC%DB%8C-%D8%A8%D8%A7-%D8%B3%D9%88%D8%B1%DB%8C%D9%87', 'https://nournews.ir/fa/news/122027/%D8%B5%D9%84%D8%AD-%D9%88-%D8%AA%D9%88%D8%B3%D8%B9%D9%87-%D9%86%D9%87-%DB%8C%DA%A9-%D8%A7%D9%86%D8%AA%D8%AE%D8%A7%D8%A8-%D8%A8%D9%84%DA%A9%D9%87-%DB%8C%DA%A9-%D8%B6%D8%B1%D9%88%D8%B1%D8%AA-%D9%82%D8%B7%D8%B9%DB%8C-%D8%A7%D8%B3%D8%AA', 'https://nournews.ir/fa/news/102981/%D8%B3%D8%AE%D9%86%DA%AF%D9%88%DB%8C-%D9%88%D8%B2%D8%A7%D8%B1%D8%AA-%D8%A7%D9%85%D9%88%D8%B1-%D8%AE%D8%A7%D8%B1%D8%AC%D9%87-%D8%A2%D9%85%D8%B1%DB%8C%DA%A9%D8%A7%DB%8C%DB%8C%E2%80%8C%D9%87%D8%A7-%D9%81%D9%88%D8%B1%D8%A7%D9%8B-%D8%AE%D8%A7%DA%A9-%D8%B3%D9%88%D8%B1%DB%8C%D9%87-%D8%B1%D8%A7-%D8%AA%D8%B1%DA%A9-%DA%A9%D9%86%D9%86%D8%AF', 'https://nournews.ir/fa/news/69289/%D8%AC%D9%87%D8%A7%D8%AF-%D8%A7%D8%B3%D9%84%D8%A7%D9%85%DB%8C-%D9%85%D8%AD%D9%88%D8%B1-%D9%85%D9%82%D8%A7%D9%88%D9%85%D8%AA-%D8%A7%D8%B2-%DB%8C%D9%85%D9%86-%DA%AF%D8%B1%D9%81%D8%AA%D9%87-%D8%AA%D8%A7-%D9%84%D8%A8%D9%86%D8%A7%D9%86-%D9%88-%D8%B3%D9%88%D8%B1%DB%8C%D9%87-%D8%B4%D8%B1%DB%8C%DA%A9-%D9%BE%DB%8C%D8%B1%D9%88%D8%B2%DB%8C-%D8%BA%D8%B2%D9%87-%D8%A7%D8%B3%D8%AA-%D8%A8%D8%B2%D8%B1%DA%AF%D8%AA%D8%B1%DB%8C%D9%86-%D9%85%D9%88%D8%B4%DA%A9-%D9%85%D9%82%D8%A7%D9%88%D9%85%D8%AA-%D9%81%D9%84%D8%B3%D8%B7%DB%8C%D9%86-%D8%A8%D9%87-%D9%86%D8%A7%D9%85-%D8%B4%D9%87%DB%8C%D8%AF-%D8%B3%D9%84%DB%8C%D9%85%D8%A7%D9%86%DB%8C-%D8%A7%D8%B3%D8%AA']\n"
     ]
    }
   ],
   "source": [
    "data = []\n",
    "news_current_urls = []  # Variable to store all URLs\n",
    "elements = driver.find_elements(By.CLASS_NAME, \"LC20lb\")  # Locate elements with the specific class\n",
    "for element in elements:\n",
    "    title = element.text  # Get the title text\n",
    "    try:\n",
    "        parent = element.find_element(By.XPATH, \"..\")  # Move to the parent element (usually <a>)\n",
    "        url = parent.get_attribute(\"href\")  # Get the link\n",
    "        if title and url:\n",
    "            data.append({\"title\": title, \"url\": url})\n",
    "            news_current_urls.append(url)  # Save the URL in the variable\n",
    "    except Exception as e:\n",
    "        print(f\"Error processing element: {e}\")\n",
    "\n",
    "# Print Titles and URLs\n",
    "print(\"Extracted Titles and URLs:\")\n",
    "for item in data:\n",
    "    print(f\"Title: {item['title']}\")\n",
    "    title_search_news_list.append(item['title'])\n",
    "    \n",
    "    print(f\"URL: {item['url']}\")\n",
    "    print(\"-\" * 50)\n",
    "\n",
    "# Print URLs stored in `news_current_urls`\n",
    "print(\"All URLs:\")\n",
    "print(news_current_urls)"
   ]
  },
  {
   "cell_type": "code",
   "execution_count": null,
   "metadata": {},
   "outputs": [],
   "source": []
  },
  {
   "cell_type": "code",
   "execution_count": 36,
   "metadata": {},
   "outputs": [
    {
     "name": "stdout",
     "output_type": "stream",
     "text": [
      "Loading website 1/9: https://nournews.ir/fa/news/38795/%D8%B8%D8%B1%DB%8C%D9%81-%D8%A7%DB%8C%D8%B1%D8%A7%D9%86-%D9%88-%D8%B1%D9%88%D8%B3%DB%8C%D9%87-%D8%A8%D9%87-%D8%AF%D9%86%D8%A8%D8%A7%D9%84-%D8%B5%D9%84%D8%AD-%D8%AF%D8%B1-%D9%85%D9%86%D8%B7%D9%82%D9%87-%D9%87%D8%B3%D8%AA%D9%86%D8%AF\n"
     ]
    },
    {
     "name": "stdout",
     "output_type": "stream",
     "text": [
      "public:https://nournews.ir\n",
      "----------------------------\n",
      "sentence\n",
      "custom_key1\n",
      "compare customkey1\n",
      "Result: [8, 'ظریف: ایران و روسیه به دنبال صلح در منطقه هستند\\nوزیر امور خارجه جمهوری اسلامی ایران اعلام کرد: ایران و روسیه بر خلاف آمریکا به دنبال صلح و ثبات در منطقه هستند و طرح های ارایه شده از سوی دو کشور نشانگر این واقعیت است.\\n «محمد جواد ظریف» در دیدار با سرگئی لاوروف افزود: روابط دوجانبه ایران و روسیه امروز شاید در بهترین شرایط تاریخی خود قرار دارد.\\nوی اظهار داشت: برای دو کشور مهم در منطقه این روابط راهبردی است که همواره با قدرت ادامه پیدا خواهد کرد چرا که این اراده مسئولان جمهوری اسلامی است که به روابط با روسیه به عنوان یک همسایه بزرگ، مهم و یک قدرت بزرگ بین\\u200cالمللی به صورت راهبردی نگاه کنند.\\nوی ادامه داد: برخلاف دیگران که در منطقه ما به جنگ افروزی دامن می\\u200cزنند ایران و روسیه پیشنهادهای مهمی که بسیار هم شبیه به هم هستند برای صلح در منطقه ارایه کرده\\u200cاند. \\nظریف ارایه طرح گفت\\u200cوگوی روسیه در خلیج فارس و طرح صلح هرمز را در راستای چنین سیاسی عنوان کرد.\\nوزیر امور خارجه ایران در ادامه با اشاره به رزمایش مشترک ایران، روسیه و چین افزود: این مانور نشان دهنده همکاری و تلاش ما برای صلح در منطقه است.\\nظریف اظهار داشت: برخلاف آمریکا که تعهدات بین\\u200cالمللی خود را شکسته است، ایران و روسیه بر اجرای برجام تاکید کردند که ما از دیدگاه\\u200cهای مثبت روسیه در این زمینه متشکریم.\\nوی با بیان اینکه آمریکا هزاران مایل دورتر از مرزهای خود مردم را به اسم دفاع از خود به خاک و خون می کشد، اظهار داشت: اقدام اخیر آمریکا در بغداد تنها نمونه ای از رفتارهای اینچنینی آمریکا در منطقه است.\\nظریف همکاری ایران و روسیه در قالب آستانه را نمونه موفقی از همکاری های مشترک دو کشور برای بازگشت صلح در سوریه عنوان کرد و گفت: امیدوارم در دیدار امروز در خصوص مسایل مختلف منطقه ای، بین المللی، سوریه، افغانستان، عراق و برجام به طور مفصل تبادل نظر کنیم.\\n\\nخبرگزاری ایرنا']\n",
      "Map: {'epo5GTkzfz': [8, 'ظریف: ایران و روسیه به دنبال صلح در منطقه هستند\\nوزیر امور خارجه جمهوری اسلامی ایران اعلام کرد: ایران و روسیه بر خلاف آمریکا به دنبال صلح و ثبات در منطقه هستند و طرح های ارایه شده از سوی دو کشور نشانگر این واقعیت است.\\n «محمد جواد ظریف» در دیدار با سرگئی لاوروف افزود: روابط دوجانبه ایران و روسیه امروز شاید در بهترین شرایط تاریخی خود قرار دارد.\\nوی اظهار داشت: برای دو کشور مهم در منطقه این روابط راهبردی است که همواره با قدرت ادامه پیدا خواهد کرد چرا که این اراده مسئولان جمهوری اسلامی است که به روابط با روسیه به عنوان یک همسایه بزرگ، مهم و یک قدرت بزرگ بین\\u200cالمللی به صورت راهبردی نگاه کنند.\\nوی ادامه داد: برخلاف دیگران که در منطقه ما به جنگ افروزی دامن می\\u200cزنند ایران و روسیه پیشنهادهای مهمی که بسیار هم شبیه به هم هستند برای صلح در منطقه ارایه کرده\\u200cاند. \\nظریف ارایه طرح گفت\\u200cوگوی روسیه در خلیج فارس و طرح صلح هرمز را در راستای چنین سیاسی عنوان کرد.\\nوزیر امور خارجه ایران در ادامه با اشاره به رزمایش مشترک ایران، روسیه و چین افزود: این مانور نشان دهنده همکاری و تلاش ما برای صلح در منطقه است.\\nظریف اظهار داشت: برخلاف آمریکا که تعهدات بین\\u200cالمللی خود را شکسته است، ایران و روسیه بر اجرای برجام تاکید کردند که ما از دیدگاه\\u200cهای مثبت روسیه در این زمینه متشکریم.\\nوی با بیان اینکه آمریکا هزاران مایل دورتر از مرزهای خود مردم را به اسم دفاع از خود به خاک و خون می کشد، اظهار داشت: اقدام اخیر آمریکا در بغداد تنها نمونه ای از رفتارهای اینچنینی آمریکا در منطقه است.\\nظریف همکاری ایران و روسیه در قالب آستانه را نمونه موفقی از همکاری های مشترک دو کشور برای بازگشت صلح در سوریه عنوان کرد و گفت: امیدوارم در دیدار امروز در خصوص مسایل مختلف منطقه ای، بین المللی، سوریه، افغانستان، عراق و برجام به طور مفصل تبادل نظر کنیم.\\n\\nخبرگزاری ایرنا']}\n",
      "Website https://nournews.ir/fa/news/38795/%D8%B8%D8%B1%DB%8C%D9%81-%D8%A7%DB%8C%D8%B1%D8%A7%D9%86-%D9%88-%D8%B1%D9%88%D8%B3%DB%8C%D9%87-%D8%A8%D9%87-%D8%AF%D9%86%D8%A8%D8%A7%D9%84-%D8%B5%D9%84%D8%AD-%D8%AF%D8%B1-%D9%85%D9%86%D8%B7%D9%82%D9%87-%D9%87%D8%B3%D8%AA%D9%86%D8%AF fully loaded.\n",
      "Loading website 2/9: https://nournews.ir/fa/news/168584/%D8%A2%D9%85%D8%B1%DB%8C%DA%A9%D8%A7-11-%D9%81%D8%B1%D8%AF-%D9%88-%D9%86%D9%87%D8%A7%D8%AF-%D8%B3%D9%88%D8%B1%DB%8C%D9%87-%D8%B1%D8%A7-%D8%AA%D8%AD%D8%B1%DB%8C%D9%85-%DA%A9%D8%B1%D8%AF\n",
      "public:https://nournews.ir\n",
      "----------------------------\n",
      "sentence\n",
      "custom_key2\n",
      "compare customkey2\n",
      "Result: [4, 'آمریکا 11 فرد و نهاد سوریه را تحریم کرد\\nوزارت خزانه داری آمریکا 11 فرد و نهاد سوریه را به بهانه اینکه تسهیل کنندگان مالی و قاچاقچیان غیرقانونی ماده مخدر «کپتاگون» در حکومت بشار اسد در سوریه هستند، تحریم کرد.\\nنورنیوز_گروه بین الملل: وزارت خزانه داری آمریکا روز سه شنبه به وقت محلی اعلام کرد: «امروز دفتر کنترل دارایی های خارجی وزارت خزانه داری (OFAC) ۱۱ فرد و نهاد حامی حکومت بشار اسد رئیس جمهور سوریه که از طریق تسهیل نقل و انتقالات مالی غیرقانونی و قاچاق مواد مخدر از این رژیم حمایت می کردند، تحریم کرد.»\\nوزارت خزانه داری آمریکا ادامه داد: « سوریه به تولیدکننده و صادرکننده پیشرو کپتاگون تبدیل شده است. این ماده یک محرک از نوع آمفتامین بسیار اعتیادآور است که به طور غیرقانونی در سراسر خاورمیانه و اروپا قاچاق می شود.»\\nبرایان نلسون معاون وزیر خزانه\\u200cداری آمریکا در امور تروریسم و اطلاعات مالی گفت: «رژیم اسد به استفاده از طرح\\u200cهای مختلف برای فرار از تحریم\\u200cها و ادامه کارزار سرکوب طولانی\\u200cمدت خود علیه شهروندان سوریه، از جمله قاچاق مواد مخدر غیرقانونی، بهره\\u200cبرداری از مبادلات ارزی و استفاده از تجارت\\u200cهای به ظاهر مشروع ادامه می\\u200cدهد. »\\nاین مقام آمریکایی ادامه داد: آمریکا همچنان متعهد به پاسخگو ساختن افرادی است که به دنبال حمایت از این فعالیت مالی غیرقانونی هستند که به ضرر مردم سوریه است.\\nپیش از این، وزارت خزانه\\u200cداری ایالات متحده آمریکا امروز سه\\u200cشنبه ۷ فروردین ۱۴۰۳ برابر با ۲۶ مارس ۲۰۲۴ در تداوم سیاست های تحریمی خود اعلام کرد تحریم\\u200cهایی را علیه شبکه\\u200c تسهیل\\u200cکننده حواله\\u200cهای مالی برای حوثی\\u200cها (انصارالله یمن) حزب\\u200cالله لبنان و نیروی قدس سپاه پاسداران ایران اعمال کرد. تحریم\\u200cهای جدید آمریکا شامل ۶ نهاد، یک فرد و دو نفتکش می\\u200cشود.\\nدر بیانیه وزارت خزانه داری آمریکا آمده است: اداره کنترل دارایی های خارجی وزارت خزانه داری (OFAC) ۶ نهاد، یک فرد و دو نفتکش را که در لیبریا، هند، ویتنام، لبنان و کویت مستقر یا ثبت شده اند و در تسهیل حمل و نقل کالا و تراکنش های مالی برای سپاه پاسداران انقلاب اسلامی حوثی ها و حزب الله فعالیت می کنند، تحریم می کند.\\nبر اساس اعلام و ادعای وزارت خزانه داری آمریکا، « این ششمین دور تحریم\\u200cها است که شبکه ساعد الجمال، تسهیل\\u200cکننده مالی حوثی\\u200cهای مستقر در ایران را هدف قرار می\\u200cدهد و گام دیگری در یک عملیات هماهنگ برای ایجاد اخلال در امور مالی سپاه پاسداران انقلاب اسلام و نیروهای وابسته به آن مانند گروه تروریستی حوثی ها است.»\\n\\nایرنا']\n",
      "Map: {'epo5GTkzfz': [8, 'ظریف: ایران و روسیه به دنبال صلح در منطقه هستند\\nوزیر امور خارجه جمهوری اسلامی ایران اعلام کرد: ایران و روسیه بر خلاف آمریکا به دنبال صلح و ثبات در منطقه هستند و طرح های ارایه شده از سوی دو کشور نشانگر این واقعیت است.\\n «محمد جواد ظریف» در دیدار با سرگئی لاوروف افزود: روابط دوجانبه ایران و روسیه امروز شاید در بهترین شرایط تاریخی خود قرار دارد.\\nوی اظهار داشت: برای دو کشور مهم در منطقه این روابط راهبردی است که همواره با قدرت ادامه پیدا خواهد کرد چرا که این اراده مسئولان جمهوری اسلامی است که به روابط با روسیه به عنوان یک همسایه بزرگ، مهم و یک قدرت بزرگ بین\\u200cالمللی به صورت راهبردی نگاه کنند.\\nوی ادامه داد: برخلاف دیگران که در منطقه ما به جنگ افروزی دامن می\\u200cزنند ایران و روسیه پیشنهادهای مهمی که بسیار هم شبیه به هم هستند برای صلح در منطقه ارایه کرده\\u200cاند. \\nظریف ارایه طرح گفت\\u200cوگوی روسیه در خلیج فارس و طرح صلح هرمز را در راستای چنین سیاسی عنوان کرد.\\nوزیر امور خارجه ایران در ادامه با اشاره به رزمایش مشترک ایران، روسیه و چین افزود: این مانور نشان دهنده همکاری و تلاش ما برای صلح در منطقه است.\\nظریف اظهار داشت: برخلاف آمریکا که تعهدات بین\\u200cالمللی خود را شکسته است، ایران و روسیه بر اجرای برجام تاکید کردند که ما از دیدگاه\\u200cهای مثبت روسیه در این زمینه متشکریم.\\nوی با بیان اینکه آمریکا هزاران مایل دورتر از مرزهای خود مردم را به اسم دفاع از خود به خاک و خون می کشد، اظهار داشت: اقدام اخیر آمریکا در بغداد تنها نمونه ای از رفتارهای اینچنینی آمریکا در منطقه است.\\nظریف همکاری ایران و روسیه در قالب آستانه را نمونه موفقی از همکاری های مشترک دو کشور برای بازگشت صلح در سوریه عنوان کرد و گفت: امیدوارم در دیدار امروز در خصوص مسایل مختلف منطقه ای، بین المللی، سوریه، افغانستان، عراق و برجام به طور مفصل تبادل نظر کنیم.\\n\\nخبرگزاری ایرنا'], 'bJ0xhx54V1': [4, 'آمریکا 11 فرد و نهاد سوریه را تحریم کرد\\nوزارت خزانه داری آمریکا 11 فرد و نهاد سوریه را به بهانه اینکه تسهیل کنندگان مالی و قاچاقچیان غیرقانونی ماده مخدر «کپتاگون» در حکومت بشار اسد در سوریه هستند، تحریم کرد.\\nنورنیوز_گروه بین الملل: وزارت خزانه داری آمریکا روز سه شنبه به وقت محلی اعلام کرد: «امروز دفتر کنترل دارایی های خارجی وزارت خزانه داری (OFAC) ۱۱ فرد و نهاد حامی حکومت بشار اسد رئیس جمهور سوریه که از طریق تسهیل نقل و انتقالات مالی غیرقانونی و قاچاق مواد مخدر از این رژیم حمایت می کردند، تحریم کرد.»\\nوزارت خزانه داری آمریکا ادامه داد: « سوریه به تولیدکننده و صادرکننده پیشرو کپتاگون تبدیل شده است. این ماده یک محرک از نوع آمفتامین بسیار اعتیادآور است که به طور غیرقانونی در سراسر خاورمیانه و اروپا قاچاق می شود.»\\nبرایان نلسون معاون وزیر خزانه\\u200cداری آمریکا در امور تروریسم و اطلاعات مالی گفت: «رژیم اسد به استفاده از طرح\\u200cهای مختلف برای فرار از تحریم\\u200cها و ادامه کارزار سرکوب طولانی\\u200cمدت خود علیه شهروندان سوریه، از جمله قاچاق مواد مخدر غیرقانونی، بهره\\u200cبرداری از مبادلات ارزی و استفاده از تجارت\\u200cهای به ظاهر مشروع ادامه می\\u200cدهد. »\\nاین مقام آمریکایی ادامه داد: آمریکا همچنان متعهد به پاسخگو ساختن افرادی است که به دنبال حمایت از این فعالیت مالی غیرقانونی هستند که به ضرر مردم سوریه است.\\nپیش از این، وزارت خزانه\\u200cداری ایالات متحده آمریکا امروز سه\\u200cشنبه ۷ فروردین ۱۴۰۳ برابر با ۲۶ مارس ۲۰۲۴ در تداوم سیاست های تحریمی خود اعلام کرد تحریم\\u200cهایی را علیه شبکه\\u200c تسهیل\\u200cکننده حواله\\u200cهای مالی برای حوثی\\u200cها (انصارالله یمن) حزب\\u200cالله لبنان و نیروی قدس سپاه پاسداران ایران اعمال کرد. تحریم\\u200cهای جدید آمریکا شامل ۶ نهاد، یک فرد و دو نفتکش می\\u200cشود.\\nدر بیانیه وزارت خزانه داری آمریکا آمده است: اداره کنترل دارایی های خارجی وزارت خزانه داری (OFAC) ۶ نهاد، یک فرد و دو نفتکش را که در لیبریا، هند، ویتنام، لبنان و کویت مستقر یا ثبت شده اند و در تسهیل حمل و نقل کالا و تراکنش های مالی برای سپاه پاسداران انقلاب اسلامی حوثی ها و حزب الله فعالیت می کنند، تحریم می کند.\\nبر اساس اعلام و ادعای وزارت خزانه داری آمریکا، « این ششمین دور تحریم\\u200cها است که شبکه ساعد الجمال، تسهیل\\u200cکننده مالی حوثی\\u200cهای مستقر در ایران را هدف قرار می\\u200cدهد و گام دیگری در یک عملیات هماهنگ برای ایجاد اخلال در امور مالی سپاه پاسداران انقلاب اسلام و نیروهای وابسته به آن مانند گروه تروریستی حوثی ها است.»\\n\\nایرنا']}\n",
      "Website https://nournews.ir/fa/news/168584/%D8%A2%D9%85%D8%B1%DB%8C%DA%A9%D8%A7-11-%D9%81%D8%B1%D8%AF-%D9%88-%D9%86%D9%87%D8%A7%D8%AF-%D8%B3%D9%88%D8%B1%DB%8C%D9%87-%D8%B1%D8%A7-%D8%AA%D8%AD%D8%B1%DB%8C%D9%85-%DA%A9%D8%B1%D8%AF fully loaded.\n",
      "Loading website 3/9: https://nournews.ir/fa/news/59206/%DA%86%D9%86%D8%AF%D8%B1%D8%B3%D8%A7%D9%86%D9%87%E2%80%8C%D8%A7%DB%8C-%DA%86%D8%B1%D8%A7-%D8%A7%D8%A6%D8%AA%D9%84%D8%A7%D9%81-%D8%A7%DB%8C%D8%B1%D8%A7%D9%86%D8%8C-%D8%B3%D9%88%D8%B1%DB%8C%D9%87-%D9%88-%D8%B1%D9%88%D8%B3%DB%8C%D9%87%D8%8C-%D8%BA%D8%B1%D8%A8-%D8%B1%D8%A7-%D8%A8%D9%87-%D9%87%D8%B1%D8%A7%D8%B3-%D8%A7%D9%86%D8%AF%D8%A7%D8%AE%D8%AA%D9%87-%D8%A7%D8%B3%D8%AA%D8%9F\n",
      "public:https://nournews.ir\n",
      "----------------------------\n",
      "sentence\n",
      "custom_key3\n",
      "compare customkey3\n",
      "Result: [0, 'چندرسانه\\u200cای: چرا ائتلاف ایران، سوریه و روسیه، غرب را به هراس انداخته است؟\\nRestart\\nPlay\\n% buffered\\nMute\\nSettings\\nPIP\\nDownload\\nEnter fullscreen\\n\\nنورنیوز']\n",
      "Map: {'epo5GTkzfz': [8, 'ظریف: ایران و روسیه به دنبال صلح در منطقه هستند\\nوزیر امور خارجه جمهوری اسلامی ایران اعلام کرد: ایران و روسیه بر خلاف آمریکا به دنبال صلح و ثبات در منطقه هستند و طرح های ارایه شده از سوی دو کشور نشانگر این واقعیت است.\\n «محمد جواد ظریف» در دیدار با سرگئی لاوروف افزود: روابط دوجانبه ایران و روسیه امروز شاید در بهترین شرایط تاریخی خود قرار دارد.\\nوی اظهار داشت: برای دو کشور مهم در منطقه این روابط راهبردی است که همواره با قدرت ادامه پیدا خواهد کرد چرا که این اراده مسئولان جمهوری اسلامی است که به روابط با روسیه به عنوان یک همسایه بزرگ، مهم و یک قدرت بزرگ بین\\u200cالمللی به صورت راهبردی نگاه کنند.\\nوی ادامه داد: برخلاف دیگران که در منطقه ما به جنگ افروزی دامن می\\u200cزنند ایران و روسیه پیشنهادهای مهمی که بسیار هم شبیه به هم هستند برای صلح در منطقه ارایه کرده\\u200cاند. \\nظریف ارایه طرح گفت\\u200cوگوی روسیه در خلیج فارس و طرح صلح هرمز را در راستای چنین سیاسی عنوان کرد.\\nوزیر امور خارجه ایران در ادامه با اشاره به رزمایش مشترک ایران، روسیه و چین افزود: این مانور نشان دهنده همکاری و تلاش ما برای صلح در منطقه است.\\nظریف اظهار داشت: برخلاف آمریکا که تعهدات بین\\u200cالمللی خود را شکسته است، ایران و روسیه بر اجرای برجام تاکید کردند که ما از دیدگاه\\u200cهای مثبت روسیه در این زمینه متشکریم.\\nوی با بیان اینکه آمریکا هزاران مایل دورتر از مرزهای خود مردم را به اسم دفاع از خود به خاک و خون می کشد، اظهار داشت: اقدام اخیر آمریکا در بغداد تنها نمونه ای از رفتارهای اینچنینی آمریکا در منطقه است.\\nظریف همکاری ایران و روسیه در قالب آستانه را نمونه موفقی از همکاری های مشترک دو کشور برای بازگشت صلح در سوریه عنوان کرد و گفت: امیدوارم در دیدار امروز در خصوص مسایل مختلف منطقه ای، بین المللی، سوریه، افغانستان، عراق و برجام به طور مفصل تبادل نظر کنیم.\\n\\nخبرگزاری ایرنا'], 'bJ0xhx54V1': [4, 'آمریکا 11 فرد و نهاد سوریه را تحریم کرد\\nوزارت خزانه داری آمریکا 11 فرد و نهاد سوریه را به بهانه اینکه تسهیل کنندگان مالی و قاچاقچیان غیرقانونی ماده مخدر «کپتاگون» در حکومت بشار اسد در سوریه هستند، تحریم کرد.\\nنورنیوز_گروه بین الملل: وزارت خزانه داری آمریکا روز سه شنبه به وقت محلی اعلام کرد: «امروز دفتر کنترل دارایی های خارجی وزارت خزانه داری (OFAC) ۱۱ فرد و نهاد حامی حکومت بشار اسد رئیس جمهور سوریه که از طریق تسهیل نقل و انتقالات مالی غیرقانونی و قاچاق مواد مخدر از این رژیم حمایت می کردند، تحریم کرد.»\\nوزارت خزانه داری آمریکا ادامه داد: « سوریه به تولیدکننده و صادرکننده پیشرو کپتاگون تبدیل شده است. این ماده یک محرک از نوع آمفتامین بسیار اعتیادآور است که به طور غیرقانونی در سراسر خاورمیانه و اروپا قاچاق می شود.»\\nبرایان نلسون معاون وزیر خزانه\\u200cداری آمریکا در امور تروریسم و اطلاعات مالی گفت: «رژیم اسد به استفاده از طرح\\u200cهای مختلف برای فرار از تحریم\\u200cها و ادامه کارزار سرکوب طولانی\\u200cمدت خود علیه شهروندان سوریه، از جمله قاچاق مواد مخدر غیرقانونی، بهره\\u200cبرداری از مبادلات ارزی و استفاده از تجارت\\u200cهای به ظاهر مشروع ادامه می\\u200cدهد. »\\nاین مقام آمریکایی ادامه داد: آمریکا همچنان متعهد به پاسخگو ساختن افرادی است که به دنبال حمایت از این فعالیت مالی غیرقانونی هستند که به ضرر مردم سوریه است.\\nپیش از این، وزارت خزانه\\u200cداری ایالات متحده آمریکا امروز سه\\u200cشنبه ۷ فروردین ۱۴۰۳ برابر با ۲۶ مارس ۲۰۲۴ در تداوم سیاست های تحریمی خود اعلام کرد تحریم\\u200cهایی را علیه شبکه\\u200c تسهیل\\u200cکننده حواله\\u200cهای مالی برای حوثی\\u200cها (انصارالله یمن) حزب\\u200cالله لبنان و نیروی قدس سپاه پاسداران ایران اعمال کرد. تحریم\\u200cهای جدید آمریکا شامل ۶ نهاد، یک فرد و دو نفتکش می\\u200cشود.\\nدر بیانیه وزارت خزانه داری آمریکا آمده است: اداره کنترل دارایی های خارجی وزارت خزانه داری (OFAC) ۶ نهاد، یک فرد و دو نفتکش را که در لیبریا، هند، ویتنام، لبنان و کویت مستقر یا ثبت شده اند و در تسهیل حمل و نقل کالا و تراکنش های مالی برای سپاه پاسداران انقلاب اسلامی حوثی ها و حزب الله فعالیت می کنند، تحریم می کند.\\nبر اساس اعلام و ادعای وزارت خزانه داری آمریکا، « این ششمین دور تحریم\\u200cها است که شبکه ساعد الجمال، تسهیل\\u200cکننده مالی حوثی\\u200cهای مستقر در ایران را هدف قرار می\\u200cدهد و گام دیگری در یک عملیات هماهنگ برای ایجاد اخلال در امور مالی سپاه پاسداران انقلاب اسلام و نیروهای وابسته به آن مانند گروه تروریستی حوثی ها است.»\\n\\nایرنا'], 'oDUvYhAtkw': [0, 'چندرسانه\\u200cای: چرا ائتلاف ایران، سوریه و روسیه، غرب را به هراس انداخته است؟\\nRestart\\nPlay\\n% buffered\\nMute\\nSettings\\nPIP\\nDownload\\nEnter fullscreen\\n\\nنورنیوز']}\n",
      "Website https://nournews.ir/fa/news/59206/%DA%86%D9%86%D8%AF%D8%B1%D8%B3%D8%A7%D9%86%D9%87%E2%80%8C%D8%A7%DB%8C-%DA%86%D8%B1%D8%A7-%D8%A7%D8%A6%D8%AA%D9%84%D8%A7%D9%81-%D8%A7%DB%8C%D8%B1%D8%A7%D9%86%D8%8C-%D8%B3%D9%88%D8%B1%DB%8C%D9%87-%D9%88-%D8%B1%D9%88%D8%B3%DB%8C%D9%87%D8%8C-%D8%BA%D8%B1%D8%A8-%D8%B1%D8%A7-%D8%A8%D9%87-%D9%87%D8%B1%D8%A7%D8%B3-%D8%A7%D9%86%D8%AF%D8%A7%D8%AE%D8%AA%D9%87-%D8%A7%D8%B3%D8%AA%D8%9F fully loaded.\n",
      "Loading website 4/9: https://nournews.ir/fa/news/34678/%DA%A9%D8%B4%D9%88%D8%B1-%D9%87%D8%A7%DB%8C%DB%8C-%DA%A9%D9%87-%D9%85%D9%82%D8%A7%D8%A8%D9%84-%D8%B3%D9%88%D8%B1%DB%8C%D9%87-%D8%A7%DB%8C%D8%B3%D8%AA%D8%A7%D8%AF%D9%86%D8%AF-%D8%AF%D8%B1-%D8%A8%D8%A7%D8%B2%D8%B3%D8%A7%D8%B2%DB%8C-%D8%A2%D9%86-%D9%86%D9%82%D8%B4%DB%8C-%D9%86%D8%AE%D9%88%D8%A7%D9%87%D9%86%D8%AF-%D8%AF%D8%A7%D8%B4%D8%AA\n"
     ]
    },
    {
     "ename": "KeyboardInterrupt",
     "evalue": "",
     "output_type": "error",
     "traceback": [
      "\u001b[1;31m---------------------------------------------------------------------------\u001b[0m",
      "\u001b[1;31mKeyboardInterrupt\u001b[0m                         Traceback (most recent call last)",
      "Cell \u001b[1;32mIn [36], line 3\u001b[0m\n\u001b[0;32m      1\u001b[0m \u001b[38;5;28;01mfor\u001b[39;00m index, url \u001b[38;5;129;01min\u001b[39;00m \u001b[38;5;28menumerate\u001b[39m(news_current_urls):\n\u001b[0;32m      2\u001b[0m     \u001b[38;5;28mprint\u001b[39m(\u001b[38;5;124mf\u001b[39m\u001b[38;5;124m\"\u001b[39m\u001b[38;5;124mLoading website \u001b[39m\u001b[38;5;132;01m{\u001b[39;00mindex \u001b[38;5;241m+\u001b[39m \u001b[38;5;241m1\u001b[39m\u001b[38;5;132;01m}\u001b[39;00m\u001b[38;5;124m/\u001b[39m\u001b[38;5;132;01m{\u001b[39;00m\u001b[38;5;28mlen\u001b[39m(news_current_urls)\u001b[38;5;132;01m}\u001b[39;00m\u001b[38;5;124m: \u001b[39m\u001b[38;5;132;01m{\u001b[39;00murl\u001b[38;5;132;01m}\u001b[39;00m\u001b[38;5;124m\"\u001b[39m)\n\u001b[1;32m----> 3\u001b[0m     \u001b[43mdriver\u001b[49m\u001b[38;5;241;43m.\u001b[39;49m\u001b[43mget\u001b[49m\u001b[43m(\u001b[49m\u001b[43murl\u001b[49m\u001b[43m)\u001b[49m  \u001b[38;5;66;03m# Load the URL\u001b[39;00m\n\u001b[0;32m      4\u001b[0m     custom_key\u001b[38;5;241m=\u001b[39mcustom_key \u001b[38;5;241m+\u001b[39m\u001b[38;5;241m1\u001b[39m\n\u001b[0;32m      6\u001b[0m         \u001b[38;5;66;03m# Wait until the page has fully loaded (specific condition can be customized)\u001b[39;00m\n",
      "File \u001b[1;32mc:\\Users\\mehdi\\Desktop\\Akharin khabar\\env\\lib\\site-packages\\selenium\\webdriver\\remote\\webdriver.py:363\u001b[0m, in \u001b[0;36mWebDriver.get\u001b[1;34m(self, url)\u001b[0m\n\u001b[0;32m    361\u001b[0m \u001b[38;5;28;01mdef\u001b[39;00m \u001b[38;5;21mget\u001b[39m(\u001b[38;5;28mself\u001b[39m, url: \u001b[38;5;28mstr\u001b[39m) \u001b[38;5;241m-\u001b[39m\u001b[38;5;241m>\u001b[39m \u001b[38;5;28;01mNone\u001b[39;00m:\n\u001b[0;32m    362\u001b[0m     \u001b[38;5;124;03m\"\"\"Loads a web page in the current browser session.\"\"\"\u001b[39;00m\n\u001b[1;32m--> 363\u001b[0m     \u001b[38;5;28;43mself\u001b[39;49m\u001b[38;5;241;43m.\u001b[39;49m\u001b[43mexecute\u001b[49m\u001b[43m(\u001b[49m\u001b[43mCommand\u001b[49m\u001b[38;5;241;43m.\u001b[39;49m\u001b[43mGET\u001b[49m\u001b[43m,\u001b[49m\u001b[43m \u001b[49m\u001b[43m{\u001b[49m\u001b[38;5;124;43m\"\u001b[39;49m\u001b[38;5;124;43murl\u001b[39;49m\u001b[38;5;124;43m\"\u001b[39;49m\u001b[43m:\u001b[49m\u001b[43m \u001b[49m\u001b[43murl\u001b[49m\u001b[43m}\u001b[49m\u001b[43m)\u001b[49m\n",
      "File \u001b[1;32mc:\\Users\\mehdi\\Desktop\\Akharin khabar\\env\\lib\\site-packages\\selenium\\webdriver\\remote\\webdriver.py:352\u001b[0m, in \u001b[0;36mWebDriver.execute\u001b[1;34m(self, driver_command, params)\u001b[0m\n\u001b[0;32m    349\u001b[0m     \u001b[38;5;28;01melif\u001b[39;00m \u001b[38;5;124m\"\u001b[39m\u001b[38;5;124msessionId\u001b[39m\u001b[38;5;124m\"\u001b[39m \u001b[38;5;129;01mnot\u001b[39;00m \u001b[38;5;129;01min\u001b[39;00m params:\n\u001b[0;32m    350\u001b[0m         params[\u001b[38;5;124m\"\u001b[39m\u001b[38;5;124msessionId\u001b[39m\u001b[38;5;124m\"\u001b[39m] \u001b[38;5;241m=\u001b[39m \u001b[38;5;28mself\u001b[39m\u001b[38;5;241m.\u001b[39msession_id\n\u001b[1;32m--> 352\u001b[0m response \u001b[38;5;241m=\u001b[39m \u001b[38;5;28;43mself\u001b[39;49m\u001b[38;5;241;43m.\u001b[39;49m\u001b[43mcommand_executor\u001b[49m\u001b[38;5;241;43m.\u001b[39;49m\u001b[43mexecute\u001b[49m\u001b[43m(\u001b[49m\u001b[43mdriver_command\u001b[49m\u001b[43m,\u001b[49m\u001b[43m \u001b[49m\u001b[43mparams\u001b[49m\u001b[43m)\u001b[49m\n\u001b[0;32m    353\u001b[0m \u001b[38;5;28;01mif\u001b[39;00m response:\n\u001b[0;32m    354\u001b[0m     \u001b[38;5;28mself\u001b[39m\u001b[38;5;241m.\u001b[39merror_handler\u001b[38;5;241m.\u001b[39mcheck_response(response)\n",
      "File \u001b[1;32mc:\\Users\\mehdi\\Desktop\\Akharin khabar\\env\\lib\\site-packages\\selenium\\webdriver\\remote\\remote_connection.py:306\u001b[0m, in \u001b[0;36mRemoteConnection.execute\u001b[1;34m(self, command, params)\u001b[0m\n\u001b[0;32m    304\u001b[0m trimmed \u001b[38;5;241m=\u001b[39m \u001b[38;5;28mself\u001b[39m\u001b[38;5;241m.\u001b[39m_trim_large_entries(params)\n\u001b[0;32m    305\u001b[0m LOGGER\u001b[38;5;241m.\u001b[39mdebug(\u001b[38;5;124m\"\u001b[39m\u001b[38;5;132;01m%s\u001b[39;00m\u001b[38;5;124m \u001b[39m\u001b[38;5;132;01m%s\u001b[39;00m\u001b[38;5;124m \u001b[39m\u001b[38;5;132;01m%s\u001b[39;00m\u001b[38;5;124m\"\u001b[39m, command_info[\u001b[38;5;241m0\u001b[39m], url, \u001b[38;5;28mstr\u001b[39m(trimmed))\n\u001b[1;32m--> 306\u001b[0m \u001b[38;5;28;01mreturn\u001b[39;00m \u001b[38;5;28;43mself\u001b[39;49m\u001b[38;5;241;43m.\u001b[39;49m\u001b[43m_request\u001b[49m\u001b[43m(\u001b[49m\u001b[43mcommand_info\u001b[49m\u001b[43m[\u001b[49m\u001b[38;5;241;43m0\u001b[39;49m\u001b[43m]\u001b[49m\u001b[43m,\u001b[49m\u001b[43m \u001b[49m\u001b[43murl\u001b[49m\u001b[43m,\u001b[49m\u001b[43m \u001b[49m\u001b[43mbody\u001b[49m\u001b[38;5;241;43m=\u001b[39;49m\u001b[43mdata\u001b[49m\u001b[43m)\u001b[49m\n",
      "File \u001b[1;32mc:\\Users\\mehdi\\Desktop\\Akharin khabar\\env\\lib\\site-packages\\selenium\\webdriver\\remote\\remote_connection.py:326\u001b[0m, in \u001b[0;36mRemoteConnection._request\u001b[1;34m(self, method, url, body)\u001b[0m\n\u001b[0;32m    323\u001b[0m     body \u001b[38;5;241m=\u001b[39m \u001b[38;5;28;01mNone\u001b[39;00m\n\u001b[0;32m    325\u001b[0m \u001b[38;5;28;01mif\u001b[39;00m \u001b[38;5;28mself\u001b[39m\u001b[38;5;241m.\u001b[39mkeep_alive:\n\u001b[1;32m--> 326\u001b[0m     response \u001b[38;5;241m=\u001b[39m \u001b[38;5;28;43mself\u001b[39;49m\u001b[38;5;241;43m.\u001b[39;49m\u001b[43m_conn\u001b[49m\u001b[38;5;241;43m.\u001b[39;49m\u001b[43mrequest\u001b[49m\u001b[43m(\u001b[49m\u001b[43mmethod\u001b[49m\u001b[43m,\u001b[49m\u001b[43m \u001b[49m\u001b[43murl\u001b[49m\u001b[43m,\u001b[49m\u001b[43m \u001b[49m\u001b[43mbody\u001b[49m\u001b[38;5;241;43m=\u001b[39;49m\u001b[43mbody\u001b[49m\u001b[43m,\u001b[49m\u001b[43m \u001b[49m\u001b[43mheaders\u001b[49m\u001b[38;5;241;43m=\u001b[39;49m\u001b[43mheaders\u001b[49m\u001b[43m)\u001b[49m\n\u001b[0;32m    327\u001b[0m     statuscode \u001b[38;5;241m=\u001b[39m response\u001b[38;5;241m.\u001b[39mstatus\n\u001b[0;32m    328\u001b[0m \u001b[38;5;28;01melse\u001b[39;00m:\n",
      "File \u001b[1;32mc:\\Users\\mehdi\\Desktop\\Akharin khabar\\env\\lib\\site-packages\\urllib3\\_request_methods.py:143\u001b[0m, in \u001b[0;36mRequestMethods.request\u001b[1;34m(self, method, url, body, fields, headers, json, **urlopen_kw)\u001b[0m\n\u001b[0;32m    135\u001b[0m     \u001b[38;5;28;01mreturn\u001b[39;00m \u001b[38;5;28mself\u001b[39m\u001b[38;5;241m.\u001b[39mrequest_encode_url(\n\u001b[0;32m    136\u001b[0m         method,\n\u001b[0;32m    137\u001b[0m         url,\n\u001b[1;32m   (...)\u001b[0m\n\u001b[0;32m    140\u001b[0m         \u001b[38;5;241m*\u001b[39m\u001b[38;5;241m*\u001b[39murlopen_kw,\n\u001b[0;32m    141\u001b[0m     )\n\u001b[0;32m    142\u001b[0m \u001b[38;5;28;01melse\u001b[39;00m:\n\u001b[1;32m--> 143\u001b[0m     \u001b[38;5;28;01mreturn\u001b[39;00m \u001b[38;5;28mself\u001b[39m\u001b[38;5;241m.\u001b[39mrequest_encode_body(\n\u001b[0;32m    144\u001b[0m         method, url, fields\u001b[38;5;241m=\u001b[39mfields, headers\u001b[38;5;241m=\u001b[39mheaders, \u001b[38;5;241m*\u001b[39m\u001b[38;5;241m*\u001b[39murlopen_kw\n\u001b[0;32m    145\u001b[0m     )\n",
      "File \u001b[1;32mc:\\Users\\mehdi\\Desktop\\Akharin khabar\\env\\lib\\site-packages\\urllib3\\_request_methods.py:278\u001b[0m, in \u001b[0;36mRequestMethods.request_encode_body\u001b[1;34m(self, method, url, fields, headers, encode_multipart, multipart_boundary, **urlopen_kw)\u001b[0m\n\u001b[0;32m    274\u001b[0m     extra_kw[\u001b[38;5;124m\"\u001b[39m\u001b[38;5;124mheaders\u001b[39m\u001b[38;5;124m\"\u001b[39m]\u001b[38;5;241m.\u001b[39msetdefault(\u001b[38;5;124m\"\u001b[39m\u001b[38;5;124mContent-Type\u001b[39m\u001b[38;5;124m\"\u001b[39m, content_type)\n\u001b[0;32m    276\u001b[0m extra_kw\u001b[38;5;241m.\u001b[39mupdate(urlopen_kw)\n\u001b[1;32m--> 278\u001b[0m \u001b[38;5;28;01mreturn\u001b[39;00m \u001b[38;5;28mself\u001b[39m\u001b[38;5;241m.\u001b[39murlopen(method, url, \u001b[38;5;241m*\u001b[39m\u001b[38;5;241m*\u001b[39mextra_kw)\n",
      "File \u001b[1;32mc:\\Users\\mehdi\\Desktop\\Akharin khabar\\env\\lib\\site-packages\\urllib3\\poolmanager.py:443\u001b[0m, in \u001b[0;36mPoolManager.urlopen\u001b[1;34m(self, method, url, redirect, **kw)\u001b[0m\n\u001b[0;32m    441\u001b[0m     response \u001b[38;5;241m=\u001b[39m conn\u001b[38;5;241m.\u001b[39murlopen(method, url, \u001b[38;5;241m*\u001b[39m\u001b[38;5;241m*\u001b[39mkw)\n\u001b[0;32m    442\u001b[0m \u001b[38;5;28;01melse\u001b[39;00m:\n\u001b[1;32m--> 443\u001b[0m     response \u001b[38;5;241m=\u001b[39m conn\u001b[38;5;241m.\u001b[39murlopen(method, u\u001b[38;5;241m.\u001b[39mrequest_uri, \u001b[38;5;241m*\u001b[39m\u001b[38;5;241m*\u001b[39mkw)\n\u001b[0;32m    445\u001b[0m redirect_location \u001b[38;5;241m=\u001b[39m redirect \u001b[38;5;129;01mand\u001b[39;00m response\u001b[38;5;241m.\u001b[39mget_redirect_location()\n\u001b[0;32m    446\u001b[0m \u001b[38;5;28;01mif\u001b[39;00m \u001b[38;5;129;01mnot\u001b[39;00m redirect_location:\n",
      "File \u001b[1;32mc:\\Users\\mehdi\\Desktop\\Akharin khabar\\env\\lib\\site-packages\\urllib3\\connectionpool.py:789\u001b[0m, in \u001b[0;36mHTTPConnectionPool.urlopen\u001b[1;34m(self, method, url, body, headers, retries, redirect, assert_same_host, timeout, pool_timeout, release_conn, chunked, body_pos, preload_content, decode_content, **response_kw)\u001b[0m\n\u001b[0;32m    786\u001b[0m response_conn \u001b[38;5;241m=\u001b[39m conn \u001b[38;5;28;01mif\u001b[39;00m \u001b[38;5;129;01mnot\u001b[39;00m release_conn \u001b[38;5;28;01melse\u001b[39;00m \u001b[38;5;28;01mNone\u001b[39;00m\n\u001b[0;32m    788\u001b[0m \u001b[38;5;66;03m# Make the request on the HTTPConnection object\u001b[39;00m\n\u001b[1;32m--> 789\u001b[0m response \u001b[38;5;241m=\u001b[39m \u001b[38;5;28mself\u001b[39m\u001b[38;5;241m.\u001b[39m_make_request(\n\u001b[0;32m    790\u001b[0m     conn,\n\u001b[0;32m    791\u001b[0m     method,\n\u001b[0;32m    792\u001b[0m     url,\n\u001b[0;32m    793\u001b[0m     timeout\u001b[38;5;241m=\u001b[39mtimeout_obj,\n\u001b[0;32m    794\u001b[0m     body\u001b[38;5;241m=\u001b[39mbody,\n\u001b[0;32m    795\u001b[0m     headers\u001b[38;5;241m=\u001b[39mheaders,\n\u001b[0;32m    796\u001b[0m     chunked\u001b[38;5;241m=\u001b[39mchunked,\n\u001b[0;32m    797\u001b[0m     retries\u001b[38;5;241m=\u001b[39mretries,\n\u001b[0;32m    798\u001b[0m     response_conn\u001b[38;5;241m=\u001b[39mresponse_conn,\n\u001b[0;32m    799\u001b[0m     preload_content\u001b[38;5;241m=\u001b[39mpreload_content,\n\u001b[0;32m    800\u001b[0m     decode_content\u001b[38;5;241m=\u001b[39mdecode_content,\n\u001b[0;32m    801\u001b[0m     \u001b[38;5;241m*\u001b[39m\u001b[38;5;241m*\u001b[39mresponse_kw,\n\u001b[0;32m    802\u001b[0m )\n\u001b[0;32m    804\u001b[0m \u001b[38;5;66;03m# Everything went great!\u001b[39;00m\n\u001b[0;32m    805\u001b[0m clean_exit \u001b[38;5;241m=\u001b[39m \u001b[38;5;28;01mTrue\u001b[39;00m\n",
      "File \u001b[1;32mc:\\Users\\mehdi\\Desktop\\Akharin khabar\\env\\lib\\site-packages\\urllib3\\connectionpool.py:536\u001b[0m, in \u001b[0;36mHTTPConnectionPool._make_request\u001b[1;34m(self, conn, method, url, body, headers, retries, timeout, chunked, response_conn, preload_content, decode_content, enforce_content_length)\u001b[0m\n\u001b[0;32m    534\u001b[0m \u001b[38;5;66;03m# Receive the response from the server\u001b[39;00m\n\u001b[0;32m    535\u001b[0m \u001b[38;5;28;01mtry\u001b[39;00m:\n\u001b[1;32m--> 536\u001b[0m     response \u001b[38;5;241m=\u001b[39m \u001b[43mconn\u001b[49m\u001b[38;5;241;43m.\u001b[39;49m\u001b[43mgetresponse\u001b[49m\u001b[43m(\u001b[49m\u001b[43m)\u001b[49m\n\u001b[0;32m    537\u001b[0m \u001b[38;5;28;01mexcept\u001b[39;00m (BaseSSLError, \u001b[38;5;167;01mOSError\u001b[39;00m) \u001b[38;5;28;01mas\u001b[39;00m e:\n\u001b[0;32m    538\u001b[0m     \u001b[38;5;28mself\u001b[39m\u001b[38;5;241m.\u001b[39m_raise_timeout(err\u001b[38;5;241m=\u001b[39me, url\u001b[38;5;241m=\u001b[39murl, timeout_value\u001b[38;5;241m=\u001b[39mread_timeout)\n",
      "File \u001b[1;32mc:\\Users\\mehdi\\Desktop\\Akharin khabar\\env\\lib\\site-packages\\urllib3\\connection.py:507\u001b[0m, in \u001b[0;36mHTTPConnection.getresponse\u001b[1;34m(self)\u001b[0m\n\u001b[0;32m    504\u001b[0m \u001b[38;5;28;01mfrom\u001b[39;00m \u001b[38;5;21;01m.\u001b[39;00m\u001b[38;5;21;01mresponse\u001b[39;00m \u001b[38;5;28;01mimport\u001b[39;00m HTTPResponse\n\u001b[0;32m    506\u001b[0m \u001b[38;5;66;03m# Get the response from http.client.HTTPConnection\u001b[39;00m\n\u001b[1;32m--> 507\u001b[0m httplib_response \u001b[38;5;241m=\u001b[39m \u001b[38;5;28;43msuper\u001b[39;49m\u001b[43m(\u001b[49m\u001b[43m)\u001b[49m\u001b[38;5;241;43m.\u001b[39;49m\u001b[43mgetresponse\u001b[49m\u001b[43m(\u001b[49m\u001b[43m)\u001b[49m\n\u001b[0;32m    509\u001b[0m \u001b[38;5;28;01mtry\u001b[39;00m:\n\u001b[0;32m    510\u001b[0m     assert_header_parsing(httplib_response\u001b[38;5;241m.\u001b[39mmsg)\n",
      "File \u001b[1;32mD:\\Users\\mehdi\\AppData\\Local\\Programs\\Python\\Python310\\lib\\http\\client.py:1368\u001b[0m, in \u001b[0;36mHTTPConnection.getresponse\u001b[1;34m(self)\u001b[0m\n\u001b[0;32m   1366\u001b[0m \u001b[38;5;28;01mtry\u001b[39;00m:\n\u001b[0;32m   1367\u001b[0m     \u001b[38;5;28;01mtry\u001b[39;00m:\n\u001b[1;32m-> 1368\u001b[0m         \u001b[43mresponse\u001b[49m\u001b[38;5;241;43m.\u001b[39;49m\u001b[43mbegin\u001b[49m\u001b[43m(\u001b[49m\u001b[43m)\u001b[49m\n\u001b[0;32m   1369\u001b[0m     \u001b[38;5;28;01mexcept\u001b[39;00m \u001b[38;5;167;01mConnectionError\u001b[39;00m:\n\u001b[0;32m   1370\u001b[0m         \u001b[38;5;28mself\u001b[39m\u001b[38;5;241m.\u001b[39mclose()\n",
      "File \u001b[1;32mD:\\Users\\mehdi\\AppData\\Local\\Programs\\Python\\Python310\\lib\\http\\client.py:317\u001b[0m, in \u001b[0;36mHTTPResponse.begin\u001b[1;34m(self)\u001b[0m\n\u001b[0;32m    315\u001b[0m \u001b[38;5;66;03m# read until we get a non-100 response\u001b[39;00m\n\u001b[0;32m    316\u001b[0m \u001b[38;5;28;01mwhile\u001b[39;00m \u001b[38;5;28;01mTrue\u001b[39;00m:\n\u001b[1;32m--> 317\u001b[0m     version, status, reason \u001b[38;5;241m=\u001b[39m \u001b[38;5;28;43mself\u001b[39;49m\u001b[38;5;241;43m.\u001b[39;49m\u001b[43m_read_status\u001b[49m\u001b[43m(\u001b[49m\u001b[43m)\u001b[49m\n\u001b[0;32m    318\u001b[0m     \u001b[38;5;28;01mif\u001b[39;00m status \u001b[38;5;241m!=\u001b[39m CONTINUE:\n\u001b[0;32m    319\u001b[0m         \u001b[38;5;28;01mbreak\u001b[39;00m\n",
      "File \u001b[1;32mD:\\Users\\mehdi\\AppData\\Local\\Programs\\Python\\Python310\\lib\\http\\client.py:278\u001b[0m, in \u001b[0;36mHTTPResponse._read_status\u001b[1;34m(self)\u001b[0m\n\u001b[0;32m    277\u001b[0m \u001b[38;5;28;01mdef\u001b[39;00m \u001b[38;5;21m_read_status\u001b[39m(\u001b[38;5;28mself\u001b[39m):\n\u001b[1;32m--> 278\u001b[0m     line \u001b[38;5;241m=\u001b[39m \u001b[38;5;28mstr\u001b[39m(\u001b[38;5;28;43mself\u001b[39;49m\u001b[38;5;241;43m.\u001b[39;49m\u001b[43mfp\u001b[49m\u001b[38;5;241;43m.\u001b[39;49m\u001b[43mreadline\u001b[49m\u001b[43m(\u001b[49m\u001b[43m_MAXLINE\u001b[49m\u001b[43m \u001b[49m\u001b[38;5;241;43m+\u001b[39;49m\u001b[43m \u001b[49m\u001b[38;5;241;43m1\u001b[39;49m\u001b[43m)\u001b[49m, \u001b[38;5;124m\"\u001b[39m\u001b[38;5;124miso-8859-1\u001b[39m\u001b[38;5;124m\"\u001b[39m)\n\u001b[0;32m    279\u001b[0m     \u001b[38;5;28;01mif\u001b[39;00m \u001b[38;5;28mlen\u001b[39m(line) \u001b[38;5;241m>\u001b[39m _MAXLINE:\n\u001b[0;32m    280\u001b[0m         \u001b[38;5;28;01mraise\u001b[39;00m LineTooLong(\u001b[38;5;124m\"\u001b[39m\u001b[38;5;124mstatus line\u001b[39m\u001b[38;5;124m\"\u001b[39m)\n",
      "File \u001b[1;32mD:\\Users\\mehdi\\AppData\\Local\\Programs\\Python\\Python310\\lib\\socket.py:705\u001b[0m, in \u001b[0;36mSocketIO.readinto\u001b[1;34m(self, b)\u001b[0m\n\u001b[0;32m    703\u001b[0m \u001b[38;5;28;01mwhile\u001b[39;00m \u001b[38;5;28;01mTrue\u001b[39;00m:\n\u001b[0;32m    704\u001b[0m     \u001b[38;5;28;01mtry\u001b[39;00m:\n\u001b[1;32m--> 705\u001b[0m         \u001b[38;5;28;01mreturn\u001b[39;00m \u001b[38;5;28;43mself\u001b[39;49m\u001b[38;5;241;43m.\u001b[39;49m\u001b[43m_sock\u001b[49m\u001b[38;5;241;43m.\u001b[39;49m\u001b[43mrecv_into\u001b[49m\u001b[43m(\u001b[49m\u001b[43mb\u001b[49m\u001b[43m)\u001b[49m\n\u001b[0;32m    706\u001b[0m     \u001b[38;5;28;01mexcept\u001b[39;00m timeout:\n\u001b[0;32m    707\u001b[0m         \u001b[38;5;28mself\u001b[39m\u001b[38;5;241m.\u001b[39m_timeout_occurred \u001b[38;5;241m=\u001b[39m \u001b[38;5;28;01mTrue\u001b[39;00m\n",
      "\u001b[1;31mKeyboardInterrupt\u001b[0m: "
     ]
    }
   ],
   "source": [
    "for index, url in enumerate(news_current_urls):\n",
    "    print(f\"Loading website {index + 1}/{len(news_current_urls)}: {url}\")\n",
    "    driver.get(url)  # Load the URL\n",
    "    custom_key=custom_key +1\n",
    "    \n",
    "        # Wait until the page has fully loaded (specific condition can be customized)\n",
    "    WebDriverWait(driver, 10).until(\n",
    "        EC.presence_of_element_located((By.TAG_NAME, \"body\"))  # Wait for the body tag to load\n",
    "    )\n",
    "        \n",
    "    print(f'public:{public_url}')\n",
    "    try:\n",
    "        match public_url:\n",
    "            case   'https://nournews.ir':                    compare(custom_key,noornews())\n",
    "            case   'https://isna.ir': compare(custom_key,isna())\n",
    "            case   'https://farsnews.ir': compare(custom_key,fars())\n",
    "            case   'https://www.irna.ir': compare(custom_key,irna())\n",
    "            case   'https://www.iribnews.ir': compare(custom_key,iribnews())\n",
    "            case   'https://www.mehrnews.com': compare(custom_key,mehrnews())\n",
    "            case   'https://www.tasnimnews.com': compare(custom_key,tasnim()) \n",
    "            case   'https://akharinkhabar.ir':compare(custom_key,akharinKhabarnews())\n",
    "    except Exception as e:\n",
    "        print(f\"Error processing element: {e}\")\n",
    "        continue\n",
    "        \n",
    "    print(f\"Website {url} fully loaded.\")\n",
    "    \n",
    "\n",
    "# Close the browser\n",
    "print(\"All websites processed.\")"
   ]
  },
  {
   "cell_type": "code",
   "execution_count": null,
   "metadata": {},
   "outputs": [],
   "source": [
    "# Sort the dictionary based on total_count\n",
    "sorted_result_map = dict(sorted(result_map.items(), key=lambda item: item[1][0], reverse=True))\n",
    "\n",
    "# Print the sorted result\n",
    "for key, value in sorted_result_map.items():\n",
    "    print(f\"{key}: {value}\")"
   ]
  },
  {
   "cell_type": "code",
   "execution_count": null,
   "metadata": {},
   "outputs": [],
   "source": [
    "for key, value in result_map.items():\n",
    "    sentence = value[1]\n",
    "    print(f\"Sentence for {key}: {sentence}\")"
   ]
  },
  {
   "cell_type": "code",
   "execution_count": 37,
   "metadata": {},
   "outputs": [],
   "source": [
    "\n",
    "# Iterate through the result_map\n",
    "for key, value in result_map.items():\n",
    "    sentence = value[1]\n",
    "    paragraph = doc.add_paragraph(sentence)\n",
    "\n",
    "    # Set font size\n",
    "    run = paragraph.runs[0]\n",
    "    run.font.size = Pt(14)\n",
    "\n",
    "    # Set alignment to Right-to-Left and right alignment\n",
    "    paragraph.alignment = WD_PARAGRAPH_ALIGNMENT.RIGHT\n",
    "    paragraph_format = paragraph.paragraph_format\n",
    "    paragraph_format.space_after = Pt(14)  # Add space after each paragraph\n",
    "\n",
    "    # Set RTL direction\n",
    "    paragraph_element = paragraph._p\n",
    "    paragraph_properties = paragraph_element.get_or_add_pPr()\n",
    "    bidi = OxmlElement('w:bidi')\n",
    "    bidi.set(qn('w:val'), '1')\n",
    "    paragraph_properties.append(bidi)\n",
    "\n",
    "# Save the document\n",
    "doc.save(\"news_doc.docx\")"
   ]
  },
  {
   "cell_type": "code",
   "execution_count": null,
   "metadata": {},
   "outputs": [],
   "source": []
  }
 ],
 "metadata": {
  "kernelspec": {
   "display_name": "env",
   "language": "python",
   "name": "python3"
  },
  "language_info": {
   "codemirror_mode": {
    "name": "ipython",
    "version": 3
   },
   "file_extension": ".py",
   "mimetype": "text/x-python",
   "name": "python",
   "nbconvert_exporter": "python",
   "pygments_lexer": "ipython3",
   "version": "3.10.0"
  }
 },
 "nbformat": 4,
 "nbformat_minor": 2
}
