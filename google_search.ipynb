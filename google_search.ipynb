{
 "cells": [
  {
   "cell_type": "code",
   "execution_count": 34,
   "metadata": {},
   "outputs": [],
   "source": [
    "from selenium.webdriver.support.ui import WebDriverWait\n",
    "from selenium.webdriver.support import expected_conditions as EC\n",
    "from selenium import webdriver\n",
    "from selenium.webdriver.chrome.service import Service\n",
    "from selenium.webdriver.common.by import By\n",
    "from selenium.webdriver.common.keys import Keys \n",
    "from docx import Document\n",
    "from docx.shared import Pt  # For font size\n",
    "from docx.oxml.ns import qn  # For language customization\n",
    "from docx.oxml import parse_xml  # For custom XML styling\n",
    "from docx.shared import RGBColor  # For font color\n",
    "from docx.enum.text import WD_PARAGRAPH_ALIGNMENT\n",
    "from docx.oxml import OxmlElement\n",
    "import random\n",
    "import string\n",
    "from sentence_transformers import SentenceTransformer, util\n",
    "import os\n",
    "\n"
   ]
  },
  {
   "cell_type": "code",
   "execution_count": 35,
   "metadata": {},
   "outputs": [],
   "source": [
    "chrome_options =  webdriver.ChromeOptions()\n",
    "title_search_news_list=[]\n",
    "chrome_options.add_argument(\"--disable-gpu\")  \n",
    "chrome_options.add_argument(\"--blink-settings=imagesEnabled=false\")  \n",
    "chrome_options.add_experimental_option(\n",
    "    \"prefs\", {\"profile.managed_default_content_settings.images\": 2,}\n",
    ")\n",
    "chrome_options.add_experimental_option(\"excludeSwitches\", [\"enable-logging\"])\n",
    "chrome_options.add_argument(\"--mute-audio\")\n",
    "chrome_options.add_argument(\"--autoplay-policy=no-user-gesture-required\")# Abort the request if it's a video file\n",
    "\n",
    "doc = Document()\n",
    "sentence=''"
   ]
  },
  {
   "cell_type": "code",
   "execution_count": 36,
   "metadata": {},
   "outputs": [],
   "source": [
    "service = Service(\"C:/Users/mehdi/Documents/webdrivers/chromedriver.exe\")\n",
    "driver = webdriver.Chrome(service=service,options=chrome_options)  "
   ]
  },
  {
   "cell_type": "code",
   "execution_count": 37,
   "metadata": {},
   "outputs": [],
   "source": [
    "driver.get('https://www.google.com/advanced_search')"
   ]
  },
  {
   "cell_type": "code",
   "execution_count": 38,
   "metadata": {},
   "outputs": [],
   "source": [
    "current_sentence=''\n",
    "news_websites_url=['https://akharinkhabar.ir',#0\n",
    "                   'https://nournews.ir',#1\n",
    "                   'https://isna.ir',#2\n",
    "                   'https://farsnews.ir',#3\n",
    "                   'https://www.irna.ir',#4\n",
    "                   'https://www.iribnews.ir',#5\n",
    "                   'https://www.mehrnews.com',#6\n",
    "                   'https://www.tasnimnews.com'#7\n",
    "                   ]\n",
    "key_word = [\"لبنان\", \"غزه\", \"ایران\"]\n",
    "result_map={}\n",
    "custom_key=0"
   ]
  },
  {
   "cell_type": "code",
   "execution_count": 39,
   "metadata": {},
   "outputs": [],
   "source": [
    "public_url=news_websites_url[1]#choose webisite"
   ]
  },
  {
   "cell_type": "code",
   "execution_count": 40,
   "metadata": {},
   "outputs": [
    {
     "name": "stdout",
     "output_type": "stream",
     "text": [
      "25\n"
     ]
    }
   ],
   "source": [
    "def compare_texts(text1, text2):\n",
    "    try:\n",
    "        model = SentenceTransformer('sentence-transformers/paraphrase-multilingual-MiniLM-L12-v2')\n",
    "        embedding1 = model.encode(text1)\n",
    "        embedding2 = model.encode(text2)\n",
    "        similarity = util.cos_sim(embedding1, embedding2)\n",
    "        similarity_percentage = int(similarity.item() *100)\n",
    "        return similarity_percentage\n",
    "    except Exception as e:\n",
    "        return str(e)\n",
    "\n",
    "# Example usage\n",
    "text1 = \"گردشگری یکی از بهترین راه‌ها برای آشنایی با فرهنگ‌ها و زیبایی‌های طبیعی هر کشور است. طبیعت زیبا و چشم‌اندازهای بی‌نظیر، مانند جنگل‌ها، کوه‌ها و رودخانه‌ها، همیشه گردشگران زیادی را جذب می‌کند. افراد علاقه‌مند به طبیعت می‌توانند با سفر به مناطق مختلف، تجربه‌های منحصربه‌فردی کسب کنند و از آرامش و سکوت دلپذیر طبیعت لذت ببرند.\"\n",
    "text2 = \"تغذیه مناسب نقش مهمی در حفظ سلامتی دارد. مصرف غذاهای طبیعی مانند میوه‌ها و سبزیجات، به تأمین ویتامین‌ها و مواد معدنی موردنیاز بدن کمک می‌کند. علاوه بر این، تغذیه سالم می‌تواند از بروز بسیاری از بیماری‌ها جلوگیری کند. افراد باید به تعادل در مصرف مواد غذایی و کاهش مصرف چربی‌ها و قندهای مصنوعی توجه ویژه‌ای داشته باشند.\"\n",
    "\n",
    "similarity_percentage = compare_texts(text1, text2)\n",
    "print(similarity_percentage)\n"
   ]
  },
  {
   "cell_type": "code",
   "execution_count": 41,
   "metadata": {},
   "outputs": [],
   "source": [
    "def compare(key,text):\n",
    "    # print('----------------------------')\n",
    "    # print(f'sentence{sentence}')\n",
    "    # total_count = sum(text.lower().split().count(word.lower()) for word in key_word)\n",
    "    # # Create the result list\n",
    "    # result = [total_count, text]\n",
    "    # print(f'compare customkey{key}')\n",
    "    # Add the result to a map with a custom key\n",
    "     # Define your custom key\n",
    "    # result_map[''.join(random.choices(string.ascii_letters + string.digits, k=10))]=result\n",
    "    if not result_map:\n",
    "        result_map[key]=text\n",
    "    else:\n",
    "        for k,v in result_map.items():\n",
    "            if compare_texts(v,text)>65:\n",
    "                break\n",
    "            else:\n",
    "                result_map[key]=text\n",
    "    # Output\n",
    "    print(\"Result:\", result)\n",
    "    print(\"Map:\", result_map)"
   ]
  },
  {
   "cell_type": "code",
   "execution_count": 42,
   "metadata": {},
   "outputs": [],
   "source": [
    "def save_sentences_to_files(result_map, folder_path=\"output_files\"):\n",
    "    \n",
    "\n",
    "    # Create the folder if it doesn't exist\n",
    "    if not os.path.exists(folder_path):\n",
    "        os.makedirs(folder_path)\n",
    "\n",
    "    # Iterate over the result_map and save each sentence to a file\n",
    "    for idx, sentence in enumerate(result_map.values()):\n",
    "        file_name = os.path.join(folder_path, f\"{idx}.txt\")\n",
    "        with open(file_name, \"w\", encoding=\"utf-8\") as file:\n",
    "            file.write(sentence)\n",
    "        print(f\"Saved file: {file_name}\")\n",
    "\n",
    "\n",
    "\n",
    "\n"
   ]
  },
  {
   "cell_type": "code",
   "execution_count": 43,
   "metadata": {},
   "outputs": [],
   "source": [
    "def akharinKhabarnews():\n",
    "    print('akharin')\n",
    "    sentence=driver.find_element(By.CLASS_NAME, \"content_content__sfzd5\").text\n",
    "    return sentence\n",
    "    print(sentence)\n",
    "    print('akharin done!')\n",
    "    "
   ]
  },
  {
   "cell_type": "code",
   "execution_count": 44,
   "metadata": {},
   "outputs": [],
   "source": [
    "def tasnim():\n",
    "    sentence=str(driver.find_element(By.CLASS_NAME, \"story\"))\n",
    "    return sentence\n",
    "    print('tasni done!')"
   ]
  },
  {
   "cell_type": "code",
   "execution_count": 45,
   "metadata": {},
   "outputs": [],
   "source": [
    "def iribnews():\n",
    "    container= str(driver.find_element(By.CLASS_NAME, \"div.news_center_body\"))\n",
    "    dive= str(driver.find_element(By.CLASS_NAME, \"div.body.body_media_content_show\"))\n",
    "    sentence=f\"{container} \\n {dive}\"\n",
    "    return sentence\n",
    "    print('iribnews done!')"
   ]
  },
  {
   "cell_type": "code",
   "execution_count": 46,
   "metadata": {},
   "outputs": [],
   "source": [
    "def noornews():\n",
    "    sentence= driver.find_element(By.XPATH, '//*[@id=\"div_balance_right\"]/section/div').text\n",
    "    return sentence\n",
    "    print('noor done!')"
   ]
  },
  {
   "cell_type": "code",
   "execution_count": 47,
   "metadata": {},
   "outputs": [],
   "source": [
    "def irna():\n",
    "    elements = driver.find_elements(By.CSS_SELECTOR, \".item-text p\")\n",
    "    sentence=\" \".join([element.text for element in elements])\n",
    "    return sentence\n",
    "    print('irna done!')"
   ]
  },
  {
   "cell_type": "code",
   "execution_count": 48,
   "metadata": {},
   "outputs": [],
   "source": [
    "def fars():\n",
    "    news_text_elements=driver.find_element(By.CSS_SELECTOR, \".n-nqnd1g span.auto-dir-block\")\n",
    "    sentence=\" \".join([element.text for element in news_text_elements])\n",
    "    return sentence\n",
    "    print('fars done!')"
   ]
  },
  {
   "cell_type": "code",
   "execution_count": 49,
   "metadata": {},
   "outputs": [],
   "source": [
    "def mehrnews():\n",
    "    sentence=driver.find_element(By.CSS_SELECTOR, 'div.item-body div.item-text').text\n",
    "    return sentence\n",
    "    print('mehr done!')\n",
    "    "
   ]
  },
  {
   "cell_type": "code",
   "execution_count": 50,
   "metadata": {},
   "outputs": [],
   "source": [
    "def isna():\n",
    "    summary = driver.find_element(By.CSS_SELECTOR, \".summary\").text\n",
    "    article_body = driver.find_element(By.CSS_SELECTOR, \".item-text\").text\n",
    "    sentence=f\"{summary}\\n\\n{article_body}\"\n",
    "    return sentence\n",
    "    print(' isna done!')"
   ]
  },
  {
   "cell_type": "code",
   "execution_count": 51,
   "metadata": {},
   "outputs": [],
   "source": [
    "# Fill the 'all these words' field\n",
    "all_words = driver.find_element(By.ID, 'xX4UFf')\n",
    "all_words.send_keys('سوریه لبنان')\n",
    "\n",
    "# Fill the 'this exact word or phrase' field\n",
    "exact_phrase = driver.find_element(By.ID, 'CwYCWc')\n",
    "exact_phrase.send_keys('صلح')\n",
    "\n",
    "# Fill the 'any of these words' field\n",
    "any_words = driver.find_element(By.ID, 'mSoczb')\n",
    "any_words.send_keys(' تهران')\n",
    "\n",
    "# Fill the 'none of these words' field\n",
    "none_words = driver.find_element(By.ID, 't2dX1c')\n",
    "none_words.send_keys('نتانیاهو')\n",
    "\n",
    "# Fill the 'numbers ranging from' field (start and end)\n",
    "# range_start = driver.find_element(By.ID, 'LK5akc')\n",
    "# range_start.send_keys('10')\n",
    "\n",
    "# range_end = driver.find_element(By.NAME, 'as_nhi')  # Note: 'as_nhi' doesn't have an ID but has a name attribute\n",
    "# range_end.send_keys('35 kg')\n",
    "driver.find_element(By.ID, 'NqEkZd').send_keys(public_url.replace(\"https://\", \"\").replace(\"http://\", \"\"))  # Fill 'Website or domain'\n",
    "advance_button=driver.find_element(By.XPATH,'//*[@id=\"s1zaZb\"]/div[5]/div[8]/div[2]/input[2]')\n",
    "advance_button.click()\n",
    "custom_key=0"
   ]
  },
  {
   "cell_type": "code",
   "execution_count": 52,
   "metadata": {},
   "outputs": [
    {
     "name": "stdout",
     "output_type": "stream",
     "text": [
      "['https://www.google.com/search?q=%D8%B3%D9%88%D8%B1%DB%8C%D9%87+%D9%84%D8%A8%D9%86%D8%A7%D9%86+%D8%AA%D9%87%D8%B1%D8%A7%D9%86+%22%D8%B5%D9%84%D8%AD%22+-%D9%86%D8%AA%D8%A7%D9%86%DB%8C%D8%A7%D9%87%D9%88+site:nournews.ir&lr=&sca_esv=442be0e50c9187c8&as_qdr=all&ei=NBt6Z5rFKeOkkdUPoMasoA0&start=10&sa=N&sstk=ATObxK6HVi6Jh5n6aVI_IhAEFntHMMJSZ4FXmMwl3vMY_MmkSjkOvt-P_Ktv8cNg0AzpVusCDoI5kZ0PLvpsEcTw6y2VpGr6Xkmirw&ved=2ahUKEwiar4KN792KAxVjUqQEHSAjC9QQ8tMDegQIKhAE', 'https://www.google.com/search?q=%D8%B3%D9%88%D8%B1%DB%8C%D9%87+%D9%84%D8%A8%D9%86%D8%A7%D9%86+%D8%AA%D9%87%D8%B1%D8%A7%D9%86+%22%D8%B5%D9%84%D8%AD%22+-%D9%86%D8%AA%D8%A7%D9%86%DB%8C%D8%A7%D9%87%D9%88+site:nournews.ir&lr=&sca_esv=442be0e50c9187c8&as_qdr=all&ei=NBt6Z5rFKeOkkdUPoMasoA0&start=20&sa=N&sstk=ATObxK6HVi6Jh5n6aVI_IhAEFntHMMJSZ4FXmMwl3vMY_MmkSjkOvt-P_Ktv8cNg0AzpVusCDoI5kZ0PLvpsEcTw6y2VpGr6Xkmirw&ved=2ahUKEwiar4KN792KAxVjUqQEHSAjC9QQ8tMDegQIKhAG', 'https://www.google.com/search?q=%D8%B3%D9%88%D8%B1%DB%8C%D9%87+%D9%84%D8%A8%D9%86%D8%A7%D9%86+%D8%AA%D9%87%D8%B1%D8%A7%D9%86+%22%D8%B5%D9%84%D8%AD%22+-%D9%86%D8%AA%D8%A7%D9%86%DB%8C%D8%A7%D9%87%D9%88+site:nournews.ir&lr=&sca_esv=442be0e50c9187c8&as_qdr=all&ei=NBt6Z5rFKeOkkdUPoMasoA0&start=30&sa=N&sstk=ATObxK6HVi6Jh5n6aVI_IhAEFntHMMJSZ4FXmMwl3vMY_MmkSjkOvt-P_Ktv8cNg0AzpVusCDoI5kZ0PLvpsEcTw6y2VpGr6Xkmirw&ved=2ahUKEwiar4KN792KAxVjUqQEHSAjC9QQ8tMDegQIKhAI', 'https://www.google.com/search?q=%D8%B3%D9%88%D8%B1%DB%8C%D9%87+%D9%84%D8%A8%D9%86%D8%A7%D9%86+%D8%AA%D9%87%D8%B1%D8%A7%D9%86+%22%D8%B5%D9%84%D8%AD%22+-%D9%86%D8%AA%D8%A7%D9%86%DB%8C%D8%A7%D9%87%D9%88+site:nournews.ir&lr=&sca_esv=442be0e50c9187c8&as_qdr=all&ei=NBt6Z5rFKeOkkdUPoMasoA0&start=40&sa=N&sstk=ATObxK6HVi6Jh5n6aVI_IhAEFntHMMJSZ4FXmMwl3vMY_MmkSjkOvt-P_Ktv8cNg0AzpVusCDoI5kZ0PLvpsEcTw6y2VpGr6Xkmirw&ved=2ahUKEwiar4KN792KAxVjUqQEHSAjC9QQ8tMDegQIKhAK', 'https://www.google.com/search?q=%D8%B3%D9%88%D8%B1%DB%8C%D9%87+%D9%84%D8%A8%D9%86%D8%A7%D9%86+%D8%AA%D9%87%D8%B1%D8%A7%D9%86+%22%D8%B5%D9%84%D8%AD%22+-%D9%86%D8%AA%D8%A7%D9%86%DB%8C%D8%A7%D9%87%D9%88+site:nournews.ir&lr=&sca_esv=442be0e50c9187c8&as_qdr=all&ei=NBt6Z5rFKeOkkdUPoMasoA0&start=50&sa=N&sstk=ATObxK6HVi6Jh5n6aVI_IhAEFntHMMJSZ4FXmMwl3vMY_MmkSjkOvt-P_Ktv8cNg0AzpVusCDoI5kZ0PLvpsEcTw6y2VpGr6Xkmirw&ved=2ahUKEwiar4KN792KAxVjUqQEHSAjC9QQ8tMDegQIKhAM', 'https://www.google.com/search?q=%D8%B3%D9%88%D8%B1%DB%8C%D9%87+%D9%84%D8%A8%D9%86%D8%A7%D9%86+%D8%AA%D9%87%D8%B1%D8%A7%D9%86+%22%D8%B5%D9%84%D8%AD%22+-%D9%86%D8%AA%D8%A7%D9%86%DB%8C%D8%A7%D9%87%D9%88+site:nournews.ir&lr=&sca_esv=442be0e50c9187c8&as_qdr=all&ei=NBt6Z5rFKeOkkdUPoMasoA0&start=60&sa=N&sstk=ATObxK6HVi6Jh5n6aVI_IhAEFntHMMJSZ4FXmMwl3vMY_MmkSjkOvt-P_Ktv8cNg0AzpVusCDoI5kZ0PLvpsEcTw6y2VpGr6Xkmirw&ved=2ahUKEwiar4KN792KAxVjUqQEHSAjC9QQ8tMDegQIKhAO', 'https://www.google.com/search?q=%D8%B3%D9%88%D8%B1%DB%8C%D9%87+%D9%84%D8%A8%D9%86%D8%A7%D9%86+%D8%AA%D9%87%D8%B1%D8%A7%D9%86+%22%D8%B5%D9%84%D8%AD%22+-%D9%86%D8%AA%D8%A7%D9%86%DB%8C%D8%A7%D9%87%D9%88+site:nournews.ir&lr=&sca_esv=442be0e50c9187c8&as_qdr=all&ei=NBt6Z5rFKeOkkdUPoMasoA0&start=70&sa=N&sstk=ATObxK6HVi6Jh5n6aVI_IhAEFntHMMJSZ4FXmMwl3vMY_MmkSjkOvt-P_Ktv8cNg0AzpVusCDoI5kZ0PLvpsEcTw6y2VpGr6Xkmirw&ved=2ahUKEwiar4KN792KAxVjUqQEHSAjC9QQ8tMDegQIKhAQ', 'https://www.google.com/search?q=%D8%B3%D9%88%D8%B1%DB%8C%D9%87+%D9%84%D8%A8%D9%86%D8%A7%D9%86+%D8%AA%D9%87%D8%B1%D8%A7%D9%86+%22%D8%B5%D9%84%D8%AD%22+-%D9%86%D8%AA%D8%A7%D9%86%DB%8C%D8%A7%D9%87%D9%88+site:nournews.ir&lr=&sca_esv=442be0e50c9187c8&as_qdr=all&ei=NBt6Z5rFKeOkkdUPoMasoA0&start=80&sa=N&sstk=ATObxK6HVi6Jh5n6aVI_IhAEFntHMMJSZ4FXmMwl3vMY_MmkSjkOvt-P_Ktv8cNg0AzpVusCDoI5kZ0PLvpsEcTw6y2VpGr6Xkmirw&ved=2ahUKEwiar4KN792KAxVjUqQEHSAjC9QQ8tMDegQIKhAS', 'https://www.google.com/search?q=%D8%B3%D9%88%D8%B1%DB%8C%D9%87+%D9%84%D8%A8%D9%86%D8%A7%D9%86+%D8%AA%D9%87%D8%B1%D8%A7%D9%86+%22%D8%B5%D9%84%D8%AD%22+-%D9%86%D8%AA%D8%A7%D9%86%DB%8C%D8%A7%D9%87%D9%88+site:nournews.ir&lr=&sca_esv=442be0e50c9187c8&as_qdr=all&ei=NBt6Z5rFKeOkkdUPoMasoA0&start=90&sa=N&sstk=ATObxK6HVi6Jh5n6aVI_IhAEFntHMMJSZ4FXmMwl3vMY_MmkSjkOvt-P_Ktv8cNg0AzpVusCDoI5kZ0PLvpsEcTw6y2VpGr6Xkmirw&ved=2ahUKEwiar4KN792KAxVjUqQEHSAjC9QQ8tMDegQIKhAU', 'https://www.google.com/search?q=%D8%B3%D9%88%D8%B1%DB%8C%D9%87+%D9%84%D8%A8%D9%86%D8%A7%D9%86+%D8%AA%D9%87%D8%B1%D8%A7%D9%86+%22%D8%B5%D9%84%D8%AD%22+-%D9%86%D8%AA%D8%A7%D9%86%DB%8C%D8%A7%D9%87%D9%88+site:nournews.ir&lr=&sca_esv=442be0e50c9187c8&as_qdr=all&ei=NBt6Z5rFKeOkkdUPoMasoA0&start=10&sa=N&sstk=ATObxK6HVi6Jh5n6aVI_IhAEFntHMMJSZ4FXmMwl3vMY_MmkSjkOvt-P_Ktv8cNg0AzpVusCDoI5kZ0PLvpsEcTw6y2VpGr6Xkmirw&ved=2ahUKEwiar4KN792KAxVjUqQEHSAjC9QQ8NMDegQIKhAW']\n"
     ]
    }
   ],
   "source": [
    "\n",
    "# Locate the table containing the page links\n",
    "table = driver.find_element(By.CLASS_NAME, \"AaVjTc\")\n",
    "# Find all anchor tags (<a>) in the table\n",
    "anchors = table.find_elements(By.TAG_NAME, \"a\")\n",
    "\n",
    "# Extract the URLs from the href attribute and store them in a list\n",
    "urls = [anchor.get_attribute(\"href\") for anchor in anchors]\n",
    "\n",
    "# Print the first 10 URLs\n",
    "print(urls[:10])"
   ]
  },
  {
   "cell_type": "code",
   "execution_count": 53,
   "metadata": {},
   "outputs": [
    {
     "name": "stdout",
     "output_type": "stream",
     "text": [
      "Extracted Titles and URLs:\n",
      "Title: درگیری ارتش لبنان با گروه های مسلح سوری\n",
      "URL: https://nournews.ir/fa/news/206863/%D8%AF%D8%B1%DA%AF%DB%8C%D8%B1%DB%8C-%D8%A7%D8%B1%D8%AA%D8%B4-%D9%84%D8%A8%D9%86%D8%A7%D9%86-%D8%A8%D8%A7-%DA%AF%D8%B1%D9%88%D9%87-%D9%87%D8%A7%DB%8C-%D9%85%D8%B3%D9%84%D8%AD-%D8%B3%D9%88%D8%B1%DB%8C\n",
      "--------------------------------------------------\n",
      "Title: وظیفه همه کشورهای صلح دوست، تلاش برای برقراری آتش‌بس ...\n",
      "URL: https://nournews.ir/fa/news/199962/%D9%88%D8%B8%DB%8C%D9%81%D9%87-%D9%87%D9%85%D9%87-%DA%A9%D8%B4%D9%88%D8%B1%D9%87%D8%A7%DB%8C-%D8%B5%D9%84%D8%AD-%D8%AF%D9%88%D8%B3%D8%AA%D8%8C-%D8%AA%D9%84%D8%A7%D8%B4-%D8%A8%D8%B1%D8%A7%DB%8C-%D8%A8%D8%B1%D9%82%D8%B1%D8%A7%D8%B1%DB%8C-%D8%A2%D8%AA%D8%B4%E2%80%8C%D8%A8%D8%B3-%D8%AF%D8%B1-%D9%84%D8%A8%D9%86%D8%A7%D9%86-%D9%88-%D8%BA%D8%B2%D9%87-%D8%A7%D8%B3%D8%AA\n",
      "--------------------------------------------------\n",
      "Title: واکنش وزارت خارجه به برخی ادعاها درباره نحوه خروج ایرانیان ...\n",
      "URL: https://nournews.ir/fa/news/204738/%D9%88%D8%A7%DA%A9%D9%86%D8%B4-%D9%88%D8%B2%D8%A7%D8%B1%D8%AA-%D8%AE%D8%A7%D8%B1%D8%AC%D9%87-%D8%A8%D9%87-%D8%A8%D8%B1%D8%AE%DB%8C-%D8%A7%D8%AF%D8%B9%D8%A7%D9%87%D8%A7-%D8%AF%D8%B1%D8%A8%D8%A7%D8%B1%D9%87-%D9%86%D8%AD%D9%88%D9%87-%D8%AE%D8%B1%D9%88%D8%AC-%D8%A7%DB%8C%D8%B1%D8%A7%D9%86%DB%8C%D8%A7%D9%86-%D8%A7%D8%B2-%D8%B3%D9%88%D8%B1%DB%8C%D9%87-%D9%88-%D8%A7%D8%B8%D9%87%D8%A7%D8%B1%D8%A7%D8%AA-%D9%BE%D9%88%D8%AA%DB%8C%D9%86\n",
      "--------------------------------------------------\n",
      "All URLs:\n",
      "['https://nournews.ir/fa/news/206863/%D8%AF%D8%B1%DA%AF%DB%8C%D8%B1%DB%8C-%D8%A7%D8%B1%D8%AA%D8%B4-%D9%84%D8%A8%D9%86%D8%A7%D9%86-%D8%A8%D8%A7-%DA%AF%D8%B1%D9%88%D9%87-%D9%87%D8%A7%DB%8C-%D9%85%D8%B3%D9%84%D8%AD-%D8%B3%D9%88%D8%B1%DB%8C', 'https://nournews.ir/fa/news/199962/%D9%88%D8%B8%DB%8C%D9%81%D9%87-%D9%87%D9%85%D9%87-%DA%A9%D8%B4%D9%88%D8%B1%D9%87%D8%A7%DB%8C-%D8%B5%D9%84%D8%AD-%D8%AF%D9%88%D8%B3%D8%AA%D8%8C-%D8%AA%D9%84%D8%A7%D8%B4-%D8%A8%D8%B1%D8%A7%DB%8C-%D8%A8%D8%B1%D9%82%D8%B1%D8%A7%D8%B1%DB%8C-%D8%A2%D8%AA%D8%B4%E2%80%8C%D8%A8%D8%B3-%D8%AF%D8%B1-%D9%84%D8%A8%D9%86%D8%A7%D9%86-%D9%88-%D8%BA%D8%B2%D9%87-%D8%A7%D8%B3%D8%AA', 'https://nournews.ir/fa/news/204738/%D9%88%D8%A7%DA%A9%D9%86%D8%B4-%D9%88%D8%B2%D8%A7%D8%B1%D8%AA-%D8%AE%D8%A7%D8%B1%D8%AC%D9%87-%D8%A8%D9%87-%D8%A8%D8%B1%D8%AE%DB%8C-%D8%A7%D8%AF%D8%B9%D8%A7%D9%87%D8%A7-%D8%AF%D8%B1%D8%A8%D8%A7%D8%B1%D9%87-%D9%86%D8%AD%D9%88%D9%87-%D8%AE%D8%B1%D9%88%D8%AC-%D8%A7%DB%8C%D8%B1%D8%A7%D9%86%DB%8C%D8%A7%D9%86-%D8%A7%D8%B2-%D8%B3%D9%88%D8%B1%DB%8C%D9%87-%D9%88-%D8%A7%D8%B8%D9%87%D8%A7%D8%B1%D8%A7%D8%AA-%D9%BE%D9%88%D8%AA%DB%8C%D9%86']\n"
     ]
    }
   ],
   "source": [
    "data = []\n",
    "news_current_urls = []  # Variable to store all URLs\n",
    "elements = driver.find_elements(By.CLASS_NAME, \"LC20lb\")  # Locate elements with the specific class\n",
    "for element in elements:\n",
    "    title = element.text  # Get the title text\n",
    "    try:\n",
    "        parent = element.find_element(By.XPATH, \"..\")  # Move to the parent element (usually <a>)\n",
    "        url = parent.get_attribute(\"href\")  # Get the link\n",
    "        if title and url:\n",
    "            data.append({\"title\": title, \"url\": url})\n",
    "            news_current_urls.append(url)  # Save the URL in the variable\n",
    "    except Exception as e:\n",
    "        print(f\"Error processing element: {e}\")\n",
    "\n",
    "# Print Titles and URLs\n",
    "print(\"Extracted Titles and URLs:\")\n",
    "for item in data:\n",
    "    print(f\"Title: {item['title']}\")\n",
    "    title_search_news_list.append(item['title'])\n",
    "    \n",
    "    print(f\"URL: {item['url']}\")\n",
    "    print(\"-\" * 50)\n",
    "\n",
    "# Print URLs stored in `news_current_urls`\n",
    "print(\"All URLs:\")\n",
    "print(news_current_urls)"
   ]
  },
  {
   "cell_type": "code",
   "execution_count": null,
   "metadata": {},
   "outputs": [],
   "source": []
  },
  {
   "cell_type": "code",
   "execution_count": 54,
   "metadata": {},
   "outputs": [
    {
     "name": "stdout",
     "output_type": "stream",
     "text": [
      "Loading website 1/3: https://nournews.ir/fa/news/206863/%D8%AF%D8%B1%DA%AF%DB%8C%D8%B1%DB%8C-%D8%A7%D8%B1%D8%AA%D8%B4-%D9%84%D8%A8%D9%86%D8%A7%D9%86-%D8%A8%D8%A7-%DA%AF%D8%B1%D9%88%D9%87-%D9%87%D8%A7%DB%8C-%D9%85%D8%B3%D9%84%D8%AD-%D8%B3%D9%88%D8%B1%DB%8C\n",
      "public:https://nournews.ir\n",
      "Error processing element: name 'result' is not defined\n",
      "Loading website 2/3: https://nournews.ir/fa/news/199962/%D9%88%D8%B8%DB%8C%D9%81%D9%87-%D9%87%D9%85%D9%87-%DA%A9%D8%B4%D9%88%D8%B1%D9%87%D8%A7%DB%8C-%D8%B5%D9%84%D8%AD-%D8%AF%D9%88%D8%B3%D8%AA%D8%8C-%D8%AA%D9%84%D8%A7%D8%B4-%D8%A8%D8%B1%D8%A7%DB%8C-%D8%A8%D8%B1%D9%82%D8%B1%D8%A7%D8%B1%DB%8C-%D8%A2%D8%AA%D8%B4%E2%80%8C%D8%A8%D8%B3-%D8%AF%D8%B1-%D9%84%D8%A8%D9%86%D8%A7%D9%86-%D9%88-%D8%BA%D8%B2%D9%87-%D8%A7%D8%B3%D8%AA\n",
      "public:https://nournews.ir\n",
      "Error processing element: name 'result' is not defined\n",
      "Loading website 3/3: https://nournews.ir/fa/news/204738/%D9%88%D8%A7%DA%A9%D9%86%D8%B4-%D9%88%D8%B2%D8%A7%D8%B1%D8%AA-%D8%AE%D8%A7%D8%B1%D8%AC%D9%87-%D8%A8%D9%87-%D8%A8%D8%B1%D8%AE%DB%8C-%D8%A7%D8%AF%D8%B9%D8%A7%D9%87%D8%A7-%D8%AF%D8%B1%D8%A8%D8%A7%D8%B1%D9%87-%D9%86%D8%AD%D9%88%D9%87-%D8%AE%D8%B1%D9%88%D8%AC-%D8%A7%DB%8C%D8%B1%D8%A7%D9%86%DB%8C%D8%A7%D9%86-%D8%A7%D8%B2-%D8%B3%D9%88%D8%B1%DB%8C%D9%87-%D9%88-%D8%A7%D8%B8%D9%87%D8%A7%D8%B1%D8%A7%D8%AA-%D9%BE%D9%88%D8%AA%DB%8C%D9%86\n",
      "public:https://nournews.ir\n",
      "Error processing element: dictionary changed size during iteration\n",
      "Saved file: output_files\\0.txt\n",
      "Saved file: output_files\\1.txt\n",
      "All websites processed.\n"
     ]
    }
   ],
   "source": [
    "for index, url in enumerate(news_current_urls):\n",
    "    print(f\"Loading website {index + 1}/{len(news_current_urls)}: {url}\")\n",
    "    driver.get(url)  # Load the URL\n",
    "    custom_key=index\n",
    "    \n",
    "        # Wait until the page has fully loaded (specific condition can be customized)\n",
    "    WebDriverWait(driver, 10).until(\n",
    "        EC.presence_of_element_located((By.TAG_NAME, \"body\"))  # Wait for the body tag to load\n",
    "    )\n",
    "        \n",
    "    print(f'public:{public_url}')\n",
    "    try:\n",
    "        match public_url:\n",
    "            case   'https://nournews.ir': compare(custom_key,noornews())\n",
    "            case   'https://isna.ir': compare(custom_key,isna())\n",
    "            case   'https://farsnews.ir': compare(custom_key,fars())\n",
    "            case   'https://www.irna.ir': compare(custom_key,irna())\n",
    "            case   'https://www.iribnews.ir': compare(custom_key,iribnews())\n",
    "            case   'https://www.mehrnews.com': compare(custom_key,mehrnews())\n",
    "            case   'https://www.tasnimnews.com': compare(custom_key,tasnim()) \n",
    "            case   'https://akharinkhabar.ir':compare(custom_key,akharinKhabarnews())\n",
    "    except Exception as e:\n",
    "        print(f\"Error processing element: {e}\")\n",
    "        continue\n",
    "        \n",
    "    print(f\"Website {url} fully loaded.\")\n",
    "else:\n",
    "    # Save sentences to files\n",
    "    save_sentences_to_files(result_map)    \n",
    "\n",
    "# Close the browser\n",
    "print(\"All websites processed.\")"
   ]
  },
  {
   "cell_type": "code",
   "execution_count": 55,
   "metadata": {},
   "outputs": [],
   "source": [
    "# # Sort the dictionary based on total_count\n",
    "# sorted_result_map = dict(sorted(result_map.items(), key=lambda item: item[1][0], reverse=True))\n",
    "\n",
    "# # Print the sorted result\n",
    "# for key, value in sorted_result_map.items():\n",
    "#     print(f\"{key}: {value}\")"
   ]
  },
  {
   "cell_type": "code",
   "execution_count": 56,
   "metadata": {},
   "outputs": [
    {
     "name": "stdout",
     "output_type": "stream",
     "text": [
      "Sentence for 0: درگیری ارتش لبنان با گروه های مسلح سوری\n",
      "ارتش لبنان روز جمعه در بیانیه‌ای از وقوع درگیری در مرز با سوریه خبر داد و اعلام کرد که در جریان آن یک سرباز لبنانی زخمی شده است.\n",
      "نورنیوز-گروه بین الملل: ارتش لبنان در این بیانیه اعلام کرد: یک یگان ارتش لبنان برای بستن یک گذرگاه غیرقانونی در مرز لبنان با سوریه در منطقه معربون- بعلبلک با نیروهای سوری درگیر شد.\n",
      "براساس این گزارش، نیروهای ارتش لبنان در این درگیری اقدام به تیراندازی هوایی کردند که در پاسخ، گروه‌های سوری به سمت نیروهای ارتش لبنان آتش گشودند و در نتیجه یکی از سربازان ارتش لبنان زخمی شد.\n",
      "این درگیری منجر به افزایش تدابیر نظامی توسط یگان‌های مستقر در منطقه شد.\n",
      "همچنین خبرنگار النشره گزارش داد که ارتش لبنان نیروهای کمکی به محل درگیری در مرز لبنان با سوریه اعزام کرده است.\n",
      "\n",
      "نورنیوز\n",
      "Sentence for 2: واکنش وزارت خارجه به برخی ادعاها درباره نحوه خروج ایرانیان از سوریه و اظهارات پوتین\n",
      "سخنگوی وزارت امور خارجه گفت: حضور مستشاری ایران در سوریه از ابتدا با هدف کمک به ارتش این کشور و برای مقابله با تروریسم و جلوگیری از سرایت ناامنی به کل منطقه بود، تصمیم برای خروج نیروهای مستشاری نیز اقدامی مسئولانه و با در نظرگرفتن وضعیت حاکم بر سوریه و منطقه صورت گرفت.\n",
      "نورنیوز-گروه سیاسی: ولادیمیر پوتین رئیس جمهور فدراسیون روسیه اخیرا در جریان نشست خبری سالانه تحت عنوان «تماس مستقیم» برای نخستین بار از زمان سقوط دولت بشار اسد در سوریه به پرسش هایی درباره تحولات میدانی منتهی به خارج شدن بشار اسد از دمشق همچنین هماهنگی های انجام شده میان جمهوری اسلامی ایران و فدراسیون روسیه به عنوان دو بازیگر فعال در پرونده سوریه در سیزده سال اخیر پاسخ داد.\n",
      "بخش هایی از سخنان رئیس جمهور روسیه در این نشست خبری با واکنش هایی در میان افکار عمومی و البته فضای رسانه ای کشور روبه رو شده است. به عنوان نمونه، ولادیمیر پوتین با اشاره به اینکه روسیه هیچ نیروی زمینی در سوریه نداشته گفت: «دو پایگاه ما در آنجا است، یکی پایگاه نیروی هوایی و دیگری پایگاه نظامی-دریایی. مؤلفه زمینی متشکل از نیروهای مسلح خود سوریه و برخی دیگر، همانطور که همه می دانیم چرا که هیچ نکته پنهانی وجود ندارد، به اصطلاح یگان های رزمی طرفدار ایران بودند. حتی در برهه ای از زمان ما نیروهای عملیات ویژه را از آنجا بیرون کشیدیم. کار ما آنجا صرف جنگیدن نبوده است.»\n",
      "رئیس جمهور روسیه در پاسخ به این سوال که چه اتفاقی در روزهای پایانی در سوریه رخ داد که بسیاری معادله های جاری را بر هم زد، روایت خود را از آنچه در میدان نظامی رخ داده و گفت: «زمانی که گروه های مخالف مسلح به حلب نزدیک شدند، حدود ۳۰ هزار نفر از حلب دفاع می کردند. ۳۵۰ شبه نظامی وارد شهر شدند. نیروهای دولتی و همراه با آن واحدهای به اصطلاح طرفدار ایران بدون درگیری عقب نشینی و مواضع خود را منفجر کردند و رفتند. به استثنای چند مورد که درگیری‌های مسلحانه رخ داد، در سراسر خاک سوریه وضعیت اینگونه بود. اگر قبلاً مثلاً همین دوستان ایرانی از ما می خواستند که به آنها کمک کنیم تا واحدهایشان را به خاک سوریه منتقل کنند، حالا از ما می خواهند که آنها را از آنجا خارج کنیم. ما ۴ هزار رزمنده ایرانی را از پایگاه حمیمیم تخلیه و به تهران منتقل کرده ایم. برخی واحدهای به اصطلاح طرفدار ایران بدون ورود به درگیری به لبنان و برخی دیگر به عراق رفتند.»\n",
      "از زمان وقوع دور تازه‌ای از تحولات در سوریه و خروج بشار اسد از این کشور به مقصد روسیه، مقام های متعدد ایرانی از وزیر خارجه تا سخنگوی وزارت خارجه و سفیر جمهوری اسلامی ایران در سوریه با حضور در برنامه های متفاوت تلویزیونی و برگزاری نشست خبری به بیان تحولات رخ داده در سوریه چند هفته و چند روز منتهی به سقوط دولت بشار اسد پرداخته اند؛ اما نکاتی که رئیس جمهور روسیه در نشست خبری سالانه مطرح کرد از جنبه برخی جزئیات مطرح شده تازگی داشت.\n",
      "تصمیم تهران در مورد خروج نیروهای مستشاری از سوریه اقدامی مسئولانه بود.\n",
      "اسماعیل بقائی با یادآوری سابقه طولانی همکاری و هماهنگی میان ایران و روسیه در مواجهه مشترک با تروریسم در سوریه، گفت: اینکه طرف‌های دخیل در تحولات سوریه روایت‌های خاص خود راجع به علل و عوامل تحولات و نقش بازیگران مختلف داشته باشند، غیر طبیعی نیست. در عین حال به نظر می‌رسد برخی موارد مطرح‌شده در مورد نقش مستشاری ایران در سوریه در روزهای پایانی منتهی به سقوط دمشق، مبتنی بر اطلاعات دقیق نبوده باشد.\n",
      "سخنگوی وزارت امور خارجه گفت: حضور مستشاری جمهوری اسلامی ایران در دمشق از ابتدا با هدف کمک به ارتش سوریه برای مقابله با تروریسم و جلوگیری از سرایت ناامنی به محیط پیرامونی و کل منطقه بود و تصمیم‌گیری در مورد خروج نیروهای مستشاری نیز اقدامی مسئولانه و با در نظرگرفتن شرایط و ملاحظات حاکم بر محیط امنیتی -نظامی - سیاسی سوریه و وضعیت منطقه صورت گرفت.\n",
      "بعد از سقوط داعش، حضور نظامی ایران در خطوط دفاعی سوریه تغییر کرد\n",
      "بقائی با اشاره به اینکه جمهوری اسلامی ایران بنا به دعوت دولت قانونی و مستقر سوریه در این کشور حضور یافته افزود: ایران و سوریه همکاری‌های اثربخش را در سال‌های متمادی در برابر تروریسم داشتند و موفق شدند مانع از ریشه‌گیری جریان خطرناک داعش در سوریه و عراق و گسترش تروریسم در منطقه شوند.\n",
      "وی افزود: بعد از سقوط داعش، حضور نظامی ایران در خطوط دفاعی سوریه تغییر یافته و خطوط دفاعی محدود به کمک مستشاری به سوریه برای جلوگیری از احیای داعش و تروریسم تکفیری و نیز تقویت توان نظامی این کشور در برابر ماجراجویی‌های رژیم صهیونیستی شد که این اقدام موفقیت آمیز بود و آن‌چنان که همگان دیدند با خروج نیروهای مستشاری ایران از سوریه، رژیم اشغالگر بلافاصله بخش‌های راهبردی از سرزمین سوریه را اشغال کرد و همزمان زیرساخت‌های حیاتی دفاعی آن کشور را منهدم کرد.\n",
      "تهران ترجیح می دهد تبادل نظر با مسکو از مجاری رسمی باشد\n",
      "سخنگوی وزارت خارجه در پاسخ به پرسشی درباره آمار مطرح شده پیرامون تعداد اتباع ایرانی منتقل شده از سوریه به ایرنا می گوید: این افراد شامل خانواده‌ دیپلمات‌ها و کارکنان نمایندگی‌های دیپلماتیک -کنسولی و فرهنگی ایران در سوریه و زائران ایرانی و تعدادی زائر غیر ایرانی و افرادی بود که برای کمک به آوارگان لبنانی به سوریه رفته بودند. همه این افراد با هواپیماهای ایرانی و از طریق فرودگاه حمیمیم که با همکاری روسیه همواره به عنوان فرودگاه کمکی در کنار فرودگاه دمشق استفاده می‌شد، به ایران منتقل شدند.\n",
      "سخنگوی وزارت خارجه در پایان این گفت و گو تاکید کرد که ایران و روسیه دارای روابط مهم در حوزه‌های گوناگون بوده و گفت‌وگوهای دو کشور به طور مداوم در سطوح مختلف در جریان است، ترجیح می‌دهیم تبادل نظرات و تجربیات نیز از مجاری رسمی انجام شود.\n"
     ]
    }
   ],
   "source": [
    "for key, sentence in result_map.items():\n",
    "    print(f\"Sentence for {key}: {sentence}\")"
   ]
  },
  {
   "cell_type": "code",
   "execution_count": 25,
   "metadata": {},
   "outputs": [],
   "source": []
  },
  {
   "cell_type": "code",
   "execution_count": 57,
   "metadata": {},
   "outputs": [],
   "source": [
    "\n",
    "# Iterate through the result_map\n",
    "for key, value in result_map.items():\n",
    "    sentence = value[1]\n",
    "    paragraph = doc.add_paragraph(sentence)\n",
    "\n",
    "    # Set font size\n",
    "    run = paragraph.runs[0]\n",
    "    run.font.size = Pt(14)\n",
    "\n",
    "    # Set alignment to Right-to-Left and right alignment\n",
    "    paragraph.alignment = WD_PARAGRAPH_ALIGNMENT.RIGHT\n",
    "    paragraph_format = paragraph.paragraph_format\n",
    "    paragraph_format.space_after = Pt(14)  # Add space after each paragraph\n",
    "\n",
    "    # Set RTL direction\n",
    "    paragraph_element = paragraph._p\n",
    "    paragraph_properties = paragraph_element.get_or_add_pPr()\n",
    "    bidi = OxmlElement('w:bidi')\n",
    "    bidi.set(qn('w:val'), '1')\n",
    "    paragraph_properties.append(bidi)\n",
    "\n",
    "# Save the document\n",
    "doc.save(\"news_doc.docx\")"
   ]
  },
  {
   "cell_type": "code",
   "execution_count": null,
   "metadata": {},
   "outputs": [],
   "source": []
  }
 ],
 "metadata": {
  "kernelspec": {
   "display_name": "Python 3",
   "language": "python",
   "name": "python3"
  },
  "language_info": {
   "codemirror_mode": {
    "name": "ipython",
    "version": 3
   },
   "file_extension": ".py",
   "mimetype": "text/x-python",
   "name": "python",
   "nbconvert_exporter": "python",
   "pygments_lexer": "ipython3",
   "version": "3.10.0"
  }
 },
 "nbformat": 4,
 "nbformat_minor": 2
}
