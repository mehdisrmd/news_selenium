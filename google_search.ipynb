{
 "cells": [
  {
   "cell_type": "code",
   "execution_count": 10,
   "metadata": {},
   "outputs": [],
   "source": [
    "from selenium.webdriver.support.ui import WebDriverWait\n",
    "from selenium.webdriver.support import expected_conditions as EC\n",
    "from selenium import webdriver\n",
    "from selenium.webdriver.chrome.service import Service\n",
    "from selenium.webdriver.common.by import By\n",
    "from selenium.webdriver.common.keys import Keys \n",
    "from docx import Document\n",
    "from docx.shared import Pt  # For font size\n",
    "from docx.oxml.ns import qn  # For language customization\n",
    "from docx.oxml import parse_xml  # For custom XML styling\n",
    "from docx.shared import RGBColor  # For font color\n",
    "from docx.enum.text import WD_PARAGRAPH_ALIGNMENT\n",
    "from docx.oxml import OxmlElement\n",
    "import random\n",
    "import string\n",
    "from sentence_transformers import SentenceTransformer, util\n",
    "import os\n",
    "\n"
   ]
  },
  {
   "cell_type": "code",
   "execution_count": 11,
   "metadata": {},
   "outputs": [],
   "source": [
    "#auto parameters initialize\n",
    "doc = Document()\n",
    "sentence=''\n",
    "all_urls=[]\n",
    "news_websites_url=['https://akharinkhabar.ir',#0\n",
    "                   'https://nournews.ir',#1\n",
    "                   'https://isna.ir',#2\n",
    "                   'https://farsnews.ir',#3\n",
    "                   'https://www.irna.ir',#4\n",
    "                   'https://www.iribnews.ir',#5\n",
    "                   'https://www.mehrnews.com',#6\n",
    "                   'https://www.tasnimnews.com'#7\n",
    "                   ]\n",
    "result_map={}\n",
    "custom_key=0"
   ]
  },
  {
   "cell_type": "code",
   "execution_count": 12,
   "metadata": {},
   "outputs": [],
   "source": [
    "#parameters must be initialize \n",
    "target_page=1 #google page length\n",
    "# Fill the 'all these words' field\n",
    "words=''\n",
    "# Fill the 'this exact word or phrase' field\n",
    "exact_word =''\n",
    "# Fill the 'any of these words' field\n",
    "any_word=''\n",
    "# Fill the 'none of these words' field\n",
    "none_word=''\n",
    "public_url=''#news_websites_url[0-7]#choose webisite\n",
    "#path save final file\n",
    "folder_path=''"
   ]
  },
  {
   "cell_type": "code",
   "execution_count": 13,
   "metadata": {},
   "outputs": [],
   "source": [
    "chrome_options =  webdriver.ChromeOptions()\n",
    "title_search_news_list=[]\n",
    "chrome_options.add_argument(\"--disable-gpu\")  \n",
    "chrome_options.add_argument(\"--blink-settings=imagesEnabled=false\")  \n",
    "chrome_options.add_experimental_option(\n",
    "    \"prefs\", {\"profile.managed_default_content_settings.images\": 2,}\n",
    ")\n",
    "chrome_options.add_experimental_option(\"excludeSwitches\", [\"enable-logging\"])\n",
    "chrome_options.add_argument(\"--autoplay-policy=no-user-gesture-required\")# Abort the request if it's a video file\n",
    "\n"
   ]
  },
  {
   "cell_type": "code",
   "execution_count": 14,
   "metadata": {},
   "outputs": [],
   "source": [
    "def start():\n",
    "    try:\n",
    "        service = Service(\"C:/Users/mehdi/Documents/webdrivers/chromedriver.exe\")\n",
    "        driver = webdriver.Chrome(service=service, options=chrome_options)  \n",
    "        driver.get('https://www.google.com/advanced_search')\n",
    "    except Exception as e:\n",
    "\n",
    "        return str(e)"
   ]
  },
  {
   "cell_type": "code",
   "execution_count": 15,
   "metadata": {},
   "outputs": [],
   "source": [
    "def advance_search():\n",
    "    # Fill the 'all these words' field\n",
    "    all_words = driver.find_element(By.ID, 'xX4UFf')\n",
    "    all_words.send_keys(words)\n",
    "\n",
    "    # Fill the 'this exact word or phrase' field\n",
    "    exact_phrase = driver.find_element(By.ID, 'CwYCWc')\n",
    "    exact_phrase.send_keys(exact_word)\n",
    "\n",
    "    # Fill the 'any of these words' field\n",
    "    any_words = driver.find_element(By.ID, 'mSoczb')\n",
    "    any_words.send_keys(any_word)\n",
    "\n",
    "    # Fill the 'none of these words' field\n",
    "    none_words = driver.find_element(By.ID, 't2dX1c')\n",
    "    none_words.send_keys(none_word)\n",
    "\n",
    "\n",
    "    # range_end = driver.find_element(By.NAME, 'as_nhi')  # Note: 'as_nhi' doesn't have an ID but has a name attribute\n",
    "    # range_end.send_keys('35 kg')\n",
    "    driver.find_element(By.ID, 'NqEkZd').send_keys(public_url.replace(\"https://\", \"\").replace(\"http://\", \"\"))  # Fill 'Website or domain'\n",
    "    advance_button = driver.find_element(By.XPATH, '//*[@id=\"s1zaZb\"]/div[5]/div[8]/div[2]/input[2]')\n",
    "    advance_button.click()\n"
   ]
  },
  {
   "cell_type": "code",
   "execution_count": 16,
   "metadata": {},
   "outputs": [],
   "source": [
    "def compare_texts(text1, text2):\n",
    "\n",
    "    try:\n",
    "        \n",
    "        model = SentenceTransformer('sentence-transformers/paraphrase-multilingual-MiniLM-L12-v2')\n",
    "        embedding1 = model.encode(text1)\n",
    "        embedding2 = model.encode(text2)\n",
    "        similarity = util.cos_sim(embedding1, embedding2)\n",
    "        similarity_percentage = int(similarity.item() *100)\n",
    "        return similarity_percentage\n",
    "    except Exception as e:\n",
    "\n",
    "        return str(e)\n",
    "\n",
    "\n",
    "\n"
   ]
  },
  {
   "cell_type": "code",
   "execution_count": 17,
   "metadata": {},
   "outputs": [],
   "source": [
    "def url_collector():\n",
    "    # Locate the table containing the page links\n",
    "    table = driver.find_element(By.CLASS_NAME, \"AaVjTc\")\n",
    "    # Find all anchor tags (<a>) in the table\n",
    "    anchors = table.find_elements(By.TAG_NAME, \"a\")\n",
    "\n",
    "    # Extract the URLs from the href attribute and store them in a list\n",
    "    for anchor in anchors:\n",
    "        url = anchor.get_attribute(\"href\")\n",
    "        if url not in all_urls:  # Avoid duplicates\n",
    "            all_urls.append(url)\n",
    "\n",
    "\n"
   ]
  },
  {
   "cell_type": "code",
   "execution_count": 18,
   "metadata": {},
   "outputs": [],
   "source": [
    "def navigate_pages( target_page):\n",
    "  \n",
    "    current_page = 1\n",
    "    try:\n",
    "        while current_page < target_page:\n",
    "            # Wait for the next page link to be clickable\n",
    "            next_page = WebDriverWait(driver, 10).until(\n",
    "                EC.element_to_be_clickable((By.CSS_SELECTOR, f\"a[aria-label='Page {current_page + 1}']\"))\n",
    "            )\n",
    "            url_collector()#collect all google urls\n",
    "            # Print current status\n",
    "            \n",
    "            # Scroll the element into view\n",
    "            driver.execute_script(\"arguments[0].scrollIntoView(true);\", next_page)\n",
    "            \n",
    "            # Click the next page\n",
    "            next_page.click()\n",
    "            \n",
    "            # Wait for the page to load\n",
    "            WebDriverWait(driver, 10).until(\n",
    "                EC.presence_of_element_located((By.CLASS_NAME, \"AaVjTc\"))\n",
    "            )\n",
    "            \n",
    "            current_page += 1\n",
    "            \n",
    "        \n",
    "    except TimeoutException:\n",
    "        print(f\"Timeout while trying to navigate to page {current_page + 1}\")\n",
    "    except NoSuchElementException:\n",
    "        print(f\"Could not find navigation element for page {current_page + 1}\")\n",
    "    except Exception as e:\n",
    "        print(f\"An error occurred: {str(e)}\")\n",
    "\n",
    "\n",
    "\n",
    "\n"
   ]
  },
  {
   "cell_type": "code",
   "execution_count": 19,
   "metadata": {},
   "outputs": [],
   "source": [
    "def compare(key,text):\n",
    "    check=False\n",
    "    if not result_map:\n",
    "        result_map[key]=text\n",
    "    else:\n",
    "        for k,v in result_map.items():\n",
    "            if compare_texts(v,text)>65:\n",
    "                check=True\n",
    "                break\n",
    "        else:\n",
    "            if check==False:\n",
    "                result_map[len(result_map)]=text\n",
    "                \n",
    "    # Output\n",
    "    \n",
    "    print(\"Map:\", result_map)"
   ]
  },
  {
   "cell_type": "code",
   "execution_count": 20,
   "metadata": {},
   "outputs": [],
   "source": [
    "def akharinKhabarnews():\n",
    "    print('akharin')\n",
    "    sentence=driver.find_element(By.CLASS_NAME, \"content_content__sfzd5\").text\n",
    "    return sentence\n",
    "    print(sentence)\n",
    "    print('akharin done!')\n",
    "    "
   ]
  },
  {
   "cell_type": "code",
   "execution_count": 21,
   "metadata": {},
   "outputs": [],
   "source": [
    "def tasnim():\n",
    "    sentence=str(driver.find_element(By.CLASS_NAME, \"story\"))\n",
    "    return sentence\n",
    "    print('tasni done!')"
   ]
  },
  {
   "cell_type": "code",
   "execution_count": 22,
   "metadata": {},
   "outputs": [],
   "source": [
    "def iribnews():\n",
    "    container= str(driver.find_element(By.CLASS_NAME, \"div.news_center_body\"))\n",
    "    dive= str(driver.find_element(By.CLASS_NAME, \"div.body.body_media_content_show\"))\n",
    "    sentence=f\"{container} \\n {dive}\"\n",
    "    return sentence\n",
    "    print('iribnews done!')"
   ]
  },
  {
   "cell_type": "code",
   "execution_count": 23,
   "metadata": {},
   "outputs": [],
   "source": [
    "def noornews():\n",
    "    sentence= driver.find_element(By.XPATH, '//*[@id=\"div_balance_right\"]/section/div').text\n",
    "    return sentence\n",
    "    print('noor done!')"
   ]
  },
  {
   "cell_type": "code",
   "execution_count": 24,
   "metadata": {},
   "outputs": [],
   "source": [
    "def irna():\n",
    "    elements = driver.find_elements(By.CSS_SELECTOR, \".item-text p\")\n",
    "    sentence=\" \".join([element.text for element in elements])\n",
    "    return sentence\n",
    "    print('irna done!')"
   ]
  },
  {
   "cell_type": "code",
   "execution_count": 25,
   "metadata": {},
   "outputs": [],
   "source": [
    "def fars():\n",
    "    news_text_elements=driver.find_element(By.CSS_SELECTOR, \".n-nqnd1g span.auto-dir-block\")\n",
    "    sentence=\" \".join([element.text for element in news_text_elements])\n",
    "    return sentence\n",
    "    print('fars done!')"
   ]
  },
  {
   "cell_type": "code",
   "execution_count": 26,
   "metadata": {},
   "outputs": [],
   "source": [
    "def isna():\n",
    "    summary = driver.find_element(By.CSS_SELECTOR, \".summary\").text\n",
    "    article_body = driver.find_element(By.CSS_SELECTOR, \".item-text\").text\n",
    "    sentence=f\"{summary}\\n\\n{article_body}\"\n",
    "    return sentence\n",
    "    print(' isna done!')"
   ]
  },
  {
   "cell_type": "code",
   "execution_count": 27,
   "metadata": {},
   "outputs": [],
   "source": [
    "def mehrnews():\n",
    "    sentence=driver.find_element(By.CSS_SELECTOR, 'div.item-body div.item-text').text\n",
    "    return sentence\n",
    "    print('mehr done!')\n",
    "    "
   ]
  },
  {
   "cell_type": "code",
   "execution_count": 28,
   "metadata": {},
   "outputs": [],
   "source": [
    "def save_sentences_to_files(result_map):\n",
    "    \n",
    "\n",
    "    # Create the folder if it doesn't exist\n",
    "    if not os.path.exists(folder_path):\n",
    "        os.makedirs(folder_path)\n",
    "\n",
    "    # Iterate over the result_map and save each sentence to a file\n",
    "    for idx, sentence in enumerate(result_map.values()):\n",
    "        file_name = os.path.join(folder_path, f\"{idx}.txt\")\n",
    "        with open(file_name, \"w\", encoding=\"utf-8\") as file:\n",
    "            file.write(sentence)\n",
    "        print(f\"Saved file: {file_name}\")\n",
    "\n",
    "\n",
    "\n",
    "\n"
   ]
  },
  {
   "cell_type": "code",
   "execution_count": 36,
   "metadata": {},
   "outputs": [],
   "source": [
    "def collect_and_save():\n",
    "    for index, url in enumerate(all_urls):\n",
    "        print(f\"Loading website {index + 1}/{len(all_urls)}: {all_urls[index]}\")\n",
    "        driver.get(url)  # Load the URL\n",
    "        custom_key = index\n",
    "        \n",
    "        # Wait until the page has fully loaded (specific condition can be customized)\n",
    "        WebDriverWait(driver, 10).until(\n",
    "            EC.presence_of_element_located((By.TAG_NAME, \"body\"))  # Wait for the body tag to load\n",
    "        )\n",
    "            \n",
    "        print(f'public:{public_url}')\n",
    "        try:\n",
    "            match public_url:\n",
    "                case 'https://nournews.ir': compare(custom_key, noornews())\n",
    "                case 'https://isna.ir': compare(custom_key, isna())\n",
    "                case 'https://farsnews.ir': compare(custom_key, fars())\n",
    "                case 'https://www.irna.ir': compare(custom_key, irna())\n",
    "                case 'https://www.iribnews.ir': compare(custom_key, iribnews())\n",
    "                case 'https://www.mehrnews.com': compare(custom_key, mehrnews())\n",
    "                case 'https://www.tasnimnews.com': compare(custom_key, tasnim())\n",
    "                case 'https://akharinkhabar.ir': compare(custom_key, akharinKhabarnews())\n",
    "        except Exception as e:\n",
    "            print(f\"Error processing element: {e}\")\n",
    "            continue\n",
    "            \n",
    "        print(f\"Website {url} fully loaded.\")\n",
    "    else:\n",
    "        # Save sentences to files\n",
    "        save_sentences_to_files(result_map=result_map)    \n",
    "\n",
    "    # Close the browser\n",
    "    print(\"All websites processed.\")"
   ]
  },
  {
   "cell_type": "code",
   "execution_count": 35,
   "metadata": {},
   "outputs": [],
   "source": [
    "start()#start the chrome"
   ]
  },
  {
   "cell_type": "code",
   "execution_count": null,
   "metadata": {},
   "outputs": [],
   "source": [
    "advance_search()#search in advance google search"
   ]
  },
  {
   "cell_type": "code",
   "execution_count": null,
   "metadata": {},
   "outputs": [],
   "source": [
    "navigate_pages(target_page)#collect urls"
   ]
  },
  {
   "cell_type": "code",
   "execution_count": null,
   "metadata": {},
   "outputs": [],
   "source": [
    "collect_and_save()#compare and save result"
   ]
  }
 ],
 "metadata": {
  "kernelspec": {
   "display_name": "Python 3",
   "language": "python",
   "name": "python3"
  },
  "language_info": {
   "codemirror_mode": {
    "name": "ipython",
    "version": 3
   },
   "file_extension": ".py",
   "mimetype": "text/x-python",
   "name": "python",
   "nbconvert_exporter": "python",
   "pygments_lexer": "ipython3",
   "version": "3.10.0"
  }
 },
 "nbformat": 4,
 "nbformat_minor": 2
}
