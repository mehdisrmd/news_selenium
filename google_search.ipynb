{
 "cells": [
  {
   "cell_type": "code",
   "execution_count": 34,
   "metadata": {},
   "outputs": [],
   "source": [
    "from selenium.webdriver.support.ui import WebDriverWait\n",
    "from selenium.webdriver.support import expected_conditions as EC\n",
    "from selenium import webdriver\n",
    "from selenium.webdriver.chrome.service import Service\n",
    "from selenium.webdriver.common.by import By\n",
    "from selenium.webdriver.common.keys import Keys \n",
    "from docx import Document\n",
    "from docx.shared import Pt  # For font size\n",
    "from docx.oxml.ns import qn  # For language customization\n",
    "from docx.oxml import parse_xml  # For custom XML styling\n",
    "from docx.shared import RGBColor  # For font color\n",
    "from docx.enum.text import WD_PARAGRAPH_ALIGNMENT\n",
    "from docx.oxml import OxmlElement\n",
    "import random\n",
    "import string\n",
    "from sentence_transformers import SentenceTransformer, util\n",
    "import os\n",
    "\n"
   ]
  },
  {
   "cell_type": "code",
   "execution_count": 35,
   "metadata": {},
   "outputs": [],
   "source": [
    "chrome_options =  webdriver.ChromeOptions()\n",
    "title_search_news_list=[]\n",
    "chrome_options.add_argument(\"--disable-gpu\")  \n",
    "chrome_options.add_argument(\"--blink-settings=imagesEnabled=false\")  \n",
    "chrome_options.add_experimental_option(\n",
    "    \"prefs\", {\"profile.managed_default_content_settings.images\": 2,}\n",
    ")\n",
    "chrome_options.add_experimental_option(\"excludeSwitches\", [\"enable-logging\"])\n",
    "chrome_options.add_argument(\"--mute-audio\")\n",
    "chrome_options.add_argument(\"--autoplay-policy=no-user-gesture-required\")# Abort the request if it's a video file\n",
    "\n",
    "doc = Document()\n",
    "sentence=''"
   ]
  },
  {
   "cell_type": "code",
   "execution_count": 36,
   "metadata": {},
   "outputs": [],
   "source": [
    "service = Service(\"C:/Users/mehdi/Documents/webdrivers/chromedriver.exe\")\n",
    "driver = webdriver.Chrome(service=service,options=chrome_options)  "
   ]
  },
  {
   "cell_type": "code",
   "execution_count": 37,
   "metadata": {},
   "outputs": [],
   "source": [
    "driver.get('https://www.google.com/advanced_search')"
   ]
  },
  {
   "cell_type": "code",
   "execution_count": 38,
   "metadata": {},
   "outputs": [],
   "source": [
    "current_sentence=''\n",
    "news_websites_url=['https://akharinkhabar.ir',#0\n",
    "                   'https://nournews.ir',#1\n",
    "                   'https://isna.ir',#2\n",
    "                   'https://farsnews.ir',#3\n",
    "                   'https://www.irna.ir',#4\n",
    "                   'https://www.iribnews.ir',#5\n",
    "                   'https://www.mehrnews.com',#6\n",
    "                   'https://www.tasnimnews.com'#7\n",
    "                   ]\n",
    "key_word = [\"لبنان\", \"غزه\", \"ایران\"]\n",
    "result_map={}\n",
    "custom_key=0"
   ]
  },
  {
   "cell_type": "code",
   "execution_count": 39,
   "metadata": {},
   "outputs": [],
   "source": [
    "public_url=news_websites_url[1]#choose webisite"
   ]
  },
  {
   "cell_type": "code",
   "execution_count": null,
   "metadata": {},
   "outputs": [],
   "source": [
    "def compare_texts(text1, text2):\n",
    "    try:\n",
    "        model = SentenceTransformer('sentence-transformers/paraphrase-multilingual-MiniLM-L12-v2')\n",
    "        embedding1 = model.encode(text1)\n",
    "        embedding2 = model.encode(text2)\n",
    "        similarity = util.cos_sim(embedding1, embedding2)\n",
    "        similarity_percentage = int(similarity.item() *100)\n",
    "        return similarity_percentage\n",
    "    except Exception as e:\n",
    "        return str(e)\n",
    "\n",
    "# Example usage\n",
    "text1 = \"گردشگری یکی از بهترین راه‌ها برای آشنایی با فرهنگ‌ها و زیبایی‌های طبیعی هر کشور است. طبیعت زیبا و چشم‌اندازهای بی‌نظیر، مانند جنگل‌ها، کوه‌ها و رودخانه‌ها، همیشه گردشگران زیادی را جذب می‌کند. افراد علاقه‌مند به طبیعت می‌توانند با سفر به مناطق مختلف، تجربه‌های منحصربه‌فردی کسب کنند و از آرامش و سکوت دلپذیر طبیعت لذت ببرند.\"\n",
    "text2 = \"تغذیه مناسب نقش مهمی در حفظ سلامتی دارد. مصرف غذاهای طبیعی مانند میوه‌ها و سبزیجات، به تأمین ویتامین‌ها و مواد معدنی موردنیاز بدن کمک می‌کند. علاوه بر این، تغذیه سالم می‌تواند از بروز بسیاری از بیماری‌ها جلوگیری کند. افراد باید به تعادل در مصرف مواد غذایی و کاهش مصرف چربی‌ها و قندهای مصنوعی توجه ویژه‌ای داشته باشند.\"\n",
    "\n",
    "similarity_percentage = compare_texts(text1, text2)\n",
    "print(similarity_percentage)\n"
   ]
  },
  {
   "cell_type": "code",
   "execution_count": 41,
   "metadata": {},
   "outputs": [],
   "source": [
    "def compare(key,text):\n",
    "    check=False\n",
    "    # print('----------------------------')\n",
    "    # print(f'sentence{sentence}')\n",
    "    # total_count = sum(text.lower().split().count(word.lower()) for word in key_word)\n",
    "    # # Create the result list\n",
    "    # result = [total_count, text]\n",
    "    # print(f'compare customkey{key}')\n",
    "    # Add the result to a map with a custom key\n",
    "     # Define your custom key\n",
    "    # result_map[''.join(random.choices(string.ascii_letters + string.digits, k=10))]=result\n",
    "    if not result_map:\n",
    "        result_map[key]=text\n",
    "    else:\n",
    "        for k,v in result_map.items():\n",
    "            if compare_texts(v,text)>65:\n",
    "                check=True\n",
    "                break\n",
    "        else:\n",
    "            if check==False:\n",
    "                result_map[len(result_map)]=text\n",
    "                \n",
    "    # Output\n",
    "    print(\"Result:\", result)\n",
    "    print(\"Map:\", result_map)"
   ]
  },
  {
   "cell_type": "code",
   "execution_count": 42,
   "metadata": {},
   "outputs": [],
   "source": [
    "def save_sentences_to_files(result_map, folder_path=\"output_files\"):\n",
    "    \n",
    "\n",
    "    # Create the folder if it doesn't exist\n",
    "    if not os.path.exists(folder_path):\n",
    "        os.makedirs(folder_path)\n",
    "\n",
    "    # Iterate over the result_map and save each sentence to a file\n",
    "    for idx, sentence in enumerate(result_map.values()):\n",
    "        file_name = os.path.join(folder_path, f\"{idx}.txt\")\n",
    "        with open(file_name, \"w\", encoding=\"utf-8\") as file:\n",
    "            file.write(sentence)\n",
    "        print(f\"Saved file: {file_name}\")\n",
    "\n",
    "\n",
    "\n",
    "\n"
   ]
  },
  {
   "cell_type": "code",
   "execution_count": 43,
   "metadata": {},
   "outputs": [],
   "source": [
    "def akharinKhabarnews():\n",
    "    print('akharin')\n",
    "    sentence=driver.find_element(By.CLASS_NAME, \"content_content__sfzd5\").text\n",
    "    return sentence\n",
    "    print(sentence)\n",
    "    print('akharin done!')\n",
    "    "
   ]
  },
  {
   "cell_type": "code",
   "execution_count": 44,
   "metadata": {},
   "outputs": [],
   "source": [
    "def tasnim():\n",
    "    sentence=str(driver.find_element(By.CLASS_NAME, \"story\"))\n",
    "    return sentence\n",
    "    print('tasni done!')"
   ]
  },
  {
   "cell_type": "code",
   "execution_count": 45,
   "metadata": {},
   "outputs": [],
   "source": [
    "def iribnews():\n",
    "    container= str(driver.find_element(By.CLASS_NAME, \"div.news_center_body\"))\n",
    "    dive= str(driver.find_element(By.CLASS_NAME, \"div.body.body_media_content_show\"))\n",
    "    sentence=f\"{container} \\n {dive}\"\n",
    "    return sentence\n",
    "    print('iribnews done!')"
   ]
  },
  {
   "cell_type": "code",
   "execution_count": 46,
   "metadata": {},
   "outputs": [],
   "source": [
    "def noornews():\n",
    "    sentence= driver.find_element(By.XPATH, '//*[@id=\"div_balance_right\"]/section/div').text\n",
    "    return sentence\n",
    "    print('noor done!')"
   ]
  },
  {
   "cell_type": "code",
   "execution_count": 47,
   "metadata": {},
   "outputs": [],
   "source": [
    "def irna():\n",
    "    elements = driver.find_elements(By.CSS_SELECTOR, \".item-text p\")\n",
    "    sentence=\" \".join([element.text for element in elements])\n",
    "    return sentence\n",
    "    print('irna done!')"
   ]
  },
  {
   "cell_type": "code",
   "execution_count": 48,
   "metadata": {},
   "outputs": [],
   "source": [
    "def fars():\n",
    "    news_text_elements=driver.find_element(By.CSS_SELECTOR, \".n-nqnd1g span.auto-dir-block\")\n",
    "    sentence=\" \".join([element.text for element in news_text_elements])\n",
    "    return sentence\n",
    "    print('fars done!')"
   ]
  },
  {
   "cell_type": "code",
   "execution_count": 49,
   "metadata": {},
   "outputs": [],
   "source": [
    "def mehrnews():\n",
    "    sentence=driver.find_element(By.CSS_SELECTOR, 'div.item-body div.item-text').text\n",
    "    return sentence\n",
    "    print('mehr done!')\n",
    "    "
   ]
  },
  {
   "cell_type": "code",
   "execution_count": 50,
   "metadata": {},
   "outputs": [],
   "source": [
    "def isna():\n",
    "    summary = driver.find_element(By.CSS_SELECTOR, \".summary\").text\n",
    "    article_body = driver.find_element(By.CSS_SELECTOR, \".item-text\").text\n",
    "    sentence=f\"{summary}\\n\\n{article_body}\"\n",
    "    return sentence\n",
    "    print(' isna done!')"
   ]
  },
  {
   "cell_type": "code",
   "execution_count": 51,
   "metadata": {},
   "outputs": [],
   "source": [
    "# Fill the 'all these words' field\n",
    "all_words = driver.find_element(By.ID, 'xX4UFf')\n",
    "all_words.send_keys('سوریه لبنان')\n",
    "\n",
    "# Fill the 'this exact word or phrase' field\n",
    "exact_phrase = driver.find_element(By.ID, 'CwYCWc')\n",
    "exact_phrase.send_keys('صلح')\n",
    "\n",
    "# Fill the 'any of these words' field\n",
    "any_words = driver.find_element(By.ID, 'mSoczb')\n",
    "any_words.send_keys(' تهران')\n",
    "\n",
    "# Fill the 'none of these words' field\n",
    "none_words = driver.find_element(By.ID, 't2dX1c')\n",
    "none_words.send_keys('نتانیاهو')\n",
    "\n",
    "# Fill the 'numbers ranging from' field (start and end)\n",
    "# range_start = driver.find_element(By.ID, 'LK5akc')\n",
    "# range_start.send_keys('10')\n",
    "\n",
    "# range_end = driver.find_element(By.NAME, 'as_nhi')  # Note: 'as_nhi' doesn't have an ID but has a name attribute\n",
    "# range_end.send_keys('35 kg')\n",
    "driver.find_element(By.ID, 'NqEkZd').send_keys(public_url.replace(\"https://\", \"\").replace(\"http://\", \"\"))  # Fill 'Website or domain'\n",
    "advance_button=driver.find_element(By.XPATH,'//*[@id=\"s1zaZb\"]/div[5]/div[8]/div[2]/input[2]')\n",
    "advance_button.click()\n",
    "custom_key=0"
   ]
  },
  {
   "cell_type": "code",
   "execution_count": null,
   "metadata": {},
   "outputs": [],
   "source": [
    "\n",
    "# Locate the table containing the page links\n",
    "table = driver.find_element(By.CLASS_NAME, \"AaVjTc\")\n",
    "# Find all anchor tags (<a>) in the table\n",
    "anchors = table.find_elements(By.TAG_NAME, \"a\")\n",
    "\n",
    "# Extract the URLs from the href attribute and store them in a list\n",
    "urls = [anchor.get_attribute(\"href\") for anchor in anchors]\n",
    "\n",
    "# Print the first 10 URLs\n",
    "print(urls[:10])"
   ]
  },
  {
   "cell_type": "code",
   "execution_count": null,
   "metadata": {},
   "outputs": [],
   "source": [
    "data = []\n",
    "news_current_urls = []  # Variable to store all URLs\n",
    "elements = driver.find_elements(By.CLASS_NAME, \"LC20lb\")  # Locate elements with the specific class\n",
    "for element in elements:\n",
    "    title = element.text  # Get the title text\n",
    "    try:\n",
    "        parent = element.find_element(By.XPATH, \"..\")  # Move to the parent element (usually <a>)\n",
    "        url = parent.get_attribute(\"href\")  # Get the link\n",
    "        if title and url:\n",
    "            data.append({\"title\": title, \"url\": url})\n",
    "            news_current_urls.append(url)  # Save the URL in the variable\n",
    "    except Exception as e:\n",
    "        print(f\"Error processing element: {e}\")\n",
    "\n",
    "# Print Titles and URLs\n",
    "print(\"Extracted Titles and URLs:\")\n",
    "for item in data:\n",
    "    print(f\"Title: {item['title']}\")\n",
    "    title_search_news_list.append(item['title'])\n",
    "    \n",
    "    print(f\"URL: {item['url']}\")\n",
    "    print(\"-\" * 50)\n",
    "\n",
    "# Print URLs stored in `news_current_urls`\n",
    "print(\"All URLs:\")\n",
    "print(news_current_urls)"
   ]
  },
  {
   "cell_type": "code",
   "execution_count": null,
   "metadata": {},
   "outputs": [],
   "source": []
  },
  {
   "cell_type": "code",
   "execution_count": null,
   "metadata": {},
   "outputs": [],
   "source": [
    "for index, url in enumerate(news_current_urls):\n",
    "    print(f\"Loading website {index + 1}/{len(news_current_urls)}: {url}\")\n",
    "    driver.get(url)  # Load the URL\n",
    "    custom_key=index\n",
    "    \n",
    "        # Wait until the page has fully loaded (specific condition can be customized)\n",
    "    WebDriverWait(driver, 10).until(\n",
    "        EC.presence_of_element_located((By.TAG_NAME, \"body\"))  # Wait for the body tag to load\n",
    "    )\n",
    "        \n",
    "    print(f'public:{public_url}')\n",
    "    try:\n",
    "        match public_url:\n",
    "            case   'https://nournews.ir': compare(custom_key,noornews())\n",
    "            case   'https://isna.ir': compare(custom_key,isna())\n",
    "            case   'https://farsnews.ir': compare(custom_key,fars())\n",
    "            case   'https://www.irna.ir': compare(custom_key,irna())\n",
    "            case   'https://www.iribnews.ir': compare(custom_key,iribnews())\n",
    "            case   'https://www.mehrnews.com': compare(custom_key,mehrnews())\n",
    "            case   'https://www.tasnimnews.com': compare(custom_key,tasnim()) \n",
    "            case   'https://akharinkhabar.ir':compare(custom_key,akharinKhabarnews())\n",
    "    except Exception as e:\n",
    "        print(f\"Error processing element: {e}\")\n",
    "        continue\n",
    "        \n",
    "    print(f\"Website {url} fully loaded.\")\n",
    "else:\n",
    "    # Save sentences to files\n",
    "    save_sentences_to_files(result_map)    \n",
    "\n",
    "# Close the browser\n",
    "print(\"All websites processed.\")"
   ]
  },
  {
   "cell_type": "code",
   "execution_count": 55,
   "metadata": {},
   "outputs": [],
   "source": [
    "# # Sort the dictionary based on total_count\n",
    "# sorted_result_map = dict(sorted(result_map.items(), key=lambda item: item[1][0], reverse=True))\n",
    "\n",
    "# # Print the sorted result\n",
    "# for key, value in sorted_result_map.items():\n",
    "#     print(f\"{key}: {value}\")"
   ]
  },
  {
   "cell_type": "code",
   "execution_count": null,
   "metadata": {},
   "outputs": [],
   "source": [
    "for key, sentence in result_map.items():\n",
    "    print(f\"Sentence for {key}: {sentence}\")"
   ]
  },
  {
   "cell_type": "code",
   "execution_count": 25,
   "metadata": {},
   "outputs": [],
   "source": []
  },
  {
   "cell_type": "code",
   "execution_count": 57,
   "metadata": {},
   "outputs": [],
   "source": [
    "\n",
    "# Iterate through the result_map\n",
    "for key, value in result_map.items():\n",
    "    sentence = value[1]\n",
    "    paragraph = doc.add_paragraph(sentence)\n",
    "\n",
    "    # Set font size\n",
    "    run = paragraph.runs[0]\n",
    "    run.font.size = Pt(14)\n",
    "\n",
    "    # Set alignment to Right-to-Left and right alignment\n",
    "    paragraph.alignment = WD_PARAGRAPH_ALIGNMENT.RIGHT\n",
    "    paragraph_format = paragraph.paragraph_format\n",
    "    paragraph_format.space_after = Pt(14)  # Add space after each paragraph\n",
    "\n",
    "    # Set RTL direction\n",
    "    paragraph_element = paragraph._p\n",
    "    paragraph_properties = paragraph_element.get_or_add_pPr()\n",
    "    bidi = OxmlElement('w:bidi')\n",
    "    bidi.set(qn('w:val'), '1')\n",
    "    paragraph_properties.append(bidi)\n",
    "\n",
    "# Save the document\n",
    "doc.save(\"news_doc.docx\")"
   ]
  },
  {
   "cell_type": "code",
   "execution_count": null,
   "metadata": {},
   "outputs": [],
   "source": []
  }
 ],
 "metadata": {
  "kernelspec": {
   "display_name": "Python 3",
   "language": "python",
   "name": "python3"
  },
  "language_info": {
   "codemirror_mode": {
    "name": "ipython",
    "version": 3
   },
   "file_extension": ".py",
   "mimetype": "text/x-python",
   "name": "python",
   "nbconvert_exporter": "python",
   "pygments_lexer": "ipython3",
   "version": "3.10.0"
  }
 },
 "nbformat": 4,
 "nbformat_minor": 2
}
