{
 "cells": [
  {
   "cell_type": "code",
   "execution_count": 23,
   "metadata": {},
   "outputs": [],
   "source": [
    "from selenium import webdriver\n",
    "from selenium.webdriver.chrome.service import Service\n",
    "from selenium.webdriver.chrome.options import Options\n",
    "from selenium.webdriver.common.by import By\n",
    "from selenium.webdriver.support.ui import WebDriverWait\n",
    "from selenium.webdriver.support import expected_conditions as EC\n",
    "import pandas as pd\n",
    "import time\n",
    "import os\n",
    "\n"
   ]
  },
  {
   "cell_type": "code",
   "execution_count": 24,
   "metadata": {},
   "outputs": [],
   "source": [
    "def setup_driver():\n",
    "    chrome_options =  webdriver.ChromeOptions()\n",
    "    chrome_options.add_argument('--no-sandbox')\n",
    "    chrome_options.add_argument('--disable-dev-shm-usage')\n",
    "\n",
    "\n",
    "    \n",
    "    service = Service(\"C:/Users/mehdi/Documents/webdrivers/chromedriver.exe\")\n",
    "    driver = webdriver.Chrome(service=service, options=chrome_options)\n",
    "    return driver"
   ]
  },
  {
   "cell_type": "code",
   "execution_count": null,
   "metadata": {},
   "outputs": [],
   "source": [
    "\n",
    "rows_data = []\n",
    "url = \"https://sjg.eadl.ir/dashboard/manager/logs\"\n",
    "output_file = \"activity_logs.xlsx\"\n",
    "# Load the initial page\n",
    "driver.get(url)"
   ]
  },
  {
   "cell_type": "code",
   "execution_count": 25,
   "metadata": {},
   "outputs": [],
   "source": [
    "\n",
    "# Get all rows except the header row (index 0)\n",
    "rows = driver.find_elements(By.CSS_SELECTOR, \"tr.ant-descriptions-row\")[1:]\n",
    "\n",
    "for row in rows:\n",
    "    cells = row.find_elements(By.CSS_SELECTOR, \"th.ant-descriptions-item-content span\")\n",
    "    row_data = [cell.text.strip() for cell in cells]\n",
    "    if row_data:  # Only add non-empty rows\n",
    "        rows_data.append(row_data)\n"
   ]
  },
  {
   "cell_type": "code",
   "execution_count": 26,
   "metadata": {},
   "outputs": [],
   "source": [
    "def get_last_page_number(driver):\n",
    "    try:\n",
    "    last_page_link = driver.find_element(By.CSS_SELECTOR, \"a[data-page]:last-of-type\")\n",
    "    return int(last_page_link.get_attribute('data-page'))\n",
    "    except Exception as e:\n",
    "    print(f\"Error getting last page number: {e}\")\n",
    "    return None"
   ]
  },
  {
   "cell_type": "code",
   "execution_count": null,
   "metadata": {},
   "outputs": [
    {
     "name": "stdout",
     "output_type": "stream",
     "text": [
      "Total pages to scrape: 2\n",
      "Scraping page 1 of 2\n",
      "Scraping page 2 of 2\n",
      "Scraping completed. Data saved to activity_logs.xlsx\n",
      "Total records scraped: 20\n",
      "done\n"
     ]
    }
   ],
   "source": [
    "# def scrape_activity_logs():\n",
    "\n",
    "\n",
    "try:\n",
    "\n",
    "    \n",
    "    # Get the last page number\n",
    "    last_page = get_last_page_number(driver)\n",
    "    if not last_page:\n",
    "        print(\"Could not determine last page number\")\n",
    "        return\n",
    "    \n",
    "    print(f\"Total pages to scrape: {last_page}\")\n",
    "    \n",
    "    # Create DataFrame to store all data\n",
    "    all_data = []\n",
    "    \n",
    "    # Loop through all pages\n",
    "    current_page = 1\n",
    "    while current_page <= last_page:\n",
    "        print(f\"Scraping page {current_page} of {last_page}\")\n",
    "        \n",
    "        # Wait for table to be visible\n",
    "        WebDriverWait(driver, 10).until(\n",
    "            EC.presence_of_element_located((By.CSS_SELECTOR, \"tr.ant-descriptions-row\"))\n",
    "        )\n",
    "        \n",
    "        # Get data from current page\n",
    "        page_data = get_table_data(driver)\n",
    "        all_data.extend(page_data)\n",
    "        \n",
    "        # Save progress after each page (without headers)\n",
    "        df = pd.DataFrame(all_data)\n",
    "        df.to_excel(output_file, index=False, header=False)\n",
    "        \n",
    "        # Go to next page if not on last page\n",
    "        if current_page < last_page:\n",
    "            try:\n",
    "                next_page = driver.find_element(By.CSS_SELECTOR, f\"a[data-page='{current_page + 1}']\")\n",
    "                driver.execute_script(\"arguments[0].click();\", next_page)\n",
    "                time.sleep(2)  # Wait for page load\n",
    "            except Exception as e:\n",
    "                print(f\"Error navigating to next page: {e}\")\n",
    "                break\n",
    "        \n",
    "        current_page += 1\n",
    "    \n",
    "    print(f\"Scraping completed. Data saved to {output_file}\")\n",
    "    print(f\"Total records scraped: {len(all_data)}\")\n",
    "    \n",
    "except Exception as e:\n",
    "    print(f\"An error occurred: {e}\")\n",
    "\n",
    "finally:\n",
    "    print('done')\n",
    "\n"
   ]
  },
  {
   "cell_type": "code",
   "execution_count": null,
   "metadata": {},
   "outputs": [],
   "source": []
  }
 ],
 "metadata": {
  "kernelspec": {
   "display_name": "Python 3",
   "language": "python",
   "name": "python3"
  },
  "language_info": {
   "codemirror_mode": {
    "name": "ipython",
    "version": 3
   },
   "file_extension": ".py",
   "mimetype": "text/x-python",
   "name": "python",
   "nbconvert_exporter": "python",
   "pygments_lexer": "ipython3",
   "version": "3.10.0"
  }
 },
 "nbformat": 4,
 "nbformat_minor": 2
}
