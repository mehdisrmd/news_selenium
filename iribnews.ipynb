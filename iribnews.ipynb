{
 "cells": [
  {
   "cell_type": "code",
   "execution_count": 1,
   "id": "fe4b13c0",
   "metadata": {},
   "outputs": [],
   "source": [
    "from settings import CHROMEDRIVER_PATH\n",
    "from selenium.webdriver.support.ui import WebDriverWait\n",
    "from selenium.webdriver.support import expected_conditions as EC"
   ]
  },
  {
   "cell_type": "code",
   "execution_count": 2,
   "id": "e6fb24da",
   "metadata": {},
   "outputs": [],
   "source": [
    "from selenium import webdriver\n",
    "from selenium.webdriver.chrome.service import Service\n",
    "from selenium.webdriver.common.by import By\n",
    "from selenium.webdriver.common.keys import Keys "
   ]
  },
  {
   "cell_type": "code",
   "execution_count": 3,
   "id": "9a92d350",
   "metadata": {},
   "outputs": [],
   "source": [
    "service = Service(\"C:/Users/mehdi/Documents/webdrivers/chromedriver.exe\")"
   ]
  },
  {
   "cell_type": "code",
   "execution_count": 4,
   "id": "9e8b9d9b",
   "metadata": {},
   "outputs": [],
   "source": [
    "driver = webdriver.Chrome(service=service)  # setup web browser"
   ]
  },
  {
   "cell_type": "code",
   "execution_count": 5,
   "id": "3c809d68",
   "metadata": {},
   "outputs": [],
   "source": [
    "url='https://www.iribnews.ir/fa/news/4386682/%D9%85%D8%A7-%D8%AE%D9%88%D8%A7%D8%B3%D8%AA%D8%A7%D8%B1-%D8%B1%D9%88%D8%A7%D8%A8%D8%B7-%DA%AF%D8%B3%D8%AA%D8%B1%D8%AF%D9%87-%D8%A8%D8%A7-%DA%A9%D8%B4%D9%88%D8%B1-%D9%82%D8%B7%D8%B1-%D9%87%D8%B3%D8%AA%DB%8C%D9%85'"
   ]
  },
  {
   "cell_type": "code",
   "execution_count": 6,
   "id": "80fe2800",
   "metadata": {},
   "outputs": [],
   "source": [
    "def openPage(url):\n",
    "    driver.get(url)#search url"
   ]
  },
  {
   "cell_type": "code",
   "execution_count": 7,
   "id": "6bee119d",
   "metadata": {},
   "outputs": [],
   "source": [
    "openPage(url)\n"
   ]
  },
  {
   "cell_type": "code",
   "execution_count": 8,
   "id": "e523e666",
   "metadata": {},
   "outputs": [
    {
     "name": "stdout",
     "output_type": "stream",
     "text": [
      "رئیس جمهور در دیدار با نخست وزیر قطر:\n",
      "ما خواستار روابط گسترده با کشور قطر هستیم\n",
      "رئیس جمهور با اشاره به توافقات و تفاهمات حاصل شده در سفر اخیر خود به قطر تصریح کرد: باید به روند اجرای توافقات صورت گرفته در این سفر سرعت ببخشیم؛ ما بر روابط گسترده‌تر و عمیق‌تر با کشور دوست و همسایه قطر تأکید داریم.\n",
      "به گزارش خبرگزاری صدا و سیما رئیس جمهور بعد از ظهر امروز چهارشنبه در دیدار آقای «محمد بن عبدالرحمن آل ثانی» نخست وزیر و وزیر امور خارجه قطر، به توافقات و تفاهمات حاصل شده در سفر اخیر خود به قطر اشاره کرد و گفت: باید به روند اجرای توافقات صورت گرفته در این سفر سرعت ببخشیم و امیدوارم شما این توافقات را با جدیت بیشتر پیگیری کنید؛ ما بر روابط گسترده‌تر و عمیق‌تر با کشور دوست و همسایه قطر تأکید داریم.\n",
      "رئیس جمهور افزود: جمهوری اسلامی ایران به آنچه می‌گوید عمل می‌کند و به توافقات خود پایبند خواهد بود و امیدوارم توافقات فیمابین یه طور کامل پیاده و اجرایی شود.\n",
      "پزشکیان بر ایده خود مبنی بر وحدت در جهان اسلام اشاره کرد و اظهار داشت: تمایل قلبی ما این است که با برادران مسلمان خود ارتباطات صمیمی داشته باشیم و به جهانیان نشان دهیم که کشور‌های مسلمان می‌توانند با هم و در کنار هم و با حفظ حرمت همدیگر، در صلح و آرامش زندگی و تجربیات خود را با هم تبادل کنند.\n",
      "رئیس جمهور در پایان سخنانش از امیر قطر برای سفر به ایران دعوت کرد.\n",
      "نخست وزیر و وزیر امور خارجه قطر نیز در این دیدار با ابراز علاقه مندی کشورش برای گسترش روابط با ایران گفت: طبق برنامه‌ریزی انجام شده امیدواریم در اوایل سال آینده امیر قطر به ایران سفر کند.\n",
      "محمد بن عبدالرحمن آل ثانی افزود: امیر و همچنین دولت قطر بر تسریع در اجرایی شدن توافقات بین دو کشور تأکید دارند. در ماه‌های گذشته شاهد تغییراتی در هیئت وزیران قطر بودیم و در ترکیب جدید دولت یک منصب جدید به نام وزیر تجارت خارجی منصوب شده که یکی از اولویت‌هایش اجرایی کردن توافقات با جمهوری اسلامی ایران است.\n",
      "نخست وزیر و وزیر امور خارجه قطر گفت: دولت قطر به دنبال گسترش روابط و ایجاد یک بنای مستحکم در مناسبات دو کشور است و امیر قطر همواره بر این موضوع تأکید دارد. قطر همواره برای ایران یک همپیمان قوی و مورد اعتماد خواهد بود.\n",
      "محمد بن عبدالرحمن آل ثانی با اشاره به تحولات منطقه اظهار داشت: قطر در موضوعات منطقه‌ای همواره تلاش کرده که در تماس با ایران به تبادل دیدگاه‌ها بپردازد. دولت قطر از نگاه جنابعالی در اتحاد جهان اسلام تمجید و از آن حمایت می‌کند؛ کشور بزرگ و قدرتمند ایران می‌تواند ایده وحدت جهان اسلام را اجرایی کند.\n"
     ]
    }
   ],
   "source": [
    "\n",
    "container=WebDriverWait(driver, 10).until(\n",
    "    EC.presence_of_element_located((By.CSS_SELECTOR, \"div.news_center_body\"))\n",
    ")\n",
    "dive=WebDriverWait(driver, 10).until(\n",
    "    EC.presence_of_element_located((By.CSS_SELECTOR, \"div.body.body_media_content_show\"))\n",
    ")\n",
    "# Extract the visible text from the container\n",
    "text_content = container.text\n",
    "div_text=dive.text\n",
    "\n",
    "print(text_content)\n",
    "print(div_text)"
   ]
  },
  {
   "cell_type": "code",
   "execution_count": null,
   "id": "f0174f07",
   "metadata": {},
   "outputs": [],
   "source": []
  }
 ],
 "metadata": {
  "kernelspec": {
   "display_name": "env",
   "language": "python",
   "name": "python3"
  },
  "language_info": {
   "codemirror_mode": {
    "name": "ipython",
    "version": 3
   },
   "file_extension": ".py",
   "mimetype": "text/x-python",
   "name": "python",
   "nbconvert_exporter": "python",
   "pygments_lexer": "ipython3",
   "version": "3.10.0"
  }
 },
 "nbformat": 4,
 "nbformat_minor": 5
}
