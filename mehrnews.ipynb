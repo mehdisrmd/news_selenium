{
 "cells": [
  {
   "cell_type": "code",
   "execution_count": 43,
   "id": "fe4b13c0",
   "metadata": {},
   "outputs": [],
   "source": [
    "from settings import CHROMEDRIVER_PATH\n",
    "from selenium.webdriver.support.ui import WebDriverWait\n",
    "from selenium.webdriver.support import expected_conditions as EC"
   ]
  },
  {
   "cell_type": "code",
   "execution_count": 44,
   "id": "e6fb24da",
   "metadata": {},
   "outputs": [],
   "source": [
    "from selenium import webdriver\n",
    "from selenium.webdriver.chrome.service import Service\n",
    "from selenium.webdriver.common.by import By\n",
    "from selenium.webdriver.common.keys import Keys "
   ]
  },
  {
   "cell_type": "code",
   "execution_count": 45,
   "id": "9a92d350",
   "metadata": {},
   "outputs": [],
   "source": [
    "service = Service(executable_path=CHROMEDRIVER_PATH)"
   ]
  },
  {
   "cell_type": "code",
   "execution_count": 46,
   "id": "9e8b9d9b",
   "metadata": {},
   "outputs": [],
   "source": [
    "driver = webdriver.Chrome(service=service)  # setup web browser"
   ]
  },
  {
   "cell_type": "code",
   "execution_count": 47,
   "id": "3c809d68",
   "metadata": {},
   "outputs": [],
   "source": [
    "url='https://www.google.com/advanced_search'"
   ]
  },
  {
   "cell_type": "code",
   "execution_count": 48,
   "id": "80fe2800",
   "metadata": {},
   "outputs": [],
   "source": [
    "def openPage(url):\n",
    "    driver.get(url)#search url"
   ]
  },
  {
   "cell_type": "code",
   "execution_count": 49,
   "id": "6bee119d",
   "metadata": {},
   "outputs": [],
   "source": [
    "openPage(url)\n"
   ]
  },
  {
   "cell_type": "code",
   "execution_count": 50,
   "id": "e523e666",
   "metadata": {},
   "outputs": [],
   "source": [
    "search_field = WebDriverWait(driver, 10).until(\n",
    "    EC.presence_of_element_located((By.CSS_SELECTOR, 'input[name=\"q\"]'))\n",
    ")\n",
    "\n",
    "# وارد کردن کلمات مورد نظر در فیلد متنی\n",
    "words = ['شایستگی', 'مدیریت بحران','سوانح','حوادث','مصطفی پورمحمدی']\n",
    "for word in words:\n",
    "    search_field.send_keys(word + \" \")  # وارد کردن هر کلمه به همراه یک فاصله\n",
    "\n",
    "# فشردن کلید Enter برای انجام عمل جستجو\n",
    "search_field.send_keys(Keys.RETURN)"
   ]
  },
  {
   "cell_type": "code",
   "execution_count": 51,
   "id": "26c1c2e5",
   "metadata": {},
   "outputs": [],
   "source": [
    "list = driver.find_element(By.CSS_SELECTOR, 'li.news')# search news"
   ]
  },
  {
   "cell_type": "code",
   "execution_count": 52,
   "id": "84544b1a",
   "metadata": {},
   "outputs": [
    {
     "data": {
      "text/plain": [
       "'مدیرکل مدیریت بحران استانداری اصفهان خبر داد؛\\nوقوع ۱۱حادثه آتش\\u200cسوزی تانکر سوخت در اصفهان\\nاصفهان - مدیرکل مدیریت بحران استانداری اصفهان از وقوع حادثه\\u200c آتش\\u200cسوزی ۱۱ تانکر سوخت در اصفهان در سال جاری خبر داد.\\n... مایع در گردنه زنجیرگاه از دیگر حوادث در این زمینه بوده است. وی با بیان اینکه مدیریت بحران استان اصفهان بر ضرورت رعایت دقیق... اشتعال از نقطه\\u200cای به نقطه دیگر با ارائه آموزش\\u200cهای ایمنی تردد با رانندگان امری ضروری است. مدیرکل مدیریت بحران استانداری...\\n۲ شهریور ۰۳ - ۱۸:۱۵'"
      ]
     },
     "execution_count": 52,
     "metadata": {},
     "output_type": "execute_result"
    }
   ],
   "source": [
    "list.text#show prototype"
   ]
  },
  {
   "cell_type": "code",
   "execution_count": 53,
   "id": "ca04c374",
   "metadata": {},
   "outputs": [],
   "source": [
    "# for item in news_items:#show news in main search page\n",
    "#     title = item.find_element(By.CSS_SELECTOR, 'h3 a').text\n",
    "#     href = item.find_element(By.CSS_SELECTOR, 'h3 a').get_attribute('href')\n",
    "#     img_src = item.find_element(By.CSS_SELECTOR, 'figure img').get_attribute('src')\n",
    "#     desc = item.find_element(By.CSS_SELECTOR, 'div.desc p').text\n",
    "#     time = item.find_element(By.CSS_SELECTOR, 'time a').text\n",
    "\n",
    "#     print(f\"Title: {title}\")\n",
    "#     print(f\"Link: {href}\")\n",
    "#     print(f\"Image Source: {img_src}\")\n",
    "#     print(f\"Description: {desc}\")\n",
    "#     print(f\"Time: {time}\")\n",
    "#     print('-' * 50)\n"
   ]
  },
  {
   "cell_type": "code",
   "execution_count": 54,
   "id": "991733f4",
   "metadata": {},
   "outputs": [],
   "source": [
    "wait = WebDriverWait(driver, 10)  # waiting time\n"
   ]
  },
  {
   "cell_type": "code",
   "execution_count": 55,
   "id": "2fcf1ba4",
   "metadata": {},
   "outputs": [],
   "source": [
    "def getInfo():\n",
    "    news_items = driver.find_elements(By.CSS_SELECTOR, 'li.news')#collect news \n",
    "    for item in news_items:\n",
    "        try:\n",
    "            # پیدا کردن عنصر لینک داخل item\n",
    "            link_element = WebDriverWait(item, 10).until(\n",
    "                EC.presence_of_element_located((By.CSS_SELECTOR, 'h3 a'))\n",
    "            )\n",
    "            href = link_element.get_attribute('href')\n",
    "            print(f\"Link: {href}\")\n",
    "\n",
    "            # کلیک کردن و باز کردن تب جدید\n",
    "            link_element.click()\n",
    "            \n",
    "            # تغییر به تب جدید\n",
    "            driver.switch_to.window(driver.window_handles[-1])\n",
    "            \n",
    "            # انجام عملیات در تب جدید\n",
    "            try:\n",
    "                article_body = WebDriverWait(driver, 10).until(\n",
    "                    EC.presence_of_element_located((By.CSS_SELECTOR, 'div.item-body div.item-text'))\n",
    "                )\n",
    "                text_content = article_body.text\n",
    "                print(\"Extracted Text:\", text_content)\n",
    "            except Exception as e:\n",
    "                print(f\"Error extracting article text: {e}\")\n",
    "            \n",
    "            # بستن تب جدید\n",
    "            driver.close()\n",
    "            \n",
    "            # برگشت به تب اصلی\n",
    "            driver.switch_to.window(driver.window_handles[0])\n",
    "\n",
    "        except Exception as e:\n",
    "            print(f\"Error processing item: {e}\")\n",
    "\n",
    "    # در نهایت، لینک‌های صفحه‌بندی را بگیرید\n",
    "    get_pagination_links(driver)\n"
   ]
  },
  {
   "cell_type": "code",
   "execution_count": 56,
   "id": "9aa81c2a",
   "metadata": {},
   "outputs": [
    {
     "name": "stdout",
     "output_type": "stream",
     "text": [
      "Link: https://www.mehrnews.com/news/6204905/%D9%88%D9%82%D9%88%D8%B9-%DB%B1%DB%B1%D8%AD%D8%A7%D8%AF%D8%AB%D9%87-%D8%A2%D8%AA%D8%B4-%D8%B3%D9%88%D8%B2%DB%8C-%D8%AA%D8%A7%D9%86%DA%A9%D8%B1-%D8%B3%D9%88%D8%AE%D8%AA-%D8%AF%D8%B1-%D8%A7%D8%B5%D9%81%D9%87%D8%A7%D9%86\n",
      "Extracted Text: منصور شیشه فروش در گفت‌وگو با خبرنگار مهر با اشاره به وقوع چندین مورد حادثه واژگونی و حریق در تانکرهای حامل گاز مایع و سوخت طی ۱۰ روز گذشته در محورهای جاده‌ای استان از جمله واژگونی تانکر حامل گاز مایع در محور فرعی انارک شهرآب در محدوده پل راه آهن اظهار کرد: حادثه واژگونی تانکر حامل گاز مایع در کمربندی روستای چاه ملک خور و بیابانک و نیز حریق در تانکر حامل سوخت مایع در گردنه زنجیرگاه از دیگر حوادث در این زمینه بوده است.\n",
      "وی با بیان اینکه مدیریت بحران استان اصفهان بر ضرورت رعایت دقیق ضوابط و مقررات مندرج در آئین نامه اجرایی حمل و نقل مواد خطرناک توسط تمامی متصدیان حمل و نقل اعم از شرکتها، مؤسسات حمل و نقل، سازمان‌ها، کارخانجات و واحدهای تولیدی و صنعتی، شرکت‌های گاز نفت و پالایشگاه‌های سراسر کشور تاکید کرده است، افزود: اعمال نظارت مستمر بر شرکت‌های حمل و نقل توسط سازمان راهداری و حمل و نقل جاده‌ای، شرکت پالایش و پخش فرآورده‌های نفتی و پلیس راه و راهور در کنترل ایمنی محموله‌ها و بررسی دارا بودن مدارک و مجوزهای معتبر در انجام هرگونه حمل و نقل جاده‌ای مواد سوختنی و خطرناک و قابل اشتعال از نقطه‌ای به نقطه دیگر با ارائه آموزش‌های ایمنی تردد با رانندگان امری ضروری است.\n",
      "مدیرکل مدیریت بحران استانداری اصفهان گفت: از ابتدای سال جاری تا کنون ۱۱ حادثه واژگونی و تصادف ناوگان حمل و نقل سوخت و مواد خطرناک در محورهای جاده‌ای استان به وقوع پیوسته که اغلب محموله‌های بوده که از استان‌های دیگر به مقصد سایر استان‌ها بوده و به علت عدم اقدام به موقع متصدیان حمل و نقل در اعزام تیم‌های فنی برای کنترل حوادث باعث بروز خسارت به محیط، انسداد محورها و ایجاد ترافیک و به خطر انداختن خودروهای عبوری شده است.\n",
      "وی ادامه داد: مواد خطرناک شامل موادی است که نسبت به بهداشت یا سلامتی انسان حیوان و محیط زیست ذاتاً خطر زا باشد از جمله مواد اشتعال زا گازهای تحت فشار مایع نشده مایعات و جامدات قابل اشتعال پراکسیدهای آلی، محصولات سمی و اسیدها\n",
      "استفاده از راننده‌ای که حائز همه شرایط راننده اصلی باشد همراه وسیله نقلیه حامل مواد خطرناک اجباری است.\n",
      "شیشه فروش با تاکید بر اینکه وسیله حمل و نقل حامل مواد خطرناک فقط در ساعات روز مجاز به تردد در محورهای جاده‌ای هستند، ادامه داد: باید قبل از پایان روز در پارکینگ مناسب توقف و تا اغاز روز بعد از حرکت خودداری کند متصدی حمل و نقل باید نقشه مسیری را که وسیله نقلیه حامل مواد خطرناک برای رسیدن به مقصد طی کند را از اداره راهداری اخذ و با اولویت جاده‌های خارج شهر، کمربندی شهرها و عبور از نقاط کم جمعیت مسیر را به راننده اعلام کند و راننده مکلف است در مسیر تعیین شده حرکت کند و توقف‌های بین راه دور از وسایل نقلیه دیگر ومحل های امن و خلوت انجام گیرد.\n",
      "وی تصریح کرد: وسیله نقلیه حامل مواد و محصولات خطرناک نباید نشت یا سریز داشته باشد و در صورت اجبار به توقف در صورت اضطرار باید راننده وسیله نقلیه را در منتهی الیه سمت راست جاده در محوطه باز دور از پل‌ها، تونل‌ها و تأسیسات رفاهی بین راه متوق کند.\n",
      "مدیرکل مدیریت بحران استانداری اصفهان اضافه کرد: در صورت توقف طولانی مدت وسیله نقلیه و بروز سوانح متصدی حمل و نقل موظف است نسبت به اعزام وسیله نقلیه مناسب به همراه عوامل فنی و تجهیزات برای بار اندازی نسبت به بارگیری وسیله نقلیه معیوب پاکسازی محل حادثه و تخلیه و ایمن سازی محل اقدام کند.\n",
      "وی تصریح کرد: همچنین با هماهنگی اداره راهداری پلیس و محیط زیست، وسیله نقلیه حامل مواد خطرناک باید علاوه بر معاینه فنی معتبر دارای گواهینامه تأیید صلاحیت از مؤسسه معتبر باشند؛ باید وسیله نقلیه مجهز به تجهیزات اطفای حریق باشد و راننده نیز باید تجهیزات حفاظت فردی شامل عینک حفاظتی ماسک دستکش چکمه و … همراه داشته باشند.\n",
      "Link: https://www.mehrnews.com/news/6198027/%D8%AA%D8%A7%D8%AB%DB%8C%D8%B1-%DA%AF%D8%B1%D9%85%D8%A7%DB%8C-%D8%A8%DB%8C-%D8%B3%D8%A7%D8%A8%D9%82%D9%87-%D8%AF%D8%B1-%D8%A7%DB%8C%D8%B1%D8%A7%D9%86\n",
      "Error processing item: Message: no such window\n",
      "  (Session info: chrome=127.0.6533.122)\n",
      "Stacktrace:\n",
      "\tGetHandleVerifier [0x00007FF66EFB9632+30946]\n",
      "\t(No symbol) [0x00007FF66EF6E3C9]\n",
      "\t(No symbol) [0x00007FF66EE66E09]\n",
      "\t(No symbol) [0x00007FF66EEEBAA0]\n",
      "\t(No symbol) [0x00007FF66EEDCA30]\n",
      "\t(No symbol) [0x00007FF66EEAA6E5]\n",
      "\t(No symbol) [0x00007FF66EEAB021]\n",
      "\tGetHandleVerifier [0x00007FF66F0EF83D+1301229]\n",
      "\tGetHandleVerifier [0x00007FF66F0FBDB7+1351783]\n",
      "\tGetHandleVerifier [0x00007FF66F0F2A03+1313971]\n",
      "\tGetHandleVerifier [0x00007FF66EFEDD06+245686]\n",
      "\t(No symbol) [0x00007FF66EF7758F]\n",
      "\t(No symbol) [0x00007FF66EF73804]\n",
      "\t(No symbol) [0x00007FF66EF73992]\n",
      "\t(No symbol) [0x00007FF66EF6A3EF]\n",
      "\tBaseThreadInitThunk [0x00007FFFF3667344+20]\n",
      "\tRtlUserThreadStart [0x00007FFFF49826B1+33]\n",
      "\n",
      "Link: https://www.mehrnews.com/news/6198003/%D8%A7%DB%8C%D8%B1%D8%A7%D9%86-%D8%AF%D8%B1-%D9%84%DB%8C%D8%B3%D8%AA-%DA%AF%D8%B1%D9%85-%D8%AA%D8%B1%DB%8C%D9%86-%DA%A9%D8%B4%D9%88%D8%B1%D9%87%D8%A7%DB%8C-%D8%AC%D9%87%D8%A7%D9%86\n",
      "Extracted Text: محمد حسن نامی در گفت وگو با خبرنگار مهر، پیرامون افزایش شدید دمای هوا در فصل گرم سال جاری و پیامدهای منفی آن بر زندگی مردم ایران و جهان گفت: از ۶۴ مورد مخاطره طبیعی و سوانح انسان ساز که در جهان به وقوع پیوسته تا کنون ۴۴ مورد در کشور ایران رخ داده است که از این موارد می‌توان به زلزله، فرونشست زمین، سیل، رانش زمین، بیماری‌های اپیدمی، موج گرما و موج سرما اشاره کرد.\n",
      "وی با اشاره به وقوع مخاطره محیطی گرمای شدید هوا در فصل گرم سال جاری در ایران ادامه داد: تابستان سال جاری متأثر از پدیده تغییر اقلیم و روند گرمایش جهانی شاهد استقرار موج شدید گرما در نقاط مختلف کشور بودیم که بر اساس همین مخاطره در مردادماه سال جاری و تنها در تهران ۱۱ بار دمای بالای ۴۰ درجه به ثبت رسید که در تاریخ بی سابقه بوده است.\n",
      "رئیس سازمان مدیریت بحران کشور با تاکید بر بی سابقه بودن گرمای هوا در نقاط مختلف کشور در تابستان سال جاری اضافه کرد: بر اساس داده‌های سازمان‌های بین المللی هواشناسی نیز ماه جاری میلادی گرم‌ترین ماه تاریخ اعلام شد و استقرار گنبد حرارتی در منطقه غرب آسیا و به ویژه ایران، افزایش دمای هوا در مناطق مختلف کشور را تشدید کرد.\n",
      "نامی اظهار کرد: همین موضوع باعث شد تا به صورت پیوسته تعداد قابل توجهی از شهرهای ایران در لیست گرم‌ترین شهرهای جهان در تابستان سال جاری قرار بگیرند و به طور نمونه در پانزدهم ماه آگوست سه شهر طبس، امیدیه و دزفول ایران به عنوان گرم‌ترین شهرهای جهان معرفی شدند و این سه شهر در کنار سه شهر دیگر زابل، اهواز و آبادان در لیست ۱۵ شهر گرم جهان قرار گرفتند که اثبات می‌کند شدت افزایش دما در ایران تا چه میزان بالا و مخاطره آمیز بوده است.\n",
      "تهدید سلامت و افزایش مراجعات مردمی به بیمارستان‌ها به ویژه در مناطق گرمسیری\n",
      "معاون وزیر کشور در خصوص تأثیر منفی افزایش دما بر کیفیت زندگی هموطنان در حوزه‌های مختلف بیان کرد: افزایش شدید دما در سال جاری در حوزه‌های مختلف برای کشور مشکلات فراوانی را ایجاد کرد که از جمله آن می‌توان به تهدید سلامت و افزایش بسیار زیاد مراجعات مردمی به بیمارستان‌ها به ویژه در مناطق گرمسیری به دلیل گرمازدگی و افزون بر آن افزایش تعداد و دامنه آتش سوزی‌ها در جنگل‌ها و مراتع کشور اشاره کرد.\n",
      "نامی در ادامه سه عامل افزایش بیشینه و نیز کمینه دمای هوا که به اصطلاح به آن نزدیک شدن دمای شب و روز گفته می‌شود، پایداری گرمای شب و روز و استمرار آن در ماه مرداد را از علل مؤثر بالا رفتن مصرف آب و انرژی برق عنوان کرد.\n",
      "وی در همین رابطه اضافه کرد: حوزه آب و انرژی به ویژه انرژی برق یکی از مهم‌ترین حوزه‌هایی بود که در تابستان سال جاری و به دنبال افزایش شدید دما دچار چالش‌های جدی شد و جدا از بالا رفتن میزان مصرف آب و انرژی، به واسطه همین مخاطره محیطی ضریب حوادث نیروگاهی و توزیع و فوق توزیع برق کشور به شدت افزایش یافت.\n",
      "افزایش دما و چالش در مدیریت ذخایر سدها\n",
      "وی در ادامه بیان کرد: به واسطه افزایش شدید دمای هوا تأمین آب به ویژه مدیریت ذخایر سدها نیز با چالش‌های فراوانی رو به رو شد که البته مدیریت مطلوب وزارت نیرو از بروز هرگونه تنش در این حوزه جلوگیری کرد.\n",
      "رئیس سازمان مدیریت بحران کشور با ابراز رضایت از عملکرد صنعت آب و برق کشور در مدیریت وضعیت فوق العاده پیش آمده و حفظ پایداری شبکه سراسری برق ادامه داد: افزایش شمار حوادث در شبکه سراسری برق و از سوی دیگر افزایش شدید تقاضای مصرف برق به ویژه در بخش خانگی تأمین برق پایدار در کشور را با مشکلات فراوانی رو به رو کرد، اما همکاران صنعت برق با بکارگیری آخرین فناوری‌ها و اقدامات مهندسی عملکرد بسیار خوبی در مدیریت بحران موجود داشتند.\n",
      "تهدید گرمایش جهانی فرصت مناسب برای توسعه کشور در حوزه انرژی برق\n",
      "معاون وزیر کشور با بیان اینکه از جمله اقدامات خوب صورت گرفته در سال‌های گذشته برای مدیریت تأمین انرژی برق در فصل گرم سال توسعه انرژی‌های پاک است، ادامه داد: لازم است در سال‌های آینده نیز اقدامات گسترده ای برای افزایش جذابیت سرمایه گذاری در حوزه انرژی‌های تجدید پذیر صورت بگیرد تا از تهدید گرمایش جهانی که بدون شک در سال‌های آینده نیز ادامه خواهد داشت، فرصت‌های مناسبی برای توسعه کشور در حوزه انرژی برق ایجاد شود.\n",
      "وی با تاکید بر ضرورت افزایش بهره وری در حوزه مصرف و مدیریت مصرف انرژی اضافه کرد: در سال‌های گذشته اتفاق‌های خوبی در حوزه افزایش بهره وری و کاهش هدر رفت انرژی برق مانند توسعه استفاده از لامپ‌های کم مصرف، تولید کولرهای آبی BLDC و طرح‌های تشویقی با هدف صرفه جویی در مصرف برق آغاز شد که نیاز است در سال‌های آینده ادامه پیدا کند.\n",
      "نامی در پایان یادآور شد: با توجه به اینکه پدیده تغییر اقلیم و روند گرمایش جهانی در سال‌های آینده تشدید خواهد شد، لازم است مردم و مسؤولان در کنار یکدیگر با انجام اقداماتی مانند جلوگیری از تخریب محیط زیست، توسعه فضای سبز، ارتقای راندمان مصرف انرژی، توسعه انرژی‌های تجدید پذیر و نظایر آن از تشدید روند گرمایش جهانی در ایران جلوگیری کنند.\n"
     ]
    },
    {
     "ename": "KeyboardInterrupt",
     "evalue": "",
     "output_type": "error",
     "traceback": [
      "\u001b[1;31m---------------------------------------------------------------------------\u001b[0m",
      "\u001b[1;31mKeyboardInterrupt\u001b[0m                         Traceback (most recent call last)",
      "Cell \u001b[1;32mIn [56], line 1\u001b[0m\n\u001b[1;32m----> 1\u001b[0m \u001b[43mgetInfo\u001b[49m\u001b[43m(\u001b[49m\u001b[43m)\u001b[49m\n",
      "Cell \u001b[1;32mIn [55], line 29\u001b[0m, in \u001b[0;36mgetInfo\u001b[1;34m()\u001b[0m\n\u001b[0;32m     26\u001b[0m     \u001b[38;5;28mprint\u001b[39m(\u001b[38;5;124mf\u001b[39m\u001b[38;5;124m\"\u001b[39m\u001b[38;5;124mError extracting article text: \u001b[39m\u001b[38;5;132;01m{\u001b[39;00me\u001b[38;5;132;01m}\u001b[39;00m\u001b[38;5;124m\"\u001b[39m)\n\u001b[0;32m     28\u001b[0m \u001b[38;5;66;03m# بستن تب جدید\u001b[39;00m\n\u001b[1;32m---> 29\u001b[0m \u001b[43mdriver\u001b[49m\u001b[38;5;241;43m.\u001b[39;49m\u001b[43mclose\u001b[49m\u001b[43m(\u001b[49m\u001b[43m)\u001b[49m\n\u001b[0;32m     31\u001b[0m \u001b[38;5;66;03m# برگشت به تب اصلی\u001b[39;00m\n\u001b[0;32m     32\u001b[0m driver\u001b[38;5;241m.\u001b[39mswitch_to\u001b[38;5;241m.\u001b[39mwindow(driver\u001b[38;5;241m.\u001b[39mwindow_handles[\u001b[38;5;241m0\u001b[39m])\n",
      "File \u001b[1;32md:\\Program Files\\lib\\site-packages\\selenium\\webdriver\\remote\\webdriver.py:550\u001b[0m, in \u001b[0;36mWebDriver.close\u001b[1;34m(self)\u001b[0m\n\u001b[0;32m    541\u001b[0m \u001b[38;5;28;01mdef\u001b[39;00m \u001b[38;5;21mclose\u001b[39m(\u001b[38;5;28mself\u001b[39m) \u001b[38;5;241m-\u001b[39m\u001b[38;5;241m>\u001b[39m \u001b[38;5;28;01mNone\u001b[39;00m:\n\u001b[0;32m    542\u001b[0m     \u001b[38;5;124;03m\"\"\"\u001b[39;00m\n\u001b[0;32m    543\u001b[0m \u001b[38;5;124;03m    Closes the current window.\u001b[39;00m\n\u001b[0;32m    544\u001b[0m \n\u001b[1;32m   (...)\u001b[0m\n\u001b[0;32m    548\u001b[0m \u001b[38;5;124;03m            driver.close()\u001b[39;00m\n\u001b[0;32m    549\u001b[0m \u001b[38;5;124;03m    \"\"\"\u001b[39;00m\n\u001b[1;32m--> 550\u001b[0m     \u001b[38;5;28;43mself\u001b[39;49m\u001b[38;5;241;43m.\u001b[39;49m\u001b[43mexecute\u001b[49m\u001b[43m(\u001b[49m\u001b[43mCommand\u001b[49m\u001b[38;5;241;43m.\u001b[39;49m\u001b[43mCLOSE\u001b[49m\u001b[43m)\u001b[49m\n",
      "File \u001b[1;32md:\\Program Files\\lib\\site-packages\\selenium\\webdriver\\remote\\webdriver.py:426\u001b[0m, in \u001b[0;36mWebDriver.execute\u001b[1;34m(self, driver_command, params)\u001b[0m\n\u001b[0;32m    423\u001b[0m         params[\u001b[38;5;124m'\u001b[39m\u001b[38;5;124msessionId\u001b[39m\u001b[38;5;124m'\u001b[39m] \u001b[38;5;241m=\u001b[39m \u001b[38;5;28mself\u001b[39m\u001b[38;5;241m.\u001b[39msession_id\n\u001b[0;32m    425\u001b[0m params \u001b[38;5;241m=\u001b[39m \u001b[38;5;28mself\u001b[39m\u001b[38;5;241m.\u001b[39m_wrap_value(params)\n\u001b[1;32m--> 426\u001b[0m response \u001b[38;5;241m=\u001b[39m \u001b[38;5;28;43mself\u001b[39;49m\u001b[38;5;241;43m.\u001b[39;49m\u001b[43mcommand_executor\u001b[49m\u001b[38;5;241;43m.\u001b[39;49m\u001b[43mexecute\u001b[49m\u001b[43m(\u001b[49m\u001b[43mdriver_command\u001b[49m\u001b[43m,\u001b[49m\u001b[43m \u001b[49m\u001b[43mparams\u001b[49m\u001b[43m)\u001b[49m\n\u001b[0;32m    427\u001b[0m \u001b[38;5;28;01mif\u001b[39;00m response:\n\u001b[0;32m    428\u001b[0m     \u001b[38;5;28mself\u001b[39m\u001b[38;5;241m.\u001b[39merror_handler\u001b[38;5;241m.\u001b[39mcheck_response(response)\n",
      "File \u001b[1;32md:\\Program Files\\lib\\site-packages\\selenium\\webdriver\\remote\\remote_connection.py:344\u001b[0m, in \u001b[0;36mRemoteConnection.execute\u001b[1;34m(self, command, params)\u001b[0m\n\u001b[0;32m    342\u001b[0m data \u001b[38;5;241m=\u001b[39m utils\u001b[38;5;241m.\u001b[39mdump_json(params)\n\u001b[0;32m    343\u001b[0m url \u001b[38;5;241m=\u001b[39m \u001b[38;5;124mf\u001b[39m\u001b[38;5;124m\"\u001b[39m\u001b[38;5;132;01m{\u001b[39;00m\u001b[38;5;28mself\u001b[39m\u001b[38;5;241m.\u001b[39m_url\u001b[38;5;132;01m}\u001b[39;00m\u001b[38;5;132;01m{\u001b[39;00mpath\u001b[38;5;132;01m}\u001b[39;00m\u001b[38;5;124m\"\u001b[39m\n\u001b[1;32m--> 344\u001b[0m \u001b[38;5;28;01mreturn\u001b[39;00m \u001b[38;5;28;43mself\u001b[39;49m\u001b[38;5;241;43m.\u001b[39;49m\u001b[43m_request\u001b[49m\u001b[43m(\u001b[49m\u001b[43mcommand_info\u001b[49m\u001b[43m[\u001b[49m\u001b[38;5;241;43m0\u001b[39;49m\u001b[43m]\u001b[49m\u001b[43m,\u001b[49m\u001b[43m \u001b[49m\u001b[43murl\u001b[49m\u001b[43m,\u001b[49m\u001b[43m \u001b[49m\u001b[43mbody\u001b[49m\u001b[38;5;241;43m=\u001b[39;49m\u001b[43mdata\u001b[49m\u001b[43m)\u001b[49m\n",
      "File \u001b[1;32md:\\Program Files\\lib\\site-packages\\selenium\\webdriver\\remote\\remote_connection.py:366\u001b[0m, in \u001b[0;36mRemoteConnection._request\u001b[1;34m(self, method, url, body)\u001b[0m\n\u001b[0;32m    363\u001b[0m     body \u001b[38;5;241m=\u001b[39m \u001b[38;5;28;01mNone\u001b[39;00m\n\u001b[0;32m    365\u001b[0m \u001b[38;5;28;01mif\u001b[39;00m \u001b[38;5;28mself\u001b[39m\u001b[38;5;241m.\u001b[39mkeep_alive:\n\u001b[1;32m--> 366\u001b[0m     response \u001b[38;5;241m=\u001b[39m \u001b[38;5;28;43mself\u001b[39;49m\u001b[38;5;241;43m.\u001b[39;49m\u001b[43m_conn\u001b[49m\u001b[38;5;241;43m.\u001b[39;49m\u001b[43mrequest\u001b[49m\u001b[43m(\u001b[49m\u001b[43mmethod\u001b[49m\u001b[43m,\u001b[49m\u001b[43m \u001b[49m\u001b[43murl\u001b[49m\u001b[43m,\u001b[49m\u001b[43m \u001b[49m\u001b[43mbody\u001b[49m\u001b[38;5;241;43m=\u001b[39;49m\u001b[43mbody\u001b[49m\u001b[43m,\u001b[49m\u001b[43m \u001b[49m\u001b[43mheaders\u001b[49m\u001b[38;5;241;43m=\u001b[39;49m\u001b[43mheaders\u001b[49m\u001b[43m)\u001b[49m\n\u001b[0;32m    367\u001b[0m     statuscode \u001b[38;5;241m=\u001b[39m response\u001b[38;5;241m.\u001b[39mstatus\n\u001b[0;32m    368\u001b[0m \u001b[38;5;28;01melse\u001b[39;00m:\n",
      "File \u001b[1;32md:\\Program Files\\lib\\site-packages\\urllib3\\request.py:74\u001b[0m, in \u001b[0;36mRequestMethods.request\u001b[1;34m(self, method, url, fields, headers, **urlopen_kw)\u001b[0m\n\u001b[0;32m     71\u001b[0m urlopen_kw[\u001b[38;5;124m\"\u001b[39m\u001b[38;5;124mrequest_url\u001b[39m\u001b[38;5;124m\"\u001b[39m] \u001b[38;5;241m=\u001b[39m url\n\u001b[0;32m     73\u001b[0m \u001b[38;5;28;01mif\u001b[39;00m method \u001b[38;5;129;01min\u001b[39;00m \u001b[38;5;28mself\u001b[39m\u001b[38;5;241m.\u001b[39m_encode_url_methods:\n\u001b[1;32m---> 74\u001b[0m     \u001b[38;5;28;01mreturn\u001b[39;00m \u001b[38;5;28mself\u001b[39m\u001b[38;5;241m.\u001b[39mrequest_encode_url(\n\u001b[0;32m     75\u001b[0m         method, url, fields\u001b[38;5;241m=\u001b[39mfields, headers\u001b[38;5;241m=\u001b[39mheaders, \u001b[38;5;241m*\u001b[39m\u001b[38;5;241m*\u001b[39murlopen_kw\n\u001b[0;32m     76\u001b[0m     )\n\u001b[0;32m     77\u001b[0m \u001b[38;5;28;01melse\u001b[39;00m:\n\u001b[0;32m     78\u001b[0m     \u001b[38;5;28;01mreturn\u001b[39;00m \u001b[38;5;28mself\u001b[39m\u001b[38;5;241m.\u001b[39mrequest_encode_body(\n\u001b[0;32m     79\u001b[0m         method, url, fields\u001b[38;5;241m=\u001b[39mfields, headers\u001b[38;5;241m=\u001b[39mheaders, \u001b[38;5;241m*\u001b[39m\u001b[38;5;241m*\u001b[39murlopen_kw\n\u001b[0;32m     80\u001b[0m     )\n",
      "File \u001b[1;32md:\\Program Files\\lib\\site-packages\\urllib3\\request.py:96\u001b[0m, in \u001b[0;36mRequestMethods.request_encode_url\u001b[1;34m(self, method, url, fields, headers, **urlopen_kw)\u001b[0m\n\u001b[0;32m     93\u001b[0m \u001b[38;5;28;01mif\u001b[39;00m fields:\n\u001b[0;32m     94\u001b[0m     url \u001b[38;5;241m+\u001b[39m\u001b[38;5;241m=\u001b[39m \u001b[38;5;124m\"\u001b[39m\u001b[38;5;124m?\u001b[39m\u001b[38;5;124m\"\u001b[39m \u001b[38;5;241m+\u001b[39m urlencode(fields)\n\u001b[1;32m---> 96\u001b[0m \u001b[38;5;28;01mreturn\u001b[39;00m \u001b[38;5;28mself\u001b[39m\u001b[38;5;241m.\u001b[39murlopen(method, url, \u001b[38;5;241m*\u001b[39m\u001b[38;5;241m*\u001b[39mextra_kw)\n",
      "File \u001b[1;32md:\\Program Files\\lib\\site-packages\\urllib3\\poolmanager.py:376\u001b[0m, in \u001b[0;36mPoolManager.urlopen\u001b[1;34m(self, method, url, redirect, **kw)\u001b[0m\n\u001b[0;32m    374\u001b[0m     response \u001b[38;5;241m=\u001b[39m conn\u001b[38;5;241m.\u001b[39murlopen(method, url, \u001b[38;5;241m*\u001b[39m\u001b[38;5;241m*\u001b[39mkw)\n\u001b[0;32m    375\u001b[0m \u001b[38;5;28;01melse\u001b[39;00m:\n\u001b[1;32m--> 376\u001b[0m     response \u001b[38;5;241m=\u001b[39m conn\u001b[38;5;241m.\u001b[39murlopen(method, u\u001b[38;5;241m.\u001b[39mrequest_uri, \u001b[38;5;241m*\u001b[39m\u001b[38;5;241m*\u001b[39mkw)\n\u001b[0;32m    378\u001b[0m redirect_location \u001b[38;5;241m=\u001b[39m redirect \u001b[38;5;129;01mand\u001b[39;00m response\u001b[38;5;241m.\u001b[39mget_redirect_location()\n\u001b[0;32m    379\u001b[0m \u001b[38;5;28;01mif\u001b[39;00m \u001b[38;5;129;01mnot\u001b[39;00m redirect_location:\n",
      "File \u001b[1;32md:\\Program Files\\lib\\site-packages\\urllib3\\connectionpool.py:703\u001b[0m, in \u001b[0;36mHTTPConnectionPool.urlopen\u001b[1;34m(self, method, url, body, headers, retries, redirect, assert_same_host, timeout, pool_timeout, release_conn, chunked, body_pos, **response_kw)\u001b[0m\n\u001b[0;32m    700\u001b[0m     \u001b[38;5;28mself\u001b[39m\u001b[38;5;241m.\u001b[39m_prepare_proxy(conn)\n\u001b[0;32m    702\u001b[0m \u001b[38;5;66;03m# Make the request on the httplib connection object.\u001b[39;00m\n\u001b[1;32m--> 703\u001b[0m httplib_response \u001b[38;5;241m=\u001b[39m \u001b[38;5;28;43mself\u001b[39;49m\u001b[38;5;241;43m.\u001b[39;49m\u001b[43m_make_request\u001b[49m\u001b[43m(\u001b[49m\n\u001b[0;32m    704\u001b[0m \u001b[43m    \u001b[49m\u001b[43mconn\u001b[49m\u001b[43m,\u001b[49m\n\u001b[0;32m    705\u001b[0m \u001b[43m    \u001b[49m\u001b[43mmethod\u001b[49m\u001b[43m,\u001b[49m\n\u001b[0;32m    706\u001b[0m \u001b[43m    \u001b[49m\u001b[43murl\u001b[49m\u001b[43m,\u001b[49m\n\u001b[0;32m    707\u001b[0m \u001b[43m    \u001b[49m\u001b[43mtimeout\u001b[49m\u001b[38;5;241;43m=\u001b[39;49m\u001b[43mtimeout_obj\u001b[49m\u001b[43m,\u001b[49m\n\u001b[0;32m    708\u001b[0m \u001b[43m    \u001b[49m\u001b[43mbody\u001b[49m\u001b[38;5;241;43m=\u001b[39;49m\u001b[43mbody\u001b[49m\u001b[43m,\u001b[49m\n\u001b[0;32m    709\u001b[0m \u001b[43m    \u001b[49m\u001b[43mheaders\u001b[49m\u001b[38;5;241;43m=\u001b[39;49m\u001b[43mheaders\u001b[49m\u001b[43m,\u001b[49m\n\u001b[0;32m    710\u001b[0m \u001b[43m    \u001b[49m\u001b[43mchunked\u001b[49m\u001b[38;5;241;43m=\u001b[39;49m\u001b[43mchunked\u001b[49m\u001b[43m,\u001b[49m\n\u001b[0;32m    711\u001b[0m \u001b[43m\u001b[49m\u001b[43m)\u001b[49m\n\u001b[0;32m    713\u001b[0m \u001b[38;5;66;03m# If we're going to release the connection in ``finally:``, then\u001b[39;00m\n\u001b[0;32m    714\u001b[0m \u001b[38;5;66;03m# the response doesn't need to know about the connection. Otherwise\u001b[39;00m\n\u001b[0;32m    715\u001b[0m \u001b[38;5;66;03m# it will also try to release it and we'll have a double-release\u001b[39;00m\n\u001b[0;32m    716\u001b[0m \u001b[38;5;66;03m# mess.\u001b[39;00m\n\u001b[0;32m    717\u001b[0m response_conn \u001b[38;5;241m=\u001b[39m conn \u001b[38;5;28;01mif\u001b[39;00m \u001b[38;5;129;01mnot\u001b[39;00m release_conn \u001b[38;5;28;01melse\u001b[39;00m \u001b[38;5;28;01mNone\u001b[39;00m\n",
      "File \u001b[1;32md:\\Program Files\\lib\\site-packages\\urllib3\\connectionpool.py:449\u001b[0m, in \u001b[0;36mHTTPConnectionPool._make_request\u001b[1;34m(self, conn, method, url, timeout, chunked, **httplib_request_kw)\u001b[0m\n\u001b[0;32m    444\u001b[0m             httplib_response \u001b[38;5;241m=\u001b[39m conn\u001b[38;5;241m.\u001b[39mgetresponse()\n\u001b[0;32m    445\u001b[0m         \u001b[38;5;28;01mexcept\u001b[39;00m \u001b[38;5;167;01mBaseException\u001b[39;00m \u001b[38;5;28;01mas\u001b[39;00m e:\n\u001b[0;32m    446\u001b[0m             \u001b[38;5;66;03m# Remove the TypeError from the exception chain in\u001b[39;00m\n\u001b[0;32m    447\u001b[0m             \u001b[38;5;66;03m# Python 3 (including for exceptions like SystemExit).\u001b[39;00m\n\u001b[0;32m    448\u001b[0m             \u001b[38;5;66;03m# Otherwise it looks like a bug in the code.\u001b[39;00m\n\u001b[1;32m--> 449\u001b[0m             \u001b[43msix\u001b[49m\u001b[38;5;241;43m.\u001b[39;49m\u001b[43mraise_from\u001b[49m\u001b[43m(\u001b[49m\u001b[43me\u001b[49m\u001b[43m,\u001b[49m\u001b[43m \u001b[49m\u001b[38;5;28;43;01mNone\u001b[39;49;00m\u001b[43m)\u001b[49m\n\u001b[0;32m    450\u001b[0m \u001b[38;5;28;01mexcept\u001b[39;00m (SocketTimeout, BaseSSLError, SocketError) \u001b[38;5;28;01mas\u001b[39;00m e:\n\u001b[0;32m    451\u001b[0m     \u001b[38;5;28mself\u001b[39m\u001b[38;5;241m.\u001b[39m_raise_timeout(err\u001b[38;5;241m=\u001b[39me, url\u001b[38;5;241m=\u001b[39murl, timeout_value\u001b[38;5;241m=\u001b[39mread_timeout)\n",
      "File \u001b[1;32m<string>:3\u001b[0m, in \u001b[0;36mraise_from\u001b[1;34m(value, from_value)\u001b[0m\n",
      "File \u001b[1;32md:\\Program Files\\lib\\site-packages\\urllib3\\connectionpool.py:444\u001b[0m, in \u001b[0;36mHTTPConnectionPool._make_request\u001b[1;34m(self, conn, method, url, timeout, chunked, **httplib_request_kw)\u001b[0m\n\u001b[0;32m    441\u001b[0m \u001b[38;5;28;01mexcept\u001b[39;00m \u001b[38;5;167;01mTypeError\u001b[39;00m:\n\u001b[0;32m    442\u001b[0m     \u001b[38;5;66;03m# Python 3\u001b[39;00m\n\u001b[0;32m    443\u001b[0m     \u001b[38;5;28;01mtry\u001b[39;00m:\n\u001b[1;32m--> 444\u001b[0m         httplib_response \u001b[38;5;241m=\u001b[39m \u001b[43mconn\u001b[49m\u001b[38;5;241;43m.\u001b[39;49m\u001b[43mgetresponse\u001b[49m\u001b[43m(\u001b[49m\u001b[43m)\u001b[49m\n\u001b[0;32m    445\u001b[0m     \u001b[38;5;28;01mexcept\u001b[39;00m \u001b[38;5;167;01mBaseException\u001b[39;00m \u001b[38;5;28;01mas\u001b[39;00m e:\n\u001b[0;32m    446\u001b[0m         \u001b[38;5;66;03m# Remove the TypeError from the exception chain in\u001b[39;00m\n\u001b[0;32m    447\u001b[0m         \u001b[38;5;66;03m# Python 3 (including for exceptions like SystemExit).\u001b[39;00m\n\u001b[0;32m    448\u001b[0m         \u001b[38;5;66;03m# Otherwise it looks like a bug in the code.\u001b[39;00m\n\u001b[0;32m    449\u001b[0m         six\u001b[38;5;241m.\u001b[39mraise_from(e, \u001b[38;5;28;01mNone\u001b[39;00m)\n",
      "File \u001b[1;32md:\\Program Files\\lib\\http\\client.py:1377\u001b[0m, in \u001b[0;36mHTTPConnection.getresponse\u001b[1;34m(self)\u001b[0m\n\u001b[0;32m   1375\u001b[0m \u001b[38;5;28;01mtry\u001b[39;00m:\n\u001b[0;32m   1376\u001b[0m     \u001b[38;5;28;01mtry\u001b[39;00m:\n\u001b[1;32m-> 1377\u001b[0m         \u001b[43mresponse\u001b[49m\u001b[38;5;241;43m.\u001b[39;49m\u001b[43mbegin\u001b[49m\u001b[43m(\u001b[49m\u001b[43m)\u001b[49m\n\u001b[0;32m   1378\u001b[0m     \u001b[38;5;28;01mexcept\u001b[39;00m \u001b[38;5;167;01mConnectionError\u001b[39;00m:\n\u001b[0;32m   1379\u001b[0m         \u001b[38;5;28mself\u001b[39m\u001b[38;5;241m.\u001b[39mclose()\n",
      "File \u001b[1;32md:\\Program Files\\lib\\http\\client.py:320\u001b[0m, in \u001b[0;36mHTTPResponse.begin\u001b[1;34m(self)\u001b[0m\n\u001b[0;32m    318\u001b[0m \u001b[38;5;66;03m# read until we get a non-100 response\u001b[39;00m\n\u001b[0;32m    319\u001b[0m \u001b[38;5;28;01mwhile\u001b[39;00m \u001b[38;5;28;01mTrue\u001b[39;00m:\n\u001b[1;32m--> 320\u001b[0m     version, status, reason \u001b[38;5;241m=\u001b[39m \u001b[38;5;28;43mself\u001b[39;49m\u001b[38;5;241;43m.\u001b[39;49m\u001b[43m_read_status\u001b[49m\u001b[43m(\u001b[49m\u001b[43m)\u001b[49m\n\u001b[0;32m    321\u001b[0m     \u001b[38;5;28;01mif\u001b[39;00m status \u001b[38;5;241m!=\u001b[39m CONTINUE:\n\u001b[0;32m    322\u001b[0m         \u001b[38;5;28;01mbreak\u001b[39;00m\n",
      "File \u001b[1;32md:\\Program Files\\lib\\http\\client.py:281\u001b[0m, in \u001b[0;36mHTTPResponse._read_status\u001b[1;34m(self)\u001b[0m\n\u001b[0;32m    280\u001b[0m \u001b[38;5;28;01mdef\u001b[39;00m \u001b[38;5;21m_read_status\u001b[39m(\u001b[38;5;28mself\u001b[39m):\n\u001b[1;32m--> 281\u001b[0m     line \u001b[38;5;241m=\u001b[39m \u001b[38;5;28mstr\u001b[39m(\u001b[38;5;28;43mself\u001b[39;49m\u001b[38;5;241;43m.\u001b[39;49m\u001b[43mfp\u001b[49m\u001b[38;5;241;43m.\u001b[39;49m\u001b[43mreadline\u001b[49m\u001b[43m(\u001b[49m\u001b[43m_MAXLINE\u001b[49m\u001b[43m \u001b[49m\u001b[38;5;241;43m+\u001b[39;49m\u001b[43m \u001b[49m\u001b[38;5;241;43m1\u001b[39;49m\u001b[43m)\u001b[49m, \u001b[38;5;124m\"\u001b[39m\u001b[38;5;124miso-8859-1\u001b[39m\u001b[38;5;124m\"\u001b[39m)\n\u001b[0;32m    282\u001b[0m     \u001b[38;5;28;01mif\u001b[39;00m \u001b[38;5;28mlen\u001b[39m(line) \u001b[38;5;241m>\u001b[39m _MAXLINE:\n\u001b[0;32m    283\u001b[0m         \u001b[38;5;28;01mraise\u001b[39;00m LineTooLong(\u001b[38;5;124m\"\u001b[39m\u001b[38;5;124mstatus line\u001b[39m\u001b[38;5;124m\"\u001b[39m)\n",
      "File \u001b[1;32md:\\Program Files\\lib\\socket.py:704\u001b[0m, in \u001b[0;36mSocketIO.readinto\u001b[1;34m(self, b)\u001b[0m\n\u001b[0;32m    702\u001b[0m \u001b[38;5;28;01mwhile\u001b[39;00m \u001b[38;5;28;01mTrue\u001b[39;00m:\n\u001b[0;32m    703\u001b[0m     \u001b[38;5;28;01mtry\u001b[39;00m:\n\u001b[1;32m--> 704\u001b[0m         \u001b[38;5;28;01mreturn\u001b[39;00m \u001b[38;5;28;43mself\u001b[39;49m\u001b[38;5;241;43m.\u001b[39;49m\u001b[43m_sock\u001b[49m\u001b[38;5;241;43m.\u001b[39;49m\u001b[43mrecv_into\u001b[49m\u001b[43m(\u001b[49m\u001b[43mb\u001b[49m\u001b[43m)\u001b[49m\n\u001b[0;32m    705\u001b[0m     \u001b[38;5;28;01mexcept\u001b[39;00m timeout:\n\u001b[0;32m    706\u001b[0m         \u001b[38;5;28mself\u001b[39m\u001b[38;5;241m.\u001b[39m_timeout_occurred \u001b[38;5;241m=\u001b[39m \u001b[38;5;28;01mTrue\u001b[39;00m\n",
      "\u001b[1;31mKeyboardInterrupt\u001b[0m: "
     ]
    }
   ],
   "source": [
    "getInfo()"
   ]
  },
  {
   "cell_type": "code",
   "execution_count": null,
   "id": "c8f14180",
   "metadata": {},
   "outputs": [],
   "source": [
    "\n",
    "\n",
    "def get_pagination_links(driver):\n",
    "    # لیست خالی برای ذخیره لینک‌ها\n",
    "    links = []\n",
    "    \n",
    "    # پیدا کردن عنصر <ul> که شامل کلاس pagination است\n",
    "    pagination_ul = driver.find_element(By.CSS_SELECTOR, 'ul.pagination.pagination-full.pnum')\n",
    "    \n",
    "    # پیدا کردن تمامی عناصر <a> درون <ul>\n",
    "    link_elements = pagination_ul.find_elements(By.TAG_NAME, 'a')\n",
    "    \n",
    "    # استخراج لینک‌ها از هر عنصر <a> و افزودن به لیست\n",
    "    for link_element in link_elements:\n",
    "        href = link_element.get_attribute('href')\n",
    "        links.append(href)\n",
    "    \n",
    "    return links\n",
    "\n",
    "# فرض کنیم driver از قبل راه‌اندازی شده و صفحه مورد نظر باز شده است.\n",
    "# به عنوان مثال:\n",
    "# driver = webdriver.Chrome()\n",
    "# driver.get(\"URL_OF_THE_PAGE\")\n",
    "\n",
    "# فراخوانی تابع\n",
    "links = get_pagination_links(driver)\n",
    "for el in links:\n",
    "    openPage(el)\n",
    "    getInfo()\n",
    "# print(links)\n"
   ]
  },
  {
   "cell_type": "code",
   "execution_count": null,
   "id": "32646796",
   "metadata": {},
   "outputs": [],
   "source": []
  },
  {
   "cell_type": "code",
   "execution_count": null,
   "id": "4cc307f3",
   "metadata": {},
   "outputs": [],
   "source": []
  }
 ],
 "metadata": {
  "kernelspec": {
   "display_name": "Python 3 (ipykernel)",
   "language": "python",
   "name": "python3"
  },
  "language_info": {
   "codemirror_mode": {
    "name": "ipython",
    "version": 3
   },
   "file_extension": ".py",
   "mimetype": "text/x-python",
   "name": "python",
   "nbconvert_exporter": "python",
   "pygments_lexer": "ipython3",
   "version": "3.9.13"
  }
 },
 "nbformat": 4,
 "nbformat_minor": 5
}
