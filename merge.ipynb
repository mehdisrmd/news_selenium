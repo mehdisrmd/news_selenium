{
 "cells": [
  {
   "cell_type": "code",
   "execution_count": 2,
   "metadata": {},
   "outputs": [
    {
     "name": "stdout",
     "output_type": "stream",
     "text": [
      "Process completed. New file saved as 'mergeFinal.xlsx'\n"
     ]
    }
   ],
   "source": [
    "import pandas as pd\n",
    "\n",
    "def merge_columns(input_file):\n",
    "    # Define column indices (E = 4, G = 6)\n",
    "    SOURCE_COL = 6  # Column G\n",
    "    TARGET_COL = 4  # Column E\n",
    "    \n",
    "    # Read the Excel file\n",
    "    df = pd.read_excel(input_file)\n",
    "    \n",
    "    # Get column names for reference\n",
    "    source_col_name = df.columns[SOURCE_COL]\n",
    "    target_col_name = df.columns[TARGET_COL]\n",
    "    \n",
    "    # Create a copy of the DataFrame to avoid the SettingWithCopyWarning\n",
    "    df = df.copy()\n",
    "    \n",
    "    # Iterate through rows (starting from index 1 to skip header)\n",
    "    for index in range(1, len(df)):\n",
    "        # Get values from target and source columns\n",
    "        target_value = str(df.at[index, target_col_name]) if pd.notna(df.at[index, target_col_name]) else ''\n",
    "        source_value = str(df.at[index, source_col_name]) if pd.notna(df.at[index, source_col_name]) else ''\n",
    "        \n",
    "        # If there's data in source column\n",
    "        if source_value and source_value.lower() != 'nan':\n",
    "            # If target column already has data, append source data with a space\n",
    "            if target_value and target_value.lower() != 'nan':\n",
    "                df.at[index, target_col_name] = f\"{target_value} {source_value}\"\n",
    "            else:\n",
    "                # If target column is empty, just copy source data\n",
    "                df.at[index, target_col_name] = source_value\n",
    "    \n",
    "    # Save to new file\n",
    "    df.to_excel('mergeFinal.xlsx', index=False)\n",
    "    print(\"Process completed. New file saved as 'mergeFinal.xlsx'\")\n",
    "\n",
    "# Usage\n",
    "try:\n",
    "    # Replace 'your_file.xlsx' with your actual Excel file name\n",
    "    merge_columns('final_eisar.xlsx')\n",
    "except Exception as e:\n",
    "    print(f\"An error occurred: {str(e)}\")"
   ]
  },
  {
   "cell_type": "code",
   "execution_count": null,
   "metadata": {},
   "outputs": [],
   "source": []
  }
 ],
 "metadata": {
  "kernelspec": {
   "display_name": "Python 3",
   "language": "python",
   "name": "python3"
  },
  "language_info": {
   "codemirror_mode": {
    "name": "ipython",
    "version": 3
   },
   "file_extension": ".py",
   "mimetype": "text/x-python",
   "name": "python",
   "nbconvert_exporter": "python",
   "pygments_lexer": "ipython3",
   "version": "3.10.0"
  }
 },
 "nbformat": 4,
 "nbformat_minor": 2
}
