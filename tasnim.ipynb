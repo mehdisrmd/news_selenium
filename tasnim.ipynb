{
 "cells": [
  {
   "cell_type": "code",
   "execution_count": null,
   "id": "fe4b13c0",
   "metadata": {},
   "outputs": [],
   "source": [
    "from settings import CHROMEDRIVER_PATH\n",
    "from selenium.webdriver.support.ui import WebDriverWait\n",
    "from selenium.webdriver.support import expected_conditions as EC"
   ]
  },
  {
   "cell_type": "code",
   "execution_count": null,
   "id": "e6fb24da",
   "metadata": {},
   "outputs": [],
   "source": [
    "from selenium import webdriver\n",
    "from selenium.webdriver.chrome.service import Service\n",
    "from selenium.webdriver.common.by import By\n",
    "from selenium.webdriver.common.keys import Keys "
   ]
  },
  {
   "cell_type": "code",
   "execution_count": null,
   "id": "9a92d350",
   "metadata": {},
   "outputs": [],
   "source": [
    "service = Service(\"C:/Users/mehdi/Documents/webdrivers/chromedriver.exe\")"
   ]
  },
  {
   "cell_type": "code",
   "execution_count": null,
   "id": "9e8b9d9b",
   "metadata": {},
   "outputs": [],
   "source": [
    "driver = webdriver.Chrome(service=service)  # setup web browser"
   ]
  },
  {
   "cell_type": "code",
   "execution_count": null,
   "id": "3c809d68",
   "metadata": {},
   "outputs": [],
   "source": [
    "url='https://www.tasnimnews.com/fa/news/1398/06/03/2082713/%DA%A9%D8%AA%D8%A7%D8%A8-%D8%B4%D8%B1%D8%AD-%D9%86%D9%87%D8%AC-%D8%A7%D9%84%D8%A8%D9%84%D8%A7%D8%BA%D9%87-%D8%B1%D9%88%D9%86%D9%85%D8%A7%DB%8C%DB%8C-%D8%AE%D9%88%D8%A7%D9%87%D8%AF-%D8%B4%D8%AF'"
   ]
  },
  {
   "cell_type": "code",
   "execution_count": null,
   "id": "80fe2800",
   "metadata": {},
   "outputs": [],
   "source": [
    "def openPage(url):\n",
    "    driver.get(url)#search url"
   ]
  },
  {
   "cell_type": "code",
   "execution_count": null,
   "id": "6bee119d",
   "metadata": {},
   "outputs": [],
   "source": [
    "current_news=''"
   ]
  },
  {
   "cell_type": "code",
   "execution_count": null,
   "id": "e523e666",
   "metadata": {},
   "outputs": [],
   "source": [
    "story_text = driver.find_element(By.CLASS_NAME, 'story')\n",
    "\n",
    "# Print all the paragraph text inside the 'story' container\n",
    "print(story_text.text)"
   ]
  },
  {
   "cell_type": "code",
   "execution_count": null,
   "id": "f0174f07",
   "metadata": {},
   "outputs": [],
   "source": []
  }
 ],
 "metadata": {
  "kernelspec": {
   "display_name": "env",
   "language": "python",
   "name": "python3"
  },
  "language_info": {
   "codemirror_mode": {
    "name": "ipython",
    "version": 3
   },
   "file_extension": ".py",
   "mimetype": "text/x-python",
   "name": "python",
   "nbconvert_exporter": "python",
   "pygments_lexer": "ipython3",
   "version": "3.10.0"
  }
 },
 "nbformat": 4,
 "nbformat_minor": 5
}
